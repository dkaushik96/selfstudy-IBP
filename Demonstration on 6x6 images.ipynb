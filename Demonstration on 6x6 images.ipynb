{
 "cells": [
  {
   "cell_type": "markdown",
   "metadata": {},
   "source": [
    "# Demonstration on 6x6 images"
   ]
  },
  {
   "cell_type": "code",
   "execution_count": 1,
   "metadata": {
    "collapsed": false
   },
   "outputs": [
    {
     "name": "stdout",
     "output_type": "stream",
     "text": [
      "[1 0 0 1]\n"
     ]
    }
   ],
   "source": [
    "import numpy as np\n",
    "\n",
    "print(np.random.choice(2, size=(4,)))"
   ]
  },
  {
   "cell_type": "code",
   "execution_count": 62,
   "metadata": {
    "collapsed": false,
    "scrolled": false
   },
   "outputs": [
    {
     "data": {
      "image/png": "[encoded data removed]",
      "text/plain": [
       "<matplotlib.figure.Figure at 0x7f7bb620f198>"
      ]
     },
     "metadata": {},
     "output_type": "display_data"
    },
    {
     "data": {
      "image/png": "[encoded data removed]",
      "text/plain": [
       "<matplotlib.figure.Figure at 0x7f7bb67467f0>"
      ]
     },
     "metadata": {},
     "output_type": "display_data"
    },
    {
     "data": {
      "image/png": "[encoded data removed]",
      "text/plain": [
       "<matplotlib.figure.Figure at 0x7f7bb6187400>"
      ]
     },
     "metadata": {},
     "output_type": "display_data"
    },
    {
     "data": {
      "image/png": "[encoded data removed]",
      "text/plain": [
       "<matplotlib.figure.Figure at 0x7f7bb66db4e0>"
      ]
     },
     "metadata": {},
     "output_type": "display_data"
    },
    {
     "data": {
      "image/png": "[encoded data removed]",
      "text/plain": [
       "<matplotlib.figure.Figure at 0x7f7bb66c08d0>"
      ]
     },
     "metadata": {},
     "output_type": "display_data"
    },
    {
     "name": "stdout",
     "output_type": "stream",
     "text": [
      "ground_truth_Z\n",
      " [[1 0]\n",
      " [0 0]\n",
      " [1 1]\n",
      " [0 1]\n",
      " [1 1]\n",
      " [0 1]\n",
      " [0 0]\n",
      " [0 1]\n",
      " [0 1]\n",
      " [1 1]]\n"
     ]
    }
   ],
   "source": [
    "import numpy as np\n",
    "import matplotlib.pyplot as plt\n",
    "import math\n",
    "\n",
    "\n",
    "num_classes = 2\n",
    "image_size = 3\n",
    "N = 10\n",
    "num_samples_to_print = 5\n",
    "sigma_X = 0.05\n",
    "\n",
    "class_descriptions = [\n",
    "    {\n",
    "        'sprite': [\n",
    "            [0,1,0],\n",
    "            [1,1,1],\n",
    "            [0,1,0]\n",
    "        ],\n",
    "        'sprite_x': 0,\n",
    "        'sprite_y': 0\n",
    "    },\n",
    "    {\n",
    "        'sprite': [\n",
    "            [1,1,1],\n",
    "            [1,0,1],\n",
    "            [1,1,1]\n",
    "        ],\n",
    "        'sprite_x': 0,\n",
    "        'sprite_y': 0\n",
    "    },\n",
    "    {\n",
    "        'sprite': [\n",
    "            [1,0,0],\n",
    "            [1,1,0],\n",
    "            [1,1,1]\n",
    "        ],\n",
    "        'sprite_x': 0,\n",
    "        'sprite_y': 3\n",
    "    },\n",
    "    {\n",
    "        'sprite': [\n",
    "            [1,1,1],\n",
    "            [0,1,0],\n",
    "            [0,1,0]\n",
    "        ],\n",
    "        'sprite_x': 3,\n",
    "        'sprite_y': 3\n",
    "    }\n",
    "]\n",
    "\n",
    "def class_descriptions_to_class_pics():\n",
    "    class_pics = []\n",
    "    for i, desc in enumerate(class_descriptions):\n",
    "        if i >= num_classes:\n",
    "            break\n",
    "        pic = np.zeros((image_size, image_size), dtype=np.float32)\n",
    "        for dx in range(3):\n",
    "            for dy in range(3):\n",
    "                if desc['sprite'][dy][dx] == 1:\n",
    "                    pic[desc['sprite_y'] + dy, desc['sprite_x'] + dx] = 1.0\n",
    "        class_pics.append(pic)\n",
    "    return class_pics\n",
    "\n",
    "class_pics = class_descriptions_to_class_pics()\n",
    "# print(class_pics)\n",
    "\n",
    "def print_images(titles, images):\n",
    "    plt.figure(1)\n",
    "    num_figures = len(images)\n",
    "    for i, image in enumerate(images):\n",
    "        image_size = image.shape[0]\n",
    "        image_min = np.min(image)\n",
    "        image_max = np.max(image)\n",
    "        image_min = -1\n",
    "        image_max = 2\n",
    "        image_range = image_max - image_min\n",
    "        image = np.maximum(image_min, image)\n",
    "        image = np.minimum(image_max, image)\n",
    "        image = (image - image_min) / image_range\n",
    "        image_rgb = np.zeros((image_size, image_size, 3), dtype=np.float32)\n",
    "        image_rgb[:,:,0] = image\n",
    "        image_rgb[:,:,1] = image\n",
    "        image_rgb[:,:,2] = image\n",
    "        plt.subplot(1, num_figures, i + 1)\n",
    "        plt.imshow(image_rgb, interpolation='nearest')\n",
    "        plt.axis('off')\n",
    "        plt.title(titles[i])\n",
    "    plt.show()\n",
    "\n",
    "def draw_samples(N, class_pics):\n",
    "    samples = []\n",
    "    ground_truth_Z = np.zeros((N, num_classes), dtype=np.int8)\n",
    "    samples_to_print = set(np.random.choice(N, (num_samples_to_print,), replace=False))\n",
    "    for n in range(N):\n",
    "        image = np.zeros((image_size, image_size), dtype=np.float32)\n",
    "        features = np.random.choice(2, size=(num_classes,))\n",
    "        ground_truth_Z[n] = features\n",
    "#         print(features)\n",
    "        for k, v in enumerate(features):\n",
    "            if v == 1:\n",
    "                image += class_pics[k]\n",
    "        image_orig = np.copy(image)\n",
    "#         print_image(image)\n",
    "\n",
    "        noise = np.random.randn(image_size, image_size).astype(np.float32) * sigma_X\n",
    "#         print_image(noise)\n",
    "\n",
    "        image += noise\n",
    "        if n in samples_to_print:\n",
    "#             print(n)\n",
    "            print_images(['orig', 'noise', 'noised image'], [image_orig, noise, image])\n",
    "\n",
    "        samples.append(image)\n",
    "    return samples, ground_truth_Z\n",
    "\n",
    "samples, ground_truth_Z = draw_samples(N, class_pics)\n",
    "print('ground_truth_Z\\n', ground_truth_Z)\n"
   ]
  },
  {
   "cell_type": "code",
   "execution_count": 9,
   "metadata": {
    "collapsed": false
   },
   "outputs": [],
   "source": [
    "Z_columns = []\n",
    "column = np.random.choice(2, (N,))\n",
    "Z_columns.append(column)\n",
    "K_plus = len(Z_columns)\n",
    "# print(Z_columns)\n",
    "M = []\n",
    "M.append(np.sum(Z_columns[0]))\n",
    "# print('M', M)\n",
    "\n",
    "sigma_A = 0.5\n",
    "sigma_X = 1.7\n",
    "alpha = 1.0\n",
    "\n",
    "for it in range(10):\n",
    "    for n in range(N):\n",
    "        k = 0\n",
    "        while k < len(Z_columns):\n",
    "            column = Z_columns[k]\n",
    "            m = M[k]\n",
    "            if m == 1 and column[n] == 1:\n",
    "                # means that m_{-i} is zero\n",
    "                # so, delete the column\n",
    "                del Z_columns[k]\n",
    "                del M[k]\n",
    "                k -= 1\n",
    "            else:\n",
    "                # M_{-i} > 0\n",
    "                # what do we do now???\n",
    "                pass\n",
    "\n",
    "            k += 1\n",
    "\n",
    "# note that this code block wont do anything useful :-)  I abandoned it.\n",
    "# A new one, based on this, is much lower down this page."
   ]
  },
  {
   "cell_type": "markdown",
   "metadata": {},
   "source": [
    "## Interlude: accelerated gibbs sampling\n",
    "\n",
    "At this point, I looked at the tutorial's equation 22.  But there's a proportional-to sign, $\\propto$.  How to handle this?  Since I'm not trying to do this research from scratch, just reproduce/understand the existing research, I reached out to Mr Google, to look for more explanations.  I found the following video, from Finale Doshi-Velez, which I'm going to interlude out to now.  The interlude is at: [accelerated_gibbs_samplings.ipynb](accelerated_gibbs_sampling.ipynb).\n"
   ]
  },
  {
   "cell_type": "markdown",
   "metadata": {},
   "source": [
    "## Demonstration on 6x6 images, revisited\n",
    "\n",
    "### Challenge: sampling from non-normalized distribution?\n",
    "\n",
    "From reaching out to Doshi-Velez's presentation, it looks like we can sample a distribution that is only provided in proportionality, as long as it has a shape, which is well-defined, that we know how to sample from, ie typically a Gaussian.  There are probably other ways of handling other distributions, but a Gaussian should be reasonably straightforward to sample from, if we can get the distribution in that form.  Let's reach right back to the first section, and see what distribution(s) we need to sample from.\n",
    "\n",
    "Equation 22 from the Griffiths and Ghahramani tutorial states:\n",
    "\n",
    "$$\n",
    "P(z_{ik} \\mid \\mathbf{X}, \\mathbf{Z}_{-(i,k)}, \\sigma_X, \\sigma_A)\n",
    "\\propto\n",
    "p(\\mathbf{X} \\mid \\mathbf{Z}, \\sigma_X, \\sigma_A)\n",
    "\\,\n",
    "P(z_{ik} \\mid \\mathbf{z}_{-i,k})\n",
    "$$"
   ]
  },
  {
   "cell_type": "markdown",
   "metadata": {},
   "source": [
    "The first term of this equation, ie the likelihood of $\\mathbf{X}$, given the latent variables, and the hyper-parameters, is a Gaussian.  For the finite model, $P(z_{ik} \\mid \\mathbf{Z}_{-i,k})$ is given by equation 17 in the tutorial:\n",
    "\n",
    "$$\n",
    "P(z_{ik} = 1 \\mid \\mathbf{z}_{-i,k})\n",
    "= \\frac{m_{-i,k} + \\frac{\\alpha}{K}}\n",
    "  {N + \\frac{\\alpha}{K}}\n",
    "$$\n",
    "\n",
    "This seems not to be a Gaussian.  How to sample from the product of a Gaussian and this term?"
   ]
  },
  {
   "cell_type": "markdown",
   "metadata": {},
   "source": [
    "### Interlude: is the product of two normalized distributions also normalized?\n",
    "\n",
    "Brainstorming a bit, we could sample from the Gaussian, which we could normalize first, and then multiply by $p(z_{ik} = 1 \\mid \\mathbf{z}_{-i,k})$.  Is it fair to say that the product of two normalized probability functions will be normalized?  Probably not, eg we could have the following two distributions:\n",
    "\n",
    "$$\n",
    "f(x) = 1\n",
    "\\mathrm{\\,when\\,} x \\ge 0 \\mathrm{\\,and\\,} x \\le 1 \\\\ \n",
    "= 0 \\mathrm{\\, otherwise}\n",
    "$$\n",
    "\n",
    "(which integrates to 1), and:\n",
    "\n",
    "$$\n",
    "g(x) = 1\n",
    "\\mathrm{\\,when\\,} x \\ge 2 \\mathrm{\\,and\\,} x \\le 3 \\\\ \n",
    "= 0 \\mathrm{\\, otherwise}\n",
    "$$\n",
    "\n",
    "... which integrates to 1 too.  But their product integrates to 0."
   ]
  },
  {
   "cell_type": "markdown",
   "metadata": {},
   "source": [
    "### Integrate the un-normalized distribution over $z_{ik}$?\n",
    "\n",
    "Actually, the equation for the probaiblty of $z_{ik} = 1$ is not actually a probability distribution: it's the value of this probaiblity for one specific value of $z_{ik}$, ie $1$."
   ]
  },
  {
   "cell_type": "markdown",
   "metadata": {},
   "source": [
    "Let's try integrating over $c \\cdot p(\\mathbf{X} \\mid \\mathbf{Z}, \\sigma_X, \\sigma_A) \\cdot P(z_{ik} \\mid \\mathbf{z}_{-i,k})$ $z_{ik}$, using a probability distribution of $z_{ik}$, rather than just one specific value, and where $c$ is a constant of normalization, that will make the integrant integrate to $1$.\n",
    "\n",
    "$$\n",
    "\\int\n",
    "c\n",
    "\\cdot\n",
    "P(\\mathbf{X} \\mid \\mathbf{Z}, \\sigma_X, \\sigma_A)\n",
    "\\cdot\n",
    "P(z_{ik})\n",
    "\\,\n",
    "dz_{ik}\n",
    "$$\n",
    "\n",
    "And since $z_{ik}$ is discrete, ie $z_{ik} \\in \\{0, 1\\}$, then we can rewrite the integral as a sum:\n",
    "\n",
    "$$\n",
    "=\n",
    "c\n",
    "\\sum_{z_{ik}=0}^1\n",
    "\\left(\n",
    "    P(\\mathbf{X} \\mid \\mathbf{Z}, \\sigma_X, \\sigma_A)\n",
    "    \\cdot\n",
    "    P(z_{ik})\n",
    "\\right)\n",
    "$$\n",
    "&nbsp;\n",
    "\n",
    "$$\n",
    "=\n",
    "c\n",
    "\\sum_{z_{ik}=0}^1\n",
    "\\left(\n",
    "    \\mathcal{N}(\\mathbf{X}; \\mu_{\\mathbf{Z}, \\sigma_A, \\sigma_X}, \\Sigma_{\\mathbf{Z}, \\sigma_A, \\sigma_X})\n",
    "    \\cdot\n",
    "    P(z_{ik})\n",
    "\\right)\n",
    "$$\n",
    "\n"
   ]
  },
  {
   "cell_type": "markdown",
   "metadata": {},
   "source": [
    "So, it seems like maybe we can simply calculate the value of the gaussian, for $z_{ik} \\in \\{0, 1\\}$, and multiply by $P(z_{ik} \\mid \\mathbf{z}_{-i,k})$, each time; and then normalize the sum of these two products?  Just to imagine this a bit, let's say we have:"
   ]
  },
  {
   "cell_type": "code",
   "execution_count": 6,
   "metadata": {
    "collapsed": false
   },
   "outputs": [
    {
     "name": "stdout",
     "output_type": "stream",
     "text": [
      "[0.024, 0.004]\n",
      "normalized p_zik_given_X_Z [ 0.85714286  0.14285714]\n"
     ]
    }
   ],
   "source": [
    "import numpy as np\n",
    "\n",
    "p_X_given_Z = [0.03, 0.02]  # pretend Gaussian samples, not normalized\n",
    "p_zik_given_Z_minus = [0.8, 0.2]  # normalized, sum to 1.0\n",
    "\n",
    "#Then\n",
    "p_zik_given_X_Z = [0] * 2\n",
    "for zik in [0, 1]:\n",
    "    p_zik_given_X_Z[zik] = p_X_given_Z[zik] * p_zik_given_Z_minus[zik]\n",
    "\n",
    "print(p_zik_given_X_Z)\n",
    "\n",
    "# normalize\n",
    "p_zik_given_X_Z /= np.sum(p_zik_given_X_Z)\n",
    "print('normalized p_zik_given_X_Z', p_zik_given_X_Z)\n"
   ]
  },
  {
   "cell_type": "markdown",
   "metadata": {},
   "source": [
    "So, the normalized values, with this toy data, are influenced by both the likelihood, and by the prior.\n",
    "\n",
    "Let's run with this."
   ]
  },
  {
   "cell_type": "code",
   "execution_count": 79,
   "metadata": {
    "collapsed": false,
    "scrolled": false
   },
   "outputs": [
    {
     "name": "stdout",
     "output_type": "stream",
     "text": [
      "X.shape (10, 9)\n",
      "X\n",
      " [[ -8.520e-02   9.919e-01   3.585e-02   9.925e-01   1.020e+00   1.108e+00\n",
      "   -2.269e-02   1.036e+00   4.922e-02]\n",
      " [  1.637e-02  -3.918e-02  -2.238e-02  -4.044e-02   1.326e-02  -1.846e-02\n",
      "    2.050e-02   4.728e-02  -5.241e-02]\n",
      " [  1.051e+00   1.872e+00   9.664e-01   1.927e+00   9.913e-01   1.954e+00\n",
      "    9.584e-01   2.001e+00   1.021e+00]\n",
      " [  9.155e-01   9.922e-01   1.005e+00   1.020e+00  -8.981e-02   1.006e+00\n",
      "    9.672e-01   9.871e-01   1.059e+00]\n",
      " [  1.016e+00   2.072e+00   9.675e-01   2.053e+00   9.706e-01   2.051e+00\n",
      "    9.468e-01   2.041e+00   9.737e-01]\n",
      " [  1.087e+00   9.277e-01   9.974e-01   9.928e-01  -3.922e-02   9.651e-01\n",
      "    1.016e+00   9.955e-01   1.023e+00]\n",
      " [ -4.365e-02  -6.908e-02   1.041e-01  -2.510e-02   3.615e-02  -5.021e-02\n",
      "    4.404e-02   1.231e-02  -1.609e-03]\n",
      " [  9.777e-01   1.016e+00   9.867e-01   9.856e-01  -8.061e-04   1.008e+00\n",
      "    8.511e-01   9.816e-01   1.040e+00]\n",
      " [  9.768e-01   9.430e-01   9.613e-01   1.057e+00   2.952e-02   1.022e+00\n",
      "    9.938e-01   1.081e+00   1.002e+00]\n",
      " [  1.012e+00   2.087e+00   9.591e-01   2.026e+00   9.630e-01   1.968e+00\n",
      "    9.924e-01   2.003e+00   1.098e+00]]\n",
      "ground truth Z\n",
      " [[1 0]\n",
      " [0 0]\n",
      " [1 1]\n",
      " [0 1]\n",
      " [1 1]\n",
      " [0 1]\n",
      " [0 0]\n",
      " [0 1]\n",
      " [0 1]\n",
      " [1 1]]\n",
      "it 10\n",
      "[[ 1.  1.  0.]\n",
      " [ 1.  1.  0.]\n",
      " [ 1.  1.  0.]\n",
      " [ 0.  1.  1.]\n",
      " [ 1.  1.  0.]\n",
      " [ 1.  1.  0.]\n",
      " [ 1.  1.  0.]\n",
      " [ 1.  1.  0.]\n",
      " [ 1.  1.  0.]\n",
      " [ 1.  1.  0.]]\n",
      "E_A.shape (3, 9)\n"
     ]
    },
    {
     "data": {
      "image/png": "[encoded data removed]",
      "text/plain": [
       "<matplotlib.figure.Figure at 0x7f7bb6573978>"
      ]
     },
     "metadata": {},
     "output_type": "display_data"
    },
    {
     "data": {
      "image/png": "[encoded data removed]",
      "text/plain": [
       "<matplotlib.figure.Figure at 0x7f7bb5d4dda0>"
      ]
     },
     "metadata": {},
     "output_type": "display_data"
    },
    {
     "data": {
      "image/png": "[encoded data removed]",
      "text/plain": [
       "<matplotlib.figure.Figure at 0x7f7bb87fa5f8>"
      ]
     },
     "metadata": {},
     "output_type": "display_data"
    },
    {
     "name": "stdout",
     "output_type": "stream",
     "text": [
      "expected_A\n",
      " [[ 0.187  0.316  0.183  0.322  0.14   0.323  0.179  0.33   0.189]\n",
      " [ 0.241  0.366  0.244  0.373  0.123  0.374  0.237  0.379  0.253]\n",
      " [ 0.054  0.05   0.061  0.051 -0.017  0.05   0.058  0.048  0.064]]\n",
      "it 20\n",
      "[[ 1.  1.  0.  1.  0.]\n",
      " [ 1.  0.  0.  1.  0.]\n",
      " [ 1.  1.  1.  1.  1.]\n",
      " [ 1.  0.  0.  0.  0.]\n",
      " [ 1.  1.  0.  0.  1.]\n",
      " [ 1.  1.  0.  1.  0.]\n",
      " [ 1.  1.  0.  1.  0.]\n",
      " [ 1.  1.  0.  0.  1.]\n",
      " [ 1.  1.  0.  0.  1.]\n",
      " [ 1.  1.  0.  1.  0.]]\n",
      "E_A.shape (5, 9)\n"
     ]
    },
    {
     "data": {
      "image/png": "[encoded data removed]",
      "text/plain": [
       "<matplotlib.figure.Figure at 0x7f7bb5f9e0f0>"
      ]
     },
     "metadata": {},
     "output_type": "display_data"
    },
    {
     "data": {
      "image/png": "[encoded data removed]",
      "text/plain": [
       "<matplotlib.figure.Figure at 0x7f7bb5f59278>"
      ]
     },
     "metadata": {},
     "output_type": "display_data"
    },
    {
     "data": {
      "image/png": "[encoded data removed]",
      "text/plain": [
       "<matplotlib.figure.Figure at 0x7f7bb5dccba8>"
      ]
     },
     "metadata": {},
     "output_type": "display_data"
    },
    {
     "data": {
      "image/png": "[encoded data removed]",
      "text/plain": [
       "<matplotlib.figure.Figure at 0x7f7bb5f1de80>"
      ]
     },
     "metadata": {},
     "output_type": "display_data"
    },
    {
     "data": {
      "image/png": "[encoded data removed]",
      "text/plain": [
       "<matplotlib.figure.Figure at 0x7f7bd00f1198>"
      ]
     },
     "metadata": {},
     "output_type": "display_data"
    },
    {
     "name": "stdout",
     "output_type": "stream",
     "text": [
      "expected_A\n",
      " [[ 0.215  0.315  0.219  0.32   0.094  0.321  0.213  0.325  0.227]\n",
      " [ 0.175  0.297  0.175  0.302  0.125  0.301  0.168  0.304  0.182]\n",
      " [ 0.037  0.074  0.031  0.077  0.049  0.079  0.032  0.081  0.034]\n",
      " [ 0.039  0.12   0.038  0.123  0.096  0.125  0.041  0.133  0.039]\n",
      " [ 0.153  0.21   0.144  0.214  0.062  0.215  0.138  0.217  0.15 ]]\n",
      "it 30\n",
      "[[ 1.  1.  1.]\n",
      " [ 1.  1.  1.]\n",
      " [ 1.  1.  1.]\n",
      " [ 1.  1.  1.]\n",
      " [ 1.  1.  1.]\n",
      " [ 1.  1.  1.]\n",
      " [ 1.  0.  1.]\n",
      " [ 1.  1.  1.]\n",
      " [ 1.  1.  1.]\n",
      " [ 1.  1.  1.]]\n",
      "E_A.shape (3, 9)\n"
     ]
    },
    {
     "data": {
      "image/png": "[encoded data removed]",
      "text/plain": [
       "<matplotlib.figure.Figure at 0x7f7bb6185048>"
      ]
     },
     "metadata": {},
     "output_type": "display_data"
    },
    {
     "data": {
      "image/png": "[encoded data removed]",
      "text/plain": [
       "<matplotlib.figure.Figure at 0x7f7bb6548b00>"
      ]
     },
     "metadata": {},
     "output_type": "display_data"
    },
    {
     "data": {
      "image/png": "[encoded data removed]",
      "text/plain": [
       "<matplotlib.figure.Figure at 0x7f7bb639fcc0>"
      ]
     },
     "metadata": {},
     "output_type": "display_data"
    },
    {
     "name": "stdout",
     "output_type": "stream",
     "text": [
      "expected_A\n",
      " [[ 0.164  0.255  0.167  0.26   0.093  0.261  0.161  0.266  0.171]\n",
      " [ 0.196  0.305  0.187  0.308  0.106  0.31   0.186  0.311  0.201]\n",
      " [ 0.164  0.255  0.167  0.26   0.093  0.261  0.161  0.266  0.171]]\n",
      "it 40\n",
      "[[ 1.  1.  0.  0.  0.  0.  0.]\n",
      " [ 1.  0.  1.  1.  0.  0.  0.]\n",
      " [ 1.  0.  1.  1.  1.  0.  0.]\n",
      " [ 1.  0.  1.  0.  0.  0.  0.]\n",
      " [ 1.  1.  1.  0.  0.  1.  0.]\n",
      " [ 1.  1.  0.  1.  0.  1.  0.]\n",
      " [ 1.  1.  1.  0.  0.  0.  0.]\n",
      " [ 1.  0.  1.  0.  0.  0.  0.]\n",
      " [ 1.  0.  0.  0.  0.  0.  1.]\n",
      " [ 1.  0.  1.  1.  0.  0.  0.]]\n",
      "E_A.shape (7, 9)\n"
     ]
    },
    {
     "data": {
      "image/png": "[encoded data removed]",
      "text/plain": [
       "<matplotlib.figure.Figure at 0x7f7bb5f7bf60>"
      ]
     },
     "metadata": {},
     "output_type": "display_data"
    },
    {
     "data": {
      "image/png": "[encoded data removed]",
      "text/plain": [
       "<matplotlib.figure.Figure at 0x7f7bb5c15dd8>"
      ]
     },
     "metadata": {},
     "output_type": "display_data"
    },
    {
     "data": {
      "image/png": "[encoded data removed]",
      "text/plain": [
       "<matplotlib.figure.Figure at 0x7f7bb67cb4a8>"
      ]
     },
     "metadata": {},
     "output_type": "display_data"
    },
    {
     "data": {
      "image/png": "[encoded data removed]",
      "text/plain": [
       "<matplotlib.figure.Figure at 0x7f7bb5c0cdd8>"
      ]
     },
     "metadata": {},
     "output_type": "display_data"
    },
    {
     "data": {
      "image/png": "[encoded data removed]",
      "text/plain": [
       "<matplotlib.figure.Figure at 0x7f7bb6663160>"
      ]
     },
     "metadata": {},
     "output_type": "display_data"
    },
    {
     "data": {
      "image/png": "[encoded data removed]",
      "text/plain": [
       "<matplotlib.figure.Figure at 0x7f7bb5f1a4e0>"
      ]
     },
     "metadata": {},
     "output_type": "display_data"
    },
    {
     "data": {
      "image/png": "[encoded data removed]",
      "text/plain": [
       "<matplotlib.figure.Figure at 0x7f7bb5f97eb8>"
      ]
     },
     "metadata": {},
     "output_type": "display_data"
    },
    {
     "name": "stdout",
     "output_type": "stream",
     "text": [
      "expected_A\n",
      " [[ 0.234  0.356  0.238  0.364  0.121  0.366  0.23   0.37   0.247]\n",
      " [ 0.028  0.103  0.038  0.107  0.078  0.111  0.032  0.11   0.03 ]\n",
      " [ 0.151  0.246  0.153  0.243  0.086  0.24   0.145  0.246  0.158]\n",
      " [ 0.103  0.152  0.085  0.154  0.066  0.151  0.095  0.161  0.094]\n",
      " [ 0.045  0.089  0.039  0.093  0.057  0.095  0.039  0.098  0.042]\n",
      " [ 0.098  0.124  0.087  0.126  0.028  0.123  0.088  0.123  0.088]\n",
      " [ 0.059  0.047  0.058  0.055 -0.007  0.052  0.061  0.057  0.06 ]]\n",
      "it 50\n",
      "[[ 0.  1.  1.  1.  1.  0.  0.  0.]\n",
      " [ 0.  1.  1.  0.  1.  0.  1.  0.]\n",
      " [ 0.  1.  1.  0.  1.  0.  0.  0.]\n",
      " [ 0.  1.  1.  1.  1.  0.  1.  0.]\n",
      " [ 0.  0.  1.  1.  1.  0.  0.  0.]\n",
      " [ 0.  0.  1.  0.  1.  1.  0.  1.]\n",
      " [ 1.  1.  1.  1.  0.  0.  0.  1.]\n",
      " [ 0.  1.  0.  1.  1.  0.  0.  0.]\n",
      " [ 0.  0.  0.  0.  0.  0.  0.  1.]\n",
      " [ 0.  1.  1.  1.  1.  0.  0.  0.]]\n",
      "E_A.shape (8, 9)\n"
     ]
    },
    {
     "data": {
      "image/png": "[encoded data removed]",
      "text/plain": [
       "<matplotlib.figure.Figure at 0x7f7bb5f35400>"
      ]
     },
     "metadata": {},
     "output_type": "display_data"
    },
    {
     "data": {
      "image/png": "[encoded data removed]",
      "text/plain": [
       "<matplotlib.figure.Figure at 0x7f7bb5d66b38>"
      ]
     },
     "metadata": {},
     "output_type": "display_data"
    },
    {
     "data": {
      "image/png": "[encoded data removed]",
      "text/plain": [
       "<matplotlib.figure.Figure at 0x7f7bb65cb4e0>"
      ]
     },
     "metadata": {},
     "output_type": "display_data"
    },
    {
     "data": {
      "image/png": "[encoded data removed]",
      "text/plain": [
       "<matplotlib.figure.Figure at 0x7f7bb6731cc0>"
      ]
     },
     "metadata": {},
     "output_type": "display_data"
    },
    {
     "data": {
      "image/png": "[encoded data removed]",
      "text/plain": [
       "<matplotlib.figure.Figure at 0x7f7bb639ee80>"
      ]
     },
     "metadata": {},
     "output_type": "display_data"
    },
    {
     "data": {
      "image/png": "[encoded data removed]",
      "text/plain": [
       "<matplotlib.figure.Figure at 0x7f7bb5f0be80>"
      ]
     },
     "metadata": {},
     "output_type": "display_data"
    },
    {
     "data": {
      "image/png": "[encoded data removed]",
      "text/plain": [
       "<matplotlib.figure.Figure at 0x7f7bb61a3cf8>"
      ]
     },
     "metadata": {},
     "output_type": "display_data"
    },
    {
     "data": {
      "image/png": "[encoded data removed]",
      "text/plain": [
       "<matplotlib.figure.Figure at 0x7f7bb652dc18>"
      ]
     },
     "metadata": {},
     "output_type": "display_data"
    },
    {
     "name": "stdout",
     "output_type": "stream",
     "text": [
      "expected_A\n",
      " [[-0.034 -0.056 -0.024 -0.053 -0.016 -0.055 -0.028 -0.051 -0.033]\n",
      " [ 0.07   0.135  0.08   0.136  0.066  0.14   0.071  0.143  0.084]\n",
      " [ 0.122  0.242  0.121  0.247  0.125  0.247  0.123  0.253  0.123]\n",
      " [ 0.098  0.206  0.114  0.202  0.083  0.202  0.1    0.197  0.118]\n",
      " [ 0.208  0.328  0.197  0.328  0.118  0.331  0.193  0.331  0.21 ]\n",
      " [ 0.053  0.025  0.046  0.028 -0.02   0.026  0.048  0.028  0.048]\n",
      " [ 0.002 -0.049  0.005 -0.047 -0.057 -0.048  0.008 -0.046  0.004]\n",
      " [ 0.095  0.047  0.097  0.061 -0.031  0.055  0.098  0.064  0.093]]\n",
      "it 60\n",
      "[[ 0.  1.  0.]\n",
      " [ 1.  1.  0.]\n",
      " [ 1.  1.  0.]\n",
      " [ 1.  1.  1.]\n",
      " [ 1.  1.  0.]\n",
      " [ 1.  1.  0.]\n",
      " [ 0.  1.  0.]\n",
      " [ 1.  1.  1.]\n",
      " [ 1.  1.  0.]\n",
      " [ 1.  1.  0.]]\n",
      "E_A.shape (3, 9)\n"
     ]
    },
    {
     "data": {
      "image/png": "[encoded data removed]",
      "text/plain": [
       "<matplotlib.figure.Figure at 0x7f7bb5f96be0>"
      ]
     },
     "metadata": {},
     "output_type": "display_data"
    },
    {
     "data": {
      "image/png": "[encoded data removed]",
      "text/plain": [
       "<matplotlib.figure.Figure at 0x7f7bb5f2ec18>"
      ]
     },
     "metadata": {},
     "output_type": "display_data"
    },
    {
     "data": {
      "image/png": "[encoded data removed]",
      "text/plain": [
       "<matplotlib.figure.Figure at 0x7f7bb87f0a58>"
      ]
     },
     "metadata": {},
     "output_type": "display_data"
    },
    {
     "name": "stdout",
     "output_type": "stream",
     "text": [
      "expected_A\n",
      " [[ 0.265  0.35   0.25   0.355  0.087  0.351  0.25   0.358  0.264]\n",
      " [ 0.216  0.367  0.223  0.374  0.152  0.377  0.215  0.383  0.229]\n",
      " [ 0.069  0.042  0.077  0.04  -0.042  0.041  0.065  0.036  0.082]]\n",
      "it 70\n",
      "[[ 1.  0.  0.  0.]\n",
      " [ 1.  1.  0.  1.]\n",
      " [ 1.  1.  0.  0.]\n",
      " [ 1.  0.  1.  0.]\n",
      " [ 1.  0.  1.  0.]\n",
      " [ 1.  1.  1.  0.]\n",
      " [ 0.  1.  1.  0.]\n",
      " [ 0.  0.  0.  0.]\n",
      " [ 1.  0.  0.  1.]\n",
      " [ 1.  0.  0.  0.]]\n",
      "E_A.shape (4, 9)\n"
     ]
    },
    {
     "data": {
      "image/png": "[encoded data removed]",
      "text/plain": [
       "<matplotlib.figure.Figure at 0x7f7bb6591748>"
      ]
     },
     "metadata": {},
     "output_type": "display_data"
    },
    {
     "data": {
      "image/png": "[encoded data removed]",
      "text/plain": [
       "<matplotlib.figure.Figure at 0x7f7bb5c00160>"
      ]
     },
     "metadata": {},
     "output_type": "display_data"
    },
    {
     "data": {
      "image/png": "[encoded data removed]",
      "text/plain": [
       "<matplotlib.figure.Figure at 0x7f7bb5d2ab00>"
      ]
     },
     "metadata": {},
     "output_type": "display_data"
    },
    {
     "data": {
      "image/png": "[encoded data removed]",
      "text/plain": [
       "<matplotlib.figure.Figure at 0x7f7bb5c0fcc0>"
      ]
     },
     "metadata": {},
     "output_type": "display_data"
    },
    {
     "name": "stdout",
     "output_type": "stream",
     "text": [
      "expected_A\n",
      " [[ 0.273  0.471  0.267  0.477  0.194  0.48   0.268  0.484  0.284]\n",
      " [ 0.064  0.063  0.061  0.071  0.027  0.071  0.061  0.083  0.054]\n",
      " [ 0.13   0.153  0.138  0.158  0.016  0.154  0.132  0.155  0.135]\n",
      " [ 0.028 -0.007  0.025 -0.001 -0.027 -0.002  0.031  0.006  0.024]]\n",
      "it 80\n",
      "[[ 1.  1.  1.  0.  0.  0.]\n",
      " [ 0.  1.  1.  0.  0.  0.]\n",
      " [ 0.  1.  1.  1.  0.  0.]\n",
      " [ 0.  1.  1.  0.  1.  1.]\n",
      " [ 0.  1.  1.  0.  0.  0.]\n",
      " [ 0.  0.  1.  0.  0.  0.]\n",
      " [ 0.  1.  1.  0.  0.  0.]\n",
      " [ 1.  1.  1.  0.  0.  0.]\n",
      " [ 0.  1.  1.  0.  0.  0.]\n",
      " [ 0.  1.  1.  0.  1.  1.]]\n",
      "E_A.shape (6, 9)\n"
     ]
    },
    {
     "data": {
      "image/png": "[encoded data removed]",
      "text/plain": [
       "<matplotlib.figure.Figure at 0x7f7bb67c4c88>"
      ]
     },
     "metadata": {},
     "output_type": "display_data"
    },
    {
     "data": {
      "image/png": "[encoded data removed]",
      "text/plain": [
       "<matplotlib.figure.Figure at 0x7f7bb5ffc668>"
      ]
     },
     "metadata": {},
     "output_type": "display_data"
    },
    {
     "data": {
      "image/png": "[encoded data removed]",
      "text/plain": [
       "<matplotlib.figure.Figure at 0x7f7bb67e4668>"
      ]
     },
     "metadata": {},
     "output_type": "display_data"
    },
    {
     "data": {
      "image/png": "[encoded data removed]",
      "text/plain": [
       "<matplotlib.figure.Figure at 0x7f7bb5f3a3c8>"
      ]
     },
     "metadata": {},
     "output_type": "display_data"
    },
    {
     "data": {
      "image/png": "[encoded data removed]",
      "text/plain": [
       "<matplotlib.figure.Figure at 0x7f7bb61222b0>"
      ]
     },
     "metadata": {},
     "output_type": "display_data"
    },
    {
     "data": {
      "image/png": "[encoded data removed]",
      "text/plain": [
       "<matplotlib.figure.Figure at 0x7f7bb66cc240>"
      ]
     },
     "metadata": {},
     "output_type": "display_data"
    },
    {
     "name": "stdout",
     "output_type": "stream",
     "text": [
      "expected_A\n",
      " [[ 0.007  0.053  0.016  0.049  0.039  0.059  0.003  0.05   0.019]\n",
      " [ 0.163  0.296  0.169  0.299  0.129  0.302  0.162  0.307  0.174]\n",
      " [ 0.237  0.346  0.235  0.355  0.116  0.355  0.23   0.361  0.242]\n",
      " [ 0.052  0.098  0.045  0.101  0.059  0.103  0.045  0.106  0.048]\n",
      " [ 0.072  0.115  0.074  0.112  0.025  0.107  0.076  0.106  0.085]\n",
      " [ 0.072  0.115  0.074  0.112  0.025  0.107  0.076  0.106  0.085]]\n",
      "it 90\n",
      "[[ 0.  0.  1.  1.  0.  1.  0.  0.  0.]\n",
      " [ 1.  0.  1.  1.  0.  1.  0.  0.  0.]\n",
      " [ 0.  0.  1.  1.  0.  0.  1.  0.  0.]\n",
      " [ 1.  0.  1.  1.  0.  0.  0.  1.  0.]\n",
      " [ 0.  1.  1.  1.  1.  1.  0.  0.  0.]\n",
      " [ 1.  0.  0.  1.  0.  0.  0.  1.  0.]\n",
      " [ 1.  0.  1.  1.  0.  1.  0.  1.  0.]\n",
      " [ 0.  0.  1.  1.  0.  1.  0.  1.  0.]\n",
      " [ 1.  0.  1.  1.  0.  1.  0.  0.  1.]\n",
      " [ 1.  0.  1.  1.  0.  0.  0.  1.  0.]]\n",
      "E_A.shape (9, 9)\n"
     ]
    },
    {
     "data": {
      "image/png": "[encoded data removed]",
      "text/plain": [
       "<matplotlib.figure.Figure at 0x7f7bb5f2ae10>"
      ]
     },
     "metadata": {},
     "output_type": "display_data"
    },
    {
     "data": {
      "image/png": "[encoded data removed]",
      "text/plain": [
       "<matplotlib.figure.Figure at 0x7f7bb61f00f0>"
      ]
     },
     "metadata": {},
     "output_type": "display_data"
    },
    {
     "data": {
      "image/png": "[encoded data removed]",
      "text/plain": [
       "<matplotlib.figure.Figure at 0x7f7bb5de1588>"
      ]
     },
     "metadata": {},
     "output_type": "display_data"
    },
    {
     "data": {
      "image/png": "[encoded data removed]",
      "text/plain": [
       "<matplotlib.figure.Figure at 0x7f7bb5ffdb00>"
      ]
     },
     "metadata": {},
     "output_type": "display_data"
    },
    {
     "data": {
      "image/png": "[encoded data removed]",
      "text/plain": [
       "<matplotlib.figure.Figure at 0x7f7bb5bef710>"
      ]
     },
     "metadata": {},
     "output_type": "display_data"
    },
    {
     "data": {
      "image/png": "[encoded data removed]",
      "text/plain": [
       "<matplotlib.figure.Figure at 0x7f7bb6171080>"
      ]
     },
     "metadata": {},
     "output_type": "display_data"
    },
    {
     "data": {
      "image/png": "[encoded data removed]",
      "text/plain": [
       "<matplotlib.figure.Figure at 0x7f7bb63d0e80>"
      ]
     },
     "metadata": {},
     "output_type": "display_data"
    },
    {
     "data": {
      "image/png": "[encoded data removed]",
      "text/plain": [
       "<matplotlib.figure.Figure at 0x7f7bb61715c0>"
      ]
     },
     "metadata": {},
     "output_type": "display_data"
    },
    {
     "data": {
      "image/png": "[encoded data removed]",
      "text/plain": [
       "<matplotlib.figure.Figure at 0x7f7bb5d561d0>"
      ]
     },
     "metadata": {},
     "output_type": "display_data"
    },
    {
     "name": "stdout",
     "output_type": "stream",
     "text": [
      "expected_A\n",
      " [[ 0.086  0.054  0.085  0.062 -0.028  0.053  0.094  0.064  0.087]\n",
      " [ 0.049  0.106  0.045  0.104  0.051  0.103  0.045  0.102  0.045]\n",
      " [ 0.14   0.277  0.144  0.278  0.131  0.282  0.138  0.284  0.152]\n",
      " [ 0.198  0.315  0.195  0.321  0.121  0.323  0.191  0.327  0.204]\n",
      " [ 0.049  0.106  0.045  0.104  0.051  0.103  0.045  0.102  0.045]\n",
      " [ 0.011  0.041  0.02   0.044  0.033  0.05   0.012  0.051  0.012]\n",
      " [ 0.057  0.102  0.05   0.106  0.059  0.107  0.05   0.111  0.053]\n",
      " [ 0.123  0.119  0.128  0.118 -0.013  0.111  0.119  0.112  0.134]\n",
      " [ 0.043  0.02   0.041  0.028 -0.018  0.025  0.045  0.028  0.044]]\n",
      "it 100\n",
      "[[ 1.  1.  0.  0.]\n",
      " [ 0.  0.  0.  0.]\n",
      " [ 1.  1.  0.  0.]\n",
      " [ 1.  1.  0.  0.]\n",
      " [ 1.  0.  0.  0.]\n",
      " [ 1.  0.  1.  0.]\n",
      " [ 1.  0.  1.  0.]\n",
      " [ 1.  0.  1.  0.]\n",
      " [ 1.  0.  1.  1.]\n",
      " [ 1.  0.  1.  0.]]\n",
      "E_A.shape (4, 9)\n"
     ]
    },
    {
     "data": {
      "image/png": "[encoded data removed]",
      "text/plain": [
       "<matplotlib.figure.Figure at 0x7f7bb5bef2e8>"
      ]
     },
     "metadata": {},
     "output_type": "display_data"
    },
    {
     "data": {
      "image/png": "[encoded data removed]",
      "text/plain": [
       "<matplotlib.figure.Figure at 0x7f7bb5d8b9b0>"
      ]
     },
     "metadata": {},
     "output_type": "display_data"
    },
    {
     "data": {
      "image/png": "[encoded data removed]",
      "text/plain": [
       "<matplotlib.figure.Figure at 0x7f7bb61625f8>"
      ]
     },
     "metadata": {},
     "output_type": "display_data"
    },
    {
     "data": {
      "image/png": "[encoded data removed]",
      "text/plain": [
       "<matplotlib.figure.Figure at 0x7f7bb5bf0160>"
      ]
     },
     "metadata": {},
     "output_type": "display_data"
    },
    {
     "name": "stdout",
     "output_type": "stream",
     "text": [
      "expected_A\n",
      " [[ 0.286  0.463  0.289  0.47   0.173  0.471  0.279  0.475  0.301]\n",
      " [ 0.07   0.169  0.078  0.174  0.096  0.182  0.073  0.179  0.084]\n",
      " [ 0.153  0.155  0.152  0.16   0.008  0.152  0.148  0.161  0.158]\n",
      " [ 0.043  0.026  0.041  0.034 -0.012  0.032  0.045  0.035  0.043]]\n"
     ]
    }
   ],
   "source": [
    "import random\n",
    "\n",
    "Z_columns = []\n",
    "column = np.random.choice(2, (N,))\n",
    "Z_columns.append(column)\n",
    "K_plus = len(Z_columns)\n",
    "# print(Z_columns)\n",
    "M = []\n",
    "M.append(np.sum(Z_columns[0]))\n",
    "# print('M', M)\n",
    "\n",
    "sigma_A = 0.5\n",
    "sigma_X = 1.7\n",
    "alpha = 1.0\n",
    "\n",
    "\n",
    "def columns_to_array(columns):\n",
    "    if len(columns) == 0:\n",
    "        return None\n",
    "    rows = columns[0].shape[0]\n",
    "    cols = len(columns)\n",
    "    array = np.zeros((rows, cols), dtype=np.float32)\n",
    "    for col, column in enumerate(columns):\n",
    "        array[:, col] = column\n",
    "    return array\n",
    "\n",
    "\n",
    "def calc_log_p_X_given_Z(Z_columns, X, sigma_X, sigma_A):\n",
    "    Z = columns_to_array(Z_columns)\n",
    "#     print('Z', Z)\n",
    "    ZTZI = Z.T.dot(Z) + (sigma_X * sigma_X / sigma_A / sigma_A) * np.identity(Z.shape[1])\n",
    "#     print('ZTZI', ZTZI)\n",
    "    ZTZIInv = np.linalg.inv(ZTZI)\n",
    "#     print('ZTZIInv', ZTZIInv)\n",
    "    IZZZIZ = np.identity(Z.shape[0]) - Z.dot(ZTZIInv).dot(Z.T)\n",
    "#     print('IZZZIZ\\n', IZZZIZ)\n",
    "    XT___X = X.T.dot(IZZZIZ).dot(X)\n",
    "#     print('XT___X\\n', XT___X)\n",
    "    trace_term = np.trace(XT___X)\n",
    "#     print('trace_term', trace_term)\n",
    "    exponent = - 1 / (sigma_X * sigma_X * 2) * trace_term\n",
    "#     print('exponent', exponent)\n",
    "    return exponent\n",
    "#     gaussian_unnorm = np.exp(exponent)\n",
    "#     print('gaussian prob [%s]' % gaussian_unnorm)\n",
    "#     return gaussian_unnorm\n",
    "\n",
    "\n",
    "def calc_A(Z_columns, sigma_X, sigma_A):\n",
    "    Z = columns_to_array(Z_columns)\n",
    "    I = sigma_X * sigma_X / (sigma_A * sigma_A) * np.identity(Z.shape[1])\n",
    "    ZTZI = Z.T.dot(Z) + I\n",
    "#     print('ZTZI', ZTZI)\n",
    "    ZTZIInv = np.linalg.inv(ZTZI)\n",
    "#     print('ZTZIInv', ZTZIInv)\n",
    "    E_A = ZTZIInv.dot(Z.T).dot(X)\n",
    "#     print('E_A\\n', E_A)\n",
    "    print('E_A.shape', E_A.shape)\n",
    "    for k in range(E_A.shape[0]):\n",
    "        image_flat = E_A[k]\n",
    "        image = image_flat.reshape(image_size, image_size)\n",
    "        print_images(['A k=%s' % k], [image])\n",
    "#     asdf\n",
    "    return E_A\n",
    "\n",
    "\n",
    "def samples_to_X(samples):\n",
    "    N = len(samples)\n",
    "    X_features = samples[0].shape[0] * samples[0].shape[1]\n",
    "    X = np.zeros((N, X_features), dtype=np.float32)\n",
    "    for n, sample in enumerate(samples):\n",
    "        X[n] = sample.reshape(X_features)\n",
    "    return X\n",
    "\n",
    "\n",
    "X = samples_to_X(samples)\n",
    "print('X.shape', X.shape)\n",
    "print('X\\n', X)\n",
    "print('ground truth Z\\n', ground_truth_Z)\n",
    "np.set_printoptions(suppress=False, precision=3)\n",
    "num_its = 100\n",
    "for it in range(num_its):\n",
    "    num_added = 0\n",
    "    num_removed = 0\n",
    "    for n in range(N):\n",
    "        k = 0\n",
    "        while k < len(Z_columns):\n",
    "            old_zik = Z_columns[k][n]\n",
    "            if old_zik == 1:\n",
    "                m_minusi_k = M[k] - 1\n",
    "            else:\n",
    "                m_minusi_k = M[k]\n",
    "            if m_minusi_k > 0:\n",
    "                # get the probabilty of z_ik given Z_minus_ik, for\n",
    "                # zik = 0 and zik = 1\n",
    "                p_zik_given_Zminus = np.zeros((2,), dtype=np.float32)\n",
    "                p_zik_given_Zminus[1] = m_minusi_k / N\n",
    "                p_zik_given_Zminus[0] = 1.0 - p_zik_given_Zminus[1]\n",
    "                \n",
    "                # and we need also to get the probability from the gaussian, again\n",
    "                # for zik=0 and zik=1\n",
    "                # for now, lets just stupidly calculate it, not do rank-1s or anything\n",
    "\n",
    "                # calculate as log first, then normalize this first, then\n",
    "                # exp it, to avoid crazily tiny values etc\n",
    "                log_p_X_given_Z = np.zeros((2,), dtype=np.float32)\n",
    "                for zik in [0, 1]:\n",
    "                    Z_columns[k][n] = zik\n",
    "                    # add epsilon to it, to avoid nans\n",
    "                    log_p_X_given_Z[zik] = calc_log_p_X_given_Z(Z_columns, X, sigma_X, sigma_A) + 1e-9\n",
    "#                 print('log_p_X_given_Z', log_p_X_given_Z)\n",
    "                log_p_X_given_Z -= np.min(log_p_X_given_Z)\n",
    "#                 print('log_p_X_given_Z norm', log_p_X_given_Z)\n",
    "                p_X_given_Z = np.exp(log_p_X_given_Z)\n",
    "#                 print('p_X_given_Z', p_X_given_Z)\n",
    "                \n",
    "#                 print('p_zik_given_Zminus', p_zik_given_Zminus)\n",
    "#                 print('p_X_given_Z\\n', p_X_given_Z)\n",
    "                p_zik_given_X_Z_unnorm = np.multiply(\n",
    "                    p_zik_given_Zminus, p_X_given_Z)\n",
    "                p_zik_given_X_Z = p_zik_given_X_Z_unnorm / np.sum(p_zik_given_X_Z_unnorm)\n",
    "#                 print('p_zik_given_X_Z', p_zik_given_X_Z)\n",
    "\n",
    "                prob_zik_one = p_zik_given_X_Z[1]\n",
    "\n",
    "                p = random.uniform(0, 1)\n",
    "                new_zik = 1 if p <= prob_zik_one else 0\n",
    "                Z_columns[k][n] = new_zik\n",
    "                M[k] += new_zik - old_zik\n",
    "            else:\n",
    "                del M[k]\n",
    "                del Z_columns[k]\n",
    "                num_removed += 1\n",
    "                k -= 1\n",
    "\n",
    "            k += 1\n",
    "        # add new features\n",
    "        num_new_features = np.random.poisson(alpha / N)\n",
    "        for j in range(num_new_features):\n",
    "            M.append(1)\n",
    "            new_col = np.zeros((N,), dtype=np.float32)\n",
    "            new_col[n] = 1\n",
    "            Z_columns.append(new_col)\n",
    "            num_added += 1\n",
    "\n",
    "    if (it + 1) % (num_its // 10) == 0:\n",
    "        print('it %s' % (it + 1))\n",
    "        print(columns_to_array(Z_columns))\n",
    "        expected_A = calc_A(Z_columns, sigma_X, sigma_A)\n",
    "        print('expected_A\\n', expected_A)\n",
    "#     print('Z_columns', Z_columns)"
   ]
  },
  {
   "cell_type": "markdown",
   "metadata": {},
   "source": [
    "Pondering of normalization of the exponential values.  Let's say we have two un-normalized probabilities:\n",
    "\n",
    "$$\n",
    "p_1 = c \\cdot \\exp(l_1)\n",
    "$$\n",
    "\n",
    "and:\n",
    "\n",
    "$$\n",
    "p_2 = c \\cdot \\exp(l_2)\n",
    "$$\n",
    "\n",
    "(where $c$ is an unknown normalization constant).  To normalize these, if there are only two possible events, corresponding to the probaiblities $p_1$ and $p_2$, then:\n",
    "\n",
    "$$\n",
    "p_1 + p_2 = 1.0\n",
    "$$\n",
    "\n",
    "So:\n",
    "\n",
    "$$\n",
    "c \\cdot \\exp(l_1) + c \\cdot \\exp(l_2) = 1.0\n",
    "$$\n",
    "\n",
    "So:\n",
    "\n",
    "$$\n",
    "c = \\frac{1.0}{\\exp(l_1) + \\exp(l_2)}\n",
    "$$\n",
    "&nbsp;\n",
    "\n",
    "$$\n",
    "= (\\exp(l_1) + \\exp(l_2))^{-1}\n",
    "$$\n"
   ]
  }
 ],
 "metadata": {
  "kernelspec": {
   "display_name": "Python 3",
   "language": "python",
   "name": "python3"
  },
  "language_info": {
   "codemirror_mode": {
    "name": "ipython",
    "version": 3
   },
   "file_extension": ".py",
   "mimetype": "text/x-python",
   "name": "python",
   "nbconvert_exporter": "python",
   "pygments_lexer": "ipython3",
   "version": "3.5.2"
  }
 },
 "nbformat": 4,
 "nbformat_minor": 2
}
