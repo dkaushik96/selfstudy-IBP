{
 "cells": [
  {
   "cell_type": "markdown",
   "metadata": {},
   "source": [
    "# Demonstration on 6x6 images"
   ]
  },
  {
   "cell_type": "code",
   "execution_count": 34,
   "metadata": {
    "collapsed": false
   },
   "outputs": [
    {
     "name": "stdout",
     "output_type": "stream",
     "text": [
      "[1 0 0 0]\n"
     ]
    }
   ],
   "source": [
    "import numpy as np\n",
    "\n",
    "print(np.random.choice(2, size=(4,)))"
   ]
  },
  {
   "cell_type": "code",
   "execution_count": 112,
   "metadata": {
    "collapsed": false,
    "scrolled": false
   },
   "outputs": [
    {
     "data": {
      "image/png": "[encoded data removed]",
      "text/plain": [
       "<matplotlib.figure.Figure at 0x7f7900076828>"
      ]
     },
     "metadata": {},
     "output_type": "display_data"
    },
    {
     "data": {
      "image/png": "[encoded data removed]",
      "text/plain": [
       "<matplotlib.figure.Figure at 0x7f79005a0e80>"
      ]
     },
     "metadata": {},
     "output_type": "display_data"
    },
    {
     "data": {
      "image/png": "[encoded data removed]",
      "text/plain": [
       "<matplotlib.figure.Figure at 0x7f7900431240>"
      ]
     },
     "metadata": {},
     "output_type": "display_data"
    },
    {
     "data": {
      "image/png": "[encoded data removed]",
      "text/plain": [
       "<matplotlib.figure.Figure at 0x7f790037eb38>"
      ]
     },
     "metadata": {},
     "output_type": "display_data"
    },
    {
     "data": {
      "image/png": "[encoded data removed]",
      "text/plain": [
       "<matplotlib.figure.Figure at 0x7f79004ab518>"
      ]
     },
     "metadata": {},
     "output_type": "display_data"
    }
   ],
   "source": [
    "### import numpy as np\n",
    "import matplotlib.pyplot as plt\n",
    "import math\n",
    "\n",
    "\n",
    "num_classes = 2\n",
    "image_size = 3\n",
    "N = 10\n",
    "num_samples_to_print = 5\n",
    "sigma_X = 0.05\n",
    "\n",
    "class_descriptions = [\n",
    "    {\n",
    "        'sprite': [\n",
    "            [0,1,0],\n",
    "            [1,1,1],\n",
    "            [0,1,0]\n",
    "        ],\n",
    "        'sprite_x': 0,\n",
    "        'sprite_y': 0\n",
    "    },\n",
    "    {\n",
    "        'sprite': [\n",
    "            [1,1,1],\n",
    "            [1,0,1],\n",
    "            [1,1,1]\n",
    "        ],\n",
    "        'sprite_x': 0,\n",
    "        'sprite_y': 0\n",
    "    },\n",
    "    {\n",
    "        'sprite': [\n",
    "            [1,0,0],\n",
    "            [1,1,0],\n",
    "            [1,1,1]\n",
    "        ],\n",
    "        'sprite_x': 0,\n",
    "        'sprite_y': 3\n",
    "    },\n",
    "    {\n",
    "        'sprite': [\n",
    "            [1,1,1],\n",
    "            [0,1,0],\n",
    "            [0,1,0]\n",
    "        ],\n",
    "        'sprite_x': 3,\n",
    "        'sprite_y': 3\n",
    "    }\n",
    "]\n",
    "\n",
    "def class_descriptions_to_class_pics():\n",
    "    class_pics = []\n",
    "    for i, desc in enumerate(class_descriptions):\n",
    "        if i >= num_classes:\n",
    "            break\n",
    "        pic = np.zeros((image_size, image_size), dtype=np.float32)\n",
    "        for dx in range(3):\n",
    "            for dy in range(3):\n",
    "                if desc['sprite'][dy][dx] == 1:\n",
    "                    pic[desc['sprite_y'] + dy, desc['sprite_x'] + dx] = 1.0\n",
    "        class_pics.append(pic)\n",
    "    return class_pics\n",
    "\n",
    "class_pics = class_descriptions_to_class_pics()\n",
    "# print(class_pics)\n",
    "\n",
    "def print_images(titles, images):\n",
    "    plt.figure(1)\n",
    "    num_figures = len(images)\n",
    "    for i, image in enumerate(images):\n",
    "        image_size = image.shape[0]\n",
    "        image_min = np.min(image)\n",
    "        image_max = np.max(image)\n",
    "        image_min = -1\n",
    "        image_max = 2\n",
    "        image_range = image_max - image_min\n",
    "        image = np.maximum(image_min, image)\n",
    "        image = np.minimum(image_max, image)\n",
    "        image = (image - image_min) / image_range\n",
    "        image_rgb = np.zeros((image_size, image_size, 3), dtype=np.float32)\n",
    "        image_rgb[:,:,0] = image\n",
    "        image_rgb[:,:,1] = image\n",
    "        image_rgb[:,:,2] = image\n",
    "        plt.subplot(1, num_figures, i + 1)\n",
    "        plt.imshow(image_rgb, interpolation='nearest')\n",
    "        plt.axis('off')\n",
    "        plt.title(titles[i])\n",
    "    plt.show()\n",
    "\n",
    "def draw_samples(N, class_pics):\n",
    "    samples = []\n",
    "    samples_to_print = set(np.random.choice(N, (num_samples_to_print,), replace=False))\n",
    "    for n in range(N):\n",
    "        image = np.zeros((image_size, image_size), dtype=np.float32)\n",
    "        features = np.random.choice(2, size=(num_classes,))\n",
    "#         print(features)\n",
    "        for k, v in enumerate(features):\n",
    "            if v == 1:\n",
    "                image += class_pics[k]\n",
    "        image_orig = np.copy(image)\n",
    "#         print_image(image)\n",
    "\n",
    "        noise = np.random.randn(image_size, image_size).astype(np.float32) * sigma_X\n",
    "#         print_image(noise)\n",
    "\n",
    "        image += noise\n",
    "        if n in samples_to_print:\n",
    "#             print(n)\n",
    "            print_images(['orig', 'noise', 'noised image'], [image_orig, noise, image])\n",
    "\n",
    "        samples.append(image)\n",
    "    return samples\n",
    "\n",
    "samples = draw_samples(N, class_pics)\n"
   ]
  },
  {
   "cell_type": "code",
   "execution_count": 121,
   "metadata": {
    "collapsed": false
   },
   "outputs": [
    {
     "name": "stdout",
     "output_type": "stream",
     "text": [
      "[array([0, 0, 0, 1, 0, 1, 0, 1, 0, 0])]\n",
      "M [3]\n"
     ]
    }
   ],
   "source": [
    "Z_columns = []\n",
    "column = np.random.choice(2, (N,))\n",
    "Z_columns.append(column)\n",
    "K_plus = len(Z_columns)\n",
    "# print(Z_columns)\n",
    "M = []\n",
    "M.append(np.sum(Z_columns[0]))\n",
    "# print('M', M)\n",
    "\n",
    "sigma_A = 0.5\n",
    "sigma_X = 1.7\n",
    "alpha = 1.0\n",
    "\n",
    "for it in range(10):\n",
    "    for n in range(N):\n",
    "        k = 0\n",
    "        while k < len(Z_columns):\n",
    "            column = Z_columns[k]\n",
    "            m = M[k]\n",
    "            if m == 1 and column[n] == 1:\n",
    "                # means that m_{-i} is zero\n",
    "                # so, delete the column\n",
    "                del Z_columns[k]\n",
    "                del M[k]\n",
    "                k -= 1\n",
    "            else:\n",
    "                # M_{-i} > 0\n",
    "                # what do we do now???\n",
    "            k += 1"
   ]
  },
  {
   "cell_type": "markdown",
   "metadata": {},
   "source": [
    "At this point, I looked at the tutorial's equation 22.  But there's a proportional-to sign, $\\propto$.  How to handle this?  Since I'm not trying to do this research from scratch, just reproduce/understand the existing research, I reached out to Mr Google, to look for more explanations.  I found the following video, from Finale Doshi-Velez, which I'm going to interlude out to now"
   ]
  },
  {
   "cell_type": "markdown",
   "metadata": {},
   "source": [
    "## Interlude: presentation \"Accelerated Gibbs Sampling for the Indian Buffet Process\", Doshi-Velez, Ghahramani\n",
    "\n",
    "It's here: http://videolectures.net/icml09_doshi_velez_ags/\n",
    "\n",
    "Corresponding slides: http://videolectures.net/site/normal_dl/tag=47975/icml09_doshi_velez_ags_01.pdf\n",
    "\n",
    "It's still advised by Ghahramani, but the student is now Doshi-Velez.  Going through the lecture:\n",
    "\n",
    "Finale notes that, for model:\n",
    "\n",
    "$$\\mathbf{X} = \\mathbf{Z}\\mathbf{A} + \\mathbf{E}$$\n",
    "\n",
    "- can compute $P(\\mathbf{Z} \\mid \\mathbf{Z})$, but expensive\n",
    "- can compute $P(\\mathbf{A} \\mid \\mathbf{X}, \\mathbf{Z})$ (just a linear expression (?))\n",
    "- cannot compute $P(\\mathbf{Z)}, \\mathbf{A} \\mid \\mathbf{Z})$\n",
    "\n",
    "For this lecture, Doshi-Velez is going to target putting a window over the data, $\\mathbf{X}$, and $\\mathbf{Z}$, so they will only consider a window of $W$ points at a time, splitting each matrix into:\n",
    "\n",
    "$$\\mathbf{X} =\n",
    "\\begin{bmatrix}\n",
    "\\mathbf{X}_{-W} \\\\\n",
    "\\mathbf{X}_{W} \\\\\n",
    "\\end{bmatrix}$$\n",
    "\n",
    "and:\n",
    "\n",
    "$$\\mathbf{Z} =\n",
    "\\begin{bmatrix}\n",
    "\\mathbf{Z}_{-W} \\\\\n",
    "\\mathbf{Z}_{W} \\\\\n",
    "\\end{bmatrix}$$\n",
    "\n",
    "(where here the data points are arranged as one row per data point, and the features are the columns).\n",
    "\n",
    "They do this, because they want to target large datasets.\n",
    "\n",
    "Then, Doshi-Velez goes over the following two principle sampling schemes:\n",
    "\n",
    "### Uncollapsed sampling\n",
    "\n",
    "![](img/basicsampling_1.png)\n",
    "\n",
    "![](img/basicsampling_2.png)\n",
    "\n",
    "![](img/basicsampling_A.png)\n",
    "\n",
    "Uncollapsed sampling:\n",
    "\n",
    "- each iteration is quick (or should be, otherwise we have other issues to deal with)\n",
    "- but mixing very slow\n",
    "\n",
    "### Collapsed sampling\n",
    "\n",
    "![](img/collapsed_gibbs.png)\n",
    "\n",
    "- mixing fast\n",
    "- but each iteration can be slow/challenging, and\n",
    "- we lose the independences between the samples and latent features within the window, and outside of the window\n",
    "\n",
    "### Their idea: Keep a posterior on A\n",
    "\n",
    "![](img/acceleratedsampling.png)\n",
    "\n",
    "- data samples and latent variables within the window remain independent of those outside of it\n",
    "- (conditional on the posterior of A)\n"
   ]
  },
  {
   "cell_type": "markdown",
   "metadata": {},
   "source": [
    "Then, Doshi-Velez goes over the maths of the accelerated sampling:\n",
    "\n",
    "Consider one element, and here the notation has changed from $w$/$-w$ to $n$/$-n$:\n",
    "\n",
    "$$P(Z_{nk} = 1 \\mid Z_{-nk}, \\mathbf{X})$$\n",
    "\n",
    "$$\\propto P(Z_{nk} \\mid \\mathbf{Z}_{-nk})\\,P(\\mathbf{X} \\mid \\mathbf{Z})$$\n",
    "\n",
    "So, it took me a while to figure out why this statement is proportionality, not equality.  Finally I realized we can do, following the hint about 'bayes rule' in the slides:\n",
    "\n",
    "$$P(Z_{nk} = 1 \\mid \\mathbf{Z}_{-nk}, \\mathbf{X})\n",
    "= \n",
    "\\frac{\n",
    "   P(\\mathbf{X} \\mid Z_{nk} = 1, \\mathbf{Z}_{-nk})\\, P(Z_{nk} = 1 \\mid \\mathbf{Z}_{-nk})\n",
    "}\n",
    "{\n",
    "   P(\\mathbf{X} \\mid \\mathbf{Z}_{-nk})\n",
    "}$$\n",
    "\n",
    "$$\\propto P(Z_{nk} \\mid \\mathbf{Z}_{-nk})\\,P(\\mathbf{X} \\mid \\mathbf{Z})$$\n",
    "\n",
    "as stated.\n",
    "\n",
    "Continuing, by writing $P(\\mathbf{X} \\mid \\mathbf{Z})$ as a marginalization over $\\mathbf{A}$:\n",
    "\n",
    "$$=\n",
    "P(Z_{nk} \\mid \\mathbf{Z}_{-nk})\n",
    "\\int_A P(\\mathbf{X} \\mid \\mathbf{Z}, \\mathbf{A})\\, P(\\mathbf{A})\\,d\\mathbf{A}\n",
    "$$\n",
    "\n",
    "Factorizing over $\\mathbf{X}_n$ and $\\mathbf{X}_{-n}$:\n",
    "\n",
    "$$\n",
    "=\n",
    "P(Z_{nk} \\mid \\mathbf{Z}_{-nk})\n",
    "\\int_A P(\\mathbf{X}_n \\mid \\mathbf{Z}_n, \\mathbf{A})\\, P(\\mathbf{X}_{-n} \\mid \\mathbf{Z}_{-n}, \\mathbf{A})\\, P(\\mathbf{A})\\,d\\mathbf{A}\n",
    "$$\n"
   ]
  }
 ],
 "metadata": {
  "kernelspec": {
   "display_name": "Python 3",
   "language": "python",
   "name": "python3"
  },
  "language_info": {
   "codemirror_mode": {
    "name": "ipython",
    "version": 3
   },
   "file_extension": ".py",
   "mimetype": "text/x-python",
   "name": "python",
   "nbconvert_exporter": "python",
   "pygments_lexer": "ipython3",
   "version": "3.5.2"
  }
 },
 "nbformat": 4,
 "nbformat_minor": 2
}
