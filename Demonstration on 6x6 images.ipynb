{
 "cells": [
  {
   "cell_type": "markdown",
   "metadata": {},
   "source": [
    "# Demonstration on 6x6 images"
   ]
  },
  {
   "cell_type": "code",
   "execution_count": 34,
   "metadata": {
    "collapsed": false
   },
   "outputs": [
    {
     "name": "stdout",
     "output_type": "stream",
     "text": [
      "[1 0 0 0]\n"
     ]
    }
   ],
   "source": [
    "import numpy as np\n",
    "\n",
    "print(np.random.choice(2, size=(4,)))"
   ]
  },
  {
   "cell_type": "code",
   "execution_count": 74,
   "metadata": {
    "collapsed": false,
    "scrolled": false
   },
   "outputs": [
    {
     "name": "stdout",
     "output_type": "stream",
     "text": [
      "[array([[ 0.,  1.,  0.,  0.,  0.,  0.],\n",
      "       [ 1.,  1.,  1.,  0.,  0.,  0.],\n",
      "       [ 0.,  1.,  0.,  0.,  0.,  0.],\n",
      "       [ 0.,  0.,  0.,  0.,  0.,  0.],\n",
      "       [ 0.,  0.,  0.,  0.,  0.,  0.],\n",
      "       [ 0.,  0.,  0.,  0.,  0.,  0.]], dtype=float32), array([[ 0.,  0.,  0.,  1.,  1.,  1.],\n",
      "       [ 0.,  0.,  0.,  1.,  0.,  1.],\n",
      "       [ 0.,  0.,  0.,  1.,  1.,  1.],\n",
      "       [ 0.,  0.,  0.,  0.,  0.,  0.],\n",
      "       [ 0.,  0.,  0.,  0.,  0.,  0.],\n",
      "       [ 0.,  0.,  0.,  0.,  0.,  0.]], dtype=float32), array([[ 0.,  0.,  0.,  0.,  0.,  0.],\n",
      "       [ 0.,  0.,  0.,  0.,  0.,  0.],\n",
      "       [ 0.,  0.,  0.,  0.,  0.,  0.],\n",
      "       [ 1.,  0.,  0.,  0.,  0.,  0.],\n",
      "       [ 1.,  1.,  0.,  0.,  0.,  0.],\n",
      "       [ 1.,  1.,  1.,  0.,  0.,  0.]], dtype=float32), array([[ 0.,  0.,  0.,  0.,  0.,  0.],\n",
      "       [ 0.,  0.,  0.,  0.,  0.,  0.],\n",
      "       [ 0.,  0.,  0.,  0.,  0.,  0.],\n",
      "       [ 0.,  0.,  0.,  1.,  1.,  1.],\n",
      "       [ 0.,  0.,  0.,  0.,  1.,  0.],\n",
      "       [ 0.,  0.,  0.,  0.,  1.,  0.]], dtype=float32)]\n"
     ]
    }
   ],
   "source": [
    "import numpy as np\n",
    "import matplotlib.pyplot as plt\n",
    "import math\n",
    "\n",
    "\n",
    "image_size = 6\n",
    "N = 100\n",
    "sigma_X = 0.5\n",
    "\n",
    "class_descriptions = [\n",
    "    {\n",
    "        'sprite': [\n",
    "            [0,1,0],\n",
    "            [1,1,1],\n",
    "            [0,1,0]\n",
    "        ],\n",
    "        'sprite_x': 0,\n",
    "        'sprite_y': 0\n",
    "    },\n",
    "    {\n",
    "        'sprite': [\n",
    "            [1,1,1],\n",
    "            [1,0,1],\n",
    "            [1,1,1]\n",
    "        ],\n",
    "        'sprite_x': 3,\n",
    "        'sprite_y': 0\n",
    "    },\n",
    "    {\n",
    "        'sprite': [\n",
    "            [1,0,0],\n",
    "            [1,1,0],\n",
    "            [1,1,1]\n",
    "        ],\n",
    "        'sprite_x': 0,\n",
    "        'sprite_y': 3\n",
    "    },\n",
    "    {\n",
    "        'sprite': [\n",
    "            [1,1,1],\n",
    "            [0,1,0],\n",
    "            [0,1,0]\n",
    "        ],\n",
    "        'sprite_x': 3,\n",
    "        'sprite_y': 3\n",
    "    }\n",
    "]\n",
    "\n",
    "def class_descriptions_to_class_pics():\n",
    "    class_pics = []\n",
    "    for desc in class_descriptions:\n",
    "        pic = np.zeros((image_size, image_size), dtype=np.float32)\n",
    "        for dx in range(3):\n",
    "            for dy in range(3):\n",
    "                if desc['sprite'][dy][dx] == 1:\n",
    "                    pic[desc['sprite_y'] + dy, desc['sprite_x'] + dx] = 1.0\n",
    "        class_pics.append(pic)\n",
    "    return class_pics\n",
    "\n",
    "class_pics = class_descriptions_to_class_pics()\n",
    "print(class_pics)\n",
    "\n",
    "def draw_samples(N, class_pics):\n",
    "    samples = []\n",
    "    for n in range(N):\n",
    "        image = np.zeros((image_size, image_size), dtype=np.float32)\n",
    "        features = np.random.choice(2, size=(4,))\n",
    "#         print(features)\n",
    "        for k, v in enumerate(features):\n",
    "#             v = features[k]\n",
    "            if v == 1:\n",
    "                image += class_pics[k]\n",
    "#         print(image)\n",
    "#         image_rgb = np.zeros((image_size, image_size, 3), dtype=np.float32)\n",
    "#         image_rgb[:,:,0] = image / 3 + 0.333\n",
    "#         image_rgb[:,:,1] = image / 3 + 0.333\n",
    "#         image_rgb[:,:,2] = image / 3 + 0.333\n",
    "#         plt.imshow(image_rgb, interpolation='nearest')\n",
    "#         plt.show()\n",
    "        noise = np.random.randn(image_size, image_size).astype(np.float32) * sigma_X\n",
    "#         image_rgb[:,:,0] = noise / 3 + 0.333\n",
    "#         image_rgb[:,:,1] = noise / 3 + 0.333\n",
    "#         image_rgb[:,:,2] = noise / 3 + 0.333\n",
    "#         plt.imshow(image_rgb, interpolation='nearest')\n",
    "#         plt.show()\n",
    "#         print('noise', noise)\n",
    "\n",
    "        image += noise\n",
    "#         print('image + noise', image)\n",
    "#         print(image)\n",
    "#         image_rgb[:,:,0] = image / 3 + 0.333\n",
    "#         image_rgb[:,:,1] = image / 3 + 0.333\n",
    "#         image_rgb[:,:,2] = image / 3 + 0.333\n",
    "#         plt.imshow(image_rgb, interpolation='nearest')\n",
    "#         plt.show()\n",
    "        samples.append(image)\n",
    "    return samples\n",
    "\n",
    "samples = draw_samples(N, class_pics)\n"
   ]
  }
 ],
 "metadata": {
  "kernelspec": {
   "display_name": "Python 3",
   "language": "python",
   "name": "python3"
  },
  "language_info": {
   "codemirror_mode": {
    "name": "ipython",
    "version": 3
   },
   "file_extension": ".py",
   "mimetype": "text/x-python",
   "name": "python",
   "nbconvert_exporter": "python",
   "pygments_lexer": "ipython3",
   "version": "3.5.2"
  }
 },
 "nbformat": 4,
 "nbformat_minor": 2
}
