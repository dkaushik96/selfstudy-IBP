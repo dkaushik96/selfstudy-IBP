{
 "cells": [
  {
   "cell_type": "markdown",
   "metadata": {},
   "source": [
    "# wikipedia article Linear least squares\n",
    "\n",
    "https://en.wikipedia.org/wiki/Linear_least_squares_%28mathematics%29#Properties_of_the_least-squares_estimators\n",
    "\n",
    "Overdetermined system:\n",
    "\n",
    "$$\n",
    "\\sum_{j=1}^n X_{ij}\\beta_j = y_i, (i=1,2,\\dots,m)\n",
    "$$\n",
    "\n",
    "where:\n",
    "\n",
    "- $n$ is number of parameters\n",
    "- $m$ is number of data points\n",
    "- $m > n$\n",
    "\n",
    "In matrix form:\n",
    "\n",
    "$$\n",
    "\\mathbf{X}\\mathbf{\\beta} = \\mathbf{y}\n",
    "$$\n",
    "\n",
    "This has no solution, so we find the best solution by solving the quadratic minimization problem:\n",
    "\n",
    "$$\n",
    "\\hat{\\mathbf{\\beta}} = \\mathrm{argmin}_{\\beta}S(\\mathbf{\\beta})\n",
    "$$\n",
    "\n",
    "where objective function $S$ is given by:\n",
    "\n",
    "$$\n",
    "S(\\beta) = \\sum_{i=1}^m \\lvert y_i-\\sum_{j=1}^nX_{ij}\\beta_j \\rvert^2 = ||\\mathbf{y} - \\mathbf{X}\\mathbf{\\beta}||^2\n",
    "$$\n",
    "\n",
    "Solution is unique, and is the solution of the normal equations:\n",
    "\n",
    "$$\n",
    "(\\mathbf{X}^T\\mathbf{X})\\mathbf{\\hat{\\beta}} = \\mathbf{X}^T \\mathbf{y}\n",
    "$$\n",
    "&nbsp;\n",
    "\n",
    "$$\n",
    "S(\\mathbf{\\beta}) = ||\\mathbf{y} - \\mathbf{X}\\mathbf{\\beta}||^2\n",
    "$$\n",
    "&nbsp;\n",
    "\n",
    "$$\n",
    "=(\\mathbf{y} - \\mathbf{X}\\mathbf{\\beta})^T(\\mathbf{y} - \\mathbf{X}\\mathbf{\\beta})\n",
    "$$\n",
    "&nbsp;\n",
    "\n",
    "$$\n",
    "=\\mathbf{y}^T\\mathbf{y} - 2\\mathbf{\\beta}^T\\mathbf{X}^T\\mathbf{y} + \\mathbf{\\beta}^T\\mathbf{X}^T\\mathbf{X}\\mathbf{\\beta}\n",
    "$$"
   ]
  },
  {
   "cell_type": "markdown",
   "metadata": {},
   "source": [
    "Differentiate wrt $\\mathbf{\\beta}$, and set equal to 0:\n",
    "\n",
    "$$\n",
    "= -2\\mathbf{X}^T\\mathbf{y} + \\mathbf{X}^T\\mathbf{X}\\mathbf{\\beta} = 0\n",
    "$$"
   ]
  },
  {
   "cell_type": "markdown",
   "metadata": {},
   "source": [
    "#### Inverting the matrix of the normal equations\n",
    "\n",
    "The algebraic solution of the normal equations can be written as\n",
    "\n",
    "$$\n",
    "\\mathbf{\\hat{\\beta}} = (\\mathbf{X}^T\\mathbf{X})^{-1}\\mathbf{X}^T\\mathbf{y}\n",
    "$$\n",
    "&nbsp;\n",
    "\n",
    "$$\n",
    "=\\mathbf{X}^+\\mathbf{y}\n",
    "$$\n",
    "\n",
    ".... where $\\mathbf{X}^+$ is the Moore-Penrose pseudoinverse of $\\mathbf{X}$.\n",
    "\n",
    "Using Cholesky decomposition:\n",
    "\n",
    "$$\n",
    "\\mathbf{R}^T\\mathbf{R}\\mathbf{\\hat{\\beta}} = \\mathbf{X}^T\\mathbf{y}\n",
    "$$\n",
    "\n",
    "First solve for $\\mathbf{R}^\\mathbf{\\hat{\\beta}}$\n",
    "\n",
    "Then solve for $\\mathbf{\\beta}$"
   ]
  },
  {
   "cell_type": "code",
   "execution_count": 1,
   "metadata": {
    "collapsed": false
   },
   "outputs": [
    {
     "name": "stdout",
     "output_type": "stream",
     "text": [
      "\n",
      "y.shape (10, 1)\n",
      "sum residuals square, via inverse 3.17161684324 time 0.011630058288574219\n",
      "sum residuals square, all zeros 3.85084762269 time 2.3603439331054688e-05\n",
      "sum residuals square, via QR 3.10045496633 time 0.10797953605651855\n",
      "sum residuals square, via cholesky 3.18789241 time 0.0034651756286621094\n",
      "\n",
      "y.shape (1000, 1)\n",
      "sum residuals square, via inverse 30.9960888594 time 0.00014519691467285156\n",
      "sum residuals square, all zeros 30.9051117684 time 4.5299530029296875e-06\n",
      "sum residuals square, via QR 30.6978836503 time 0.00039505958557128906\n",
      "sum residuals square, via cholesky 31.0702556666 time 0.00027179718017578125\n",
      "\n",
      "y.shape (1000, 1)\n",
      "sum residuals square, via inverse 29.8970772323 time 0.00610804557800293\n",
      "sum residuals square, all zeros 30.8344006822 time 6.198883056640625e-06\n",
      "sum residuals square, via QR 29.2200476668 time 0.006001710891723633\n",
      "sum residuals square, via cholesky 31.8596236803 time 0.004059314727783203\n",
      "\n",
      "y.shape (10000, 1)\n",
      "sum residuals square, via inverse 94.7944365946 time 0.17948412895202637\n",
      "sum residuals square, all zeros 99.8741213256 time 8.106231689453125e-06\n",
      "sum residuals square, via QR 94.6991495412 time 2.232292890548706\n",
      "sum residuals square, via cholesky 95.2192367614 time 0.17145991325378418\n"
     ]
    }
   ],
   "source": [
    "import numpy as np\n",
    "import scipy.linalg\n",
    "import math\n",
    "import time\n",
    "\n",
    "\n",
    "def run(N=10, K=5, rand_scale=1/1000, rand_translate=1.7):\n",
    "    # N = 10\n",
    "    # K = 5\n",
    "\n",
    "    nr = np.random.mtrand.RandomState(123)\n",
    "#     X = nr.randn(N, K).astype(np.float32) / 1000 + 10.0\n",
    "#     X = nr.randn(N, K).astype(np.float32) / 1000 + 1.7\n",
    "    X = nr.randn(N, K).astype(np.float32) * rand_scale + rand_translate\n",
    "    # y = nr.choice(2, N).reshape(N, 1)\n",
    "    y = nr.randn(N, 1)\n",
    "    print('')\n",
    "    print('y.shape', y.shape)\n",
    "    # print('X', X)\n",
    "    # print('y', y)\n",
    "\n",
    "    # method 1: use inverse\n",
    "    # beta = XTy \\ XTX\n",
    "    start = time.time()\n",
    "    beta = np.linalg.solve(X.T.dot(X), X.T.dot(y))\n",
    "    t = time.time() - start\n",
    "    # print('beta', beta)\n",
    "    r = y - X.dot(beta).reshape(N, 1)\n",
    "    # print('residuals', r)\n",
    "    print('sum residuals square, via inverse', np.linalg.norm(r, ord=2), 'time %s' % t)\n",
    "\n",
    "    start = time.time()\n",
    "    beta_zeros = np.zeros(X[0].shape)\n",
    "    t = time.time() - start\n",
    "    # print('beta_zeros', beta_zeros)\n",
    "    # print('X.dot beta_zeros', X.dot(beta_zeros).reshape(N, 1))\n",
    "    r = y - X.dot(beta_zeros).reshape(N, 1)\n",
    "    # print('residuals', r)\n",
    "    print('sum residuals square, all zeros', np.linalg.norm(r, ord=2), 'time %s' % t)\n",
    "\n",
    "    start = time.time()\n",
    "    Q, R = np.linalg.qr(X)\n",
    "    # print('Q', Q)\n",
    "    # print('R', R)\n",
    "    Rbeta = R.dot(beta)\n",
    "    # print('Rbeta', Rbeta)\n",
    "    Qty = Q.T.dot(y)\n",
    "    # print('Qty', Qty)\n",
    "    QtyK = Qty[:K]\n",
    "    # print('QtyK', QtyK)\n",
    "    # print('RBhat - QTyn', )\n",
    "    beta_qr = scipy.linalg.solve_triangular(R, QtyK)\n",
    "    t = time.time() - start\n",
    "    r = y - X.dot(beta_qr).reshape(N, 1)\n",
    "    # print('residuals', r)\n",
    "    print('sum residuals square, via QR', np.linalg.norm(r, ord=2), 'time %s' % t)\n",
    "\n",
    "    start = time.time()\n",
    "    XTX = X.T.dot(X)\n",
    "    R = scipy.linalg.cholesky(XTX)\n",
    "    XTy = X.T.dot(y)\n",
    "    Rbeta = scipy.linalg.solve_triangular(R.T, XTy, lower=True)\n",
    "    beta_chol = scipy.linalg.solve_triangular(R, Rbeta)\n",
    "    t = time.time() - start\n",
    "    r = y - X.dot(beta_chol).reshape(N, 1)\n",
    "    # print('residuals', r)\n",
    "    print('sum residuals square, via cholesky', np.linalg.norm(r, ord=2), 'time %s' % t)\n",
    "\n",
    "run(rand_scale=1/1000, rand_translate=1.7)\n",
    "run(N=1000, K=5, rand_scale=1/1000, rand_translate=1.1)\n",
    "run(N=1000, K=100, rand_scale=1/100, rand_translate=4.8)\n",
    "run(N=10000, K=1000, rand_scale=1/10, rand_translate=20)\n"
   ]
  },
  {
   "cell_type": "markdown",
   "metadata": {},
   "source": [
    "#### Orthogonal decomposition methods\n",
    "\n",
    "Write out the residuals:\n",
    "\n",
    "$$\n",
    "\\mathbf{r} = \\mathbf{y} - \\mathbf{X}\\mathbf{\\hat{\\beta}}\n",
    "$$"
   ]
  },
  {
   "cell_type": "markdown",
   "metadata": {},
   "source": [
    "#### Gramian matrix\n",
    "\n",
    "A set of vectors is linearly independent if and only if the Gram determinant is non-zero.\n",
    "\n",
    "The Gram determinant is the square of the volume of the parallelotope formed by the vectors."
   ]
  },
  {
   "cell_type": "markdown",
   "metadata": {},
   "source": [
    "#### QR Decomposition\n",
    "\n",
    "Any real square matrix $\\mathbf{A}$ may be decomposed as:\n",
    "$$\n",
    "\\mathbf{A} = \\mathbf{Q} \\mathbf{R}\n",
    "$$\n",
    "\n",
    "... where:\n",
    "\n",
    "- $\\mathbf{Q}$ is an orthogonal matrix\n",
    "- $\\mathbf{R}$ is an upper-triangular matrix\n",
    "\n",
    "The factorization is unique if we require that the elements of $\\mathbf{R}$ be positive\n",
    "\n",
    "More generally, for rectangular $\\mathbf{A}$:\n",
    "\n",
    "$$\n",
    "\\mathbf{A} = \\mathbf{Q}\\mathbf{R}\n",
    "$$\n",
    "&nbsp;\n",
    "\n",
    "$$\n",
    "= \\mathbf{Q}\n",
    "\\begin{bmatrix}\n",
    "\\mathbf{R}_1\n",
    "\\mathbf{0}\n",
    "\\end{bmatrix}\n",
    "$$\n",
    "&nbsp;\n",
    "\n",
    "$$\n",
    "=\n",
    "\\begin{bmatrix}\n",
    "\\mathbf{Q}_1 &\n",
    "\\mathbf{Q}_2\n",
    "\\end{bmatrix}\n",
    "\\begin{bmatrix}\n",
    "\\mathbf{R}_1 \\\\\n",
    "\\mathbf{0}\n",
    "\\end{bmatrix}\n",
    "$$\n",
    "&nbsp;\n",
    "\n",
    "$$\n",
    "=\\mathbf{Q}_1 \\mathbf{R}_1\n",
    "$$\n"
   ]
  },
  {
   "cell_type": "markdown",
   "metadata": {},
   "source": [
    "Q represents rotations, and/or reflection.  No stretching/shearing/scaling etc.\n",
    "\n",
    "The first $k$ columns of $mathbf{Q}$ form an orthonormal basis for the span of the first $k$ columns of $\\mathbf{A}$.  Any column $k$ of $\\mathbf{A}$ depends only on the first $k$ columns of $\\mathbf{Q}$, hence the triangular form of $\\mathbf{R}$.\n",
    "\n",
    "Since $\\mathbf{Q}$ is orthornormal, so this means that $\\mathbf{Q}^T\\mathbf{Q} = \\mathbf{I}$."
   ]
  },
  {
   "cell_type": "markdown",
   "metadata": {},
   "source": [
    "__Computation of QR decomposition__\n",
    "\n",
    "QR decomposition can be calculated by:\n",
    "\n",
    "- Gram-Schmidt process: relatively simple.  Quick. Numerically unstable\n",
    "- Householder reflections: slower.  numerically more stable\n"
   ]
  },
  {
   "cell_type": "code",
   "execution_count": 2,
   "metadata": {
    "collapsed": false
   },
   "outputs": [
    {
     "name": "stdout",
     "output_type": "stream",
     "text": [
      "A\n",
      " [[ 0.8020184  -0.96804569 -0.30779519  0.4328257 ]\n",
      " [ 0.85245695  0.22023317 -0.65260896 -1.38087883]\n",
      " [-0.20608982  0.03041821 -0.14135595 -0.37971458]]\n",
      "Q\n",
      " [[-0.67484978  0.73463226  0.0699516 ]\n",
      " [-0.71729076 -0.67527383  0.1717534 ]\n",
      " [ 0.17341207  0.0657321   0.98265332]]\n",
      "R\n",
      " [[-1.18843989  0.50058908  0.65131306  0.6325522 ]\n",
      " [ 0.         -0.85787583  0.20528185  1.22547962]\n",
      " [ 0.          0.         -0.27252247 -0.58002157]]\n",
      "B\n",
      " [[ 1.84687893  0.57062657  0.45735341]\n",
      " [-0.39986238  1.09655474 -1.97874087]\n",
      " [-0.41349776 -0.56895159 -1.08720066]\n",
      " [ 0.18363002  0.48554456  0.24484261]]\n",
      "Q2\n",
      " [[-0.9504914  -0.08145174 -0.29940135 -0.01704511]\n",
      " [ 0.20578813 -0.8785382  -0.40606039 -0.14469566]\n",
      " [ 0.21280554  0.34229686 -0.79455581  0.45412303]\n",
      " [-0.09450471 -0.32306208  0.3378681   0.87894534]]\n",
      "R2\n",
      " [[-1.943078   -0.48368    -1.09641297]\n",
      " [ 0.         -1.36145513  1.24990249]\n",
      " [ 0.          0.          1.61312217]\n",
      " [ 0.          0.          0.        ]]\n",
      "[[ 1.84687893  0.57062657  0.45735341]\n",
      " [-0.39986238  1.09655474 -1.97874087]\n",
      " [-0.41349776 -0.56895159 -1.08720066]\n",
      " [ 0.18363002  0.48554456  0.24484261]]\n"
     ]
    }
   ],
   "source": [
    "\n",
    "import numpy as np\n",
    "import math\n",
    "\n",
    "A = np.random.randn(3, 4)\n",
    "print('A\\n', A)\n",
    "\n",
    "Q, R = np.linalg.qr(A)\n",
    "print('Q\\n', Q)\n",
    "print('R\\n', R)\n",
    "\n",
    "B = np.random.randn(4, 3)\n",
    "print('B\\n', B)\n",
    "Q2, R2 = np.linalg.qr(B, 'complete')\n",
    "print('Q2\\n', Q2)\n",
    "print('R2\\n', R2)\n",
    "\n",
    "print(Q2.dot(R2))"
   ]
  },
  {
   "cell_type": "code",
   "execution_count": 3,
   "metadata": {
    "collapsed": false
   },
   "outputs": [
    {
     "name": "stderr",
     "output_type": "stream",
     "text": [
      "/home/ubuntu/.local/lib/python3.5/site-packages/matplotlib/font_manager.py:273: UserWarning: Matplotlib is building the font cache using fc-list. This may take a moment.\n",
      "  warnings.warn('Matplotlib is building the font cache using fc-list. This may take a moment.')\n",
      "/home/ubuntu/.local/lib/python3.5/site-packages/matplotlib/font_manager.py:273: UserWarning: Matplotlib is building the font cache using fc-list. This may take a moment.\n",
      "  warnings.warn('Matplotlib is building the font cache using fc-list. This may take a moment.')\n"
     ]
    },
    {
     "name": "stdout",
     "output_type": "stream",
     "text": [
      "y [-0.16054554  0.05653571  0.04200229 -0.32529482 -0.26025412]\n"
     ]
    },
    {
     "data": {
      "image/png": "[encoded data removed]",
      "text/plain": [
       "<matplotlib.figure.Figure at 0x7fa8906105c0>"
      ]
     },
     "metadata": {},
     "output_type": "display_data"
    },
    {
     "name": "stdout",
     "output_type": "stream",
     "text": [
      "X\n",
      " [[-1.08563066]\n",
      " [ 0.99734545]\n",
      " [ 0.2829785 ]\n",
      " [-1.50629473]\n",
      " [-0.57860023]]\n",
      "y\n",
      " [-0.16054554  0.05653571  0.04200229 -0.32529482 -0.26025412]\n"
     ]
    }
   ],
   "source": [
    "import matplotlib.pyplot as plt\n",
    "import numpy as np\n",
    "import math\n",
    "import importlib\n",
    "import mylib\n",
    "importlib.reload(mylib)\n",
    "from mylib import plot_vector, zerov\n",
    "\n",
    "\n",
    "N = 5\n",
    "K = 1\n",
    "\n",
    "beta_underlying = np.zeros((K,), dtype=np.float32)\n",
    "beta_underlying.fill(0.3)\n",
    "noise = 0.1\n",
    "\n",
    "# xv = np.array([30, 90])\n",
    "np.random.seed(123)\n",
    "X = np.random.randn(N, K).astype(np.float32)\n",
    "y = X.dot(beta_underlying) + np.random.randn(N) * noise\n",
    "print('y', y)\n",
    "\n",
    "# plot_vector(zerov, xv, 'r-x', label='x')\n",
    "# plt.legend()\n",
    "# plt.show()\n",
    "plt.plot(X.reshape(N), np.zeros(N), 'o')\n",
    "plt.plot(X.reshape(N), y, 'o')\n",
    "plt.show()\n",
    "\n",
    "print('X\\n', X)\n",
    "print('y\\n', y)"
   ]
  },
  {
   "cell_type": "code",
   "execution_count": 4,
   "metadata": {
    "collapsed": false
   },
   "outputs": [
    {
     "name": "stdout",
     "output_type": "stream",
     "text": [
      "beta [ 0.18182514]\n",
      "X.reshape(N) [-1.08563066  0.99734545  0.2829785  -1.50629473 -0.57860023]\n",
      "y [-0.16054554  0.05653571  0.04200229 -0.32529482 -0.26025412]\n",
      "X.dot(beta) [-0.19739495  0.18134248  0.05145261 -0.27388225 -0.10520407]\n",
      "r [ 0.0368494  -0.12480677 -0.00945031 -0.05141257 -0.15505005]\n"
     ]
    },
    {
     "data": {
      "image/png": "[encoded data removed]",
      "text/plain": [
       "<matplotlib.figure.Figure at 0x7fa8906104e0>"
      ]
     },
     "metadata": {},
     "output_type": "display_data"
    }
   ],
   "source": [
    "beta = np.linalg.inv(X.T.dot(X)).dot(X.T.dot(y))\n",
    "print('beta', beta)\n",
    "plt.plot(X.reshape(N), np.zeros(N), 'o')\n",
    "plt.plot(X.reshape(N), y, 'o')\n",
    "plt.plot(X.reshape(N), X.dot(beta), 'x-')\n",
    "r = y - X.dot(beta)\n",
    "print('X.reshape(N)', X.reshape(N))\n",
    "print('y', y)\n",
    "print('X.dot(beta)', X.dot(beta))\n",
    "print('r', r)\n",
    "plt.plot(X.reshape(N), r, '.')\n",
    "plt.show()\n"
   ]
  },
  {
   "cell_type": "markdown",
   "metadata": {},
   "source": [
    "Try projecting vectors onto $(e_1, e_2)$:"
   ]
  },
  {
   "cell_type": "code",
   "execution_count": 5,
   "metadata": {
    "collapsed": false
   },
   "outputs": [
    {
     "name": "stdout",
     "output_type": "stream",
     "text": [
      "X [[-1.08563066]\n",
      " [ 0.99734545]\n",
      " [ 0.2829785 ]\n",
      " [-1.50629473]\n",
      " [-0.57860023]]\n"
     ]
    },
    {
     "data": {
      "image/png": "[encoded data removed]",
      "text/plain": [
       "<matplotlib.figure.Figure at 0x7fa89060e9b0>"
      ]
     },
     "metadata": {},
     "output_type": "display_data"
    }
   ],
   "source": [
    "import mylib\n",
    "import importlib\n",
    "importlib.reload(mylib)\n",
    "\n",
    "print('X', X)\n",
    "# plt.plot(X.reshape(N), np.zeros(N), 'o')\n",
    "# plt.plot(X.reshape(N), y, 'o')\n",
    "# plt.plot(X.reshape(N), X.dot(beta), 'x-')\n",
    "r = y - X.dot(beta)\n",
    "# print('X.reshape(N)', X.reshape(N))\n",
    "# print('y', y)\n",
    "# print('X.dot(beta)', X.dot(beta))\n",
    "# print('r', r)\n",
    "# plt.plot(X.reshape(N), r, '.')\n",
    "mylib.plot_vector(X.reshape(N)[:2])\n",
    "mylib.plot_vector(y.reshape(N)[:2])\n",
    "mylib.plot_vector(X.dot(beta).reshape(N)[:2])\n",
    "# mylib.plot_vector(beta.reshape(N)[:2])\n",
    "plt.show()"
   ]
  },
  {
   "cell_type": "markdown",
   "metadata": {},
   "source": [
    "Try projecting onto hyperplane, $\\mathbf{H}$ containing $\\mathbf{X}_{*,1}$ and $\\mathbf{y}$.\n",
    "\n",
    "So, we want a projection $\\mathbf{S}$, such that:\n",
    "\n",
    "- any vector orthogonal to $\\mathbf{H}$ hyperplane is also orthogonal to $\\mathbf{X}_{*,1}$ and $\\mathbf{y}$\n",
    "- the projection of $\\mathbf{X}_{*,1}$ and $\\mathbf{y}$, ie $\\mathbf{S}\\mathbf{X}_{*,1}$ and $\\mathbf{S}\\mathbf{y}$ is orthogonal to any vector orthogonal to $\\mathbf{H}$ hyperplane\n",
    "- $\\mathbf{S}\\mathbf{X}_{*,1} \\otimes \\mathbf{S}\\mathbf{y}$ should be orthogonal to $\\mathbf{H}$\n",
    "- $\\mathbf{S}\\mathbf{X}_{*,1} - \\mathbf{X}$ should be orthogonal to $\\mathbf{H}$\n",
    "- $\\mathbf{S}\\mathbf{X}_{*,1} - \\mathbf{X}$ should be orthogonal to $\\mathbf{S}\\mathbf{y}$\n",
    "- vector orthogonal to $\\mathbf{H}$ is $\\mathbf{X}_{*,1} \\otimes \\mathbf{y}$\n",
    "\n",
    "... but actually, what we want is an orthonormal basis for the hyperplane.  One vector will be:\n",
    "\n",
    "$$\n",
    "\\mathbf{b}_1  = \\frac{\\mathbf{X}_{*,1}}{\\lvert\\mathbf{X}_{*,1}\\rvert}\n",
    "$$\n",
    "\n",
    "The other vector will be:\n",
    "\n",
    "$$\n",
    "\\lvert \\mathbf{b}_2\\rvert \\mathbf{b}_2 = \\mathbf{y} - \\frac{\\mathbf{y}^T \\mathbf{X}_{*,1}}{\\mathbf{X}_{*,1}^T \\mathbf{X}_{*,1}}\\mathbf{X}_{*,1}\n",
    "$$\n",
    "\n",
    "$$\n",
    "\n",
    "$$\n"
   ]
  },
  {
   "cell_type": "code",
   "execution_count": 31,
   "metadata": {
    "collapsed": false
   },
   "outputs": [
    {
     "name": "stdout",
     "output_type": "stream",
     "text": [
      "b0 [-0.49260056  0.4525415   0.12840036 -0.6834752  -0.26253754]\n",
      "norm b0 1.0\n",
      "y_proj_x0 [-0.19739494  0.18134247  0.0514526  -0.27388224 -0.10520406]\n",
      "norm y_proj_x0 0.40072\n",
      "norm b1_unnorm 0.209063834915\n",
      "b1 [ 0.17625906 -0.59697918 -0.045203   -0.24591808 -0.7416398 ]\n",
      "x0.dot(b1) -1.27457262022e-07\n",
      "norm x0 2.20388\n",
      "2.20388\n",
      "norm y 0.451978179775\n",
      "0.451978179775\n",
      "norm b1 1.0\n",
      "b0.dot(b1) -5.46022181913e-08\n",
      "beta [ 0.18182514]\n",
      "y_proj_basis[0] / X_proj_basis[0] 0.181825\n"
     ]
    },
    {
     "data": {
      "image/png": "[encoded data removed]",
      "text/plain": [
       "<matplotlib.figure.Figure at 0x7fa86524a4e0>"
      ]
     },
     "metadata": {},
     "output_type": "display_data"
    }
   ],
   "source": [
    "import mylib\n",
    "import importlib\n",
    "importlib.reload(mylib)\n",
    "\n",
    "x0 = X[:, 0]\n",
    "b0 = x0 / np.linalg.norm(x0)\n",
    "print('b0', b0)\n",
    "print('norm b0', np.linalg.norm(b0))\n",
    "\n",
    "y_proj_x0 = y.dot(x0) / x0.dot(x0) * x0\n",
    "print('y_proj_x0', y_proj_x0)\n",
    "print('norm y_proj_x0', np.linalg.norm(y_proj_x0))\n",
    "b1_unnorm = y - y_proj_x0\n",
    "print('norm b1_unnorm', np.linalg.norm(b1_unnorm))\n",
    "b1 = b1_unnorm / np.linalg.norm(b1_unnorm)\n",
    "print('b1', b1)\n",
    "\n",
    "print('x0.dot(b1)', x0.dot(b1))\n",
    "\n",
    "print('norm x0', np.linalg.norm(x0))\n",
    "print(np.sqrt(np.sum(np.power(x0, 2))))\n",
    "print('norm y', np.linalg.norm(y))\n",
    "print(np.sqrt(np.sum(np.power(y, 2))))\n",
    "print('norm b1', np.linalg.norm(b1))\n",
    "print('b0.dot(b1)', b0.dot(b1))\n",
    "\n",
    "def proj_ortho_basis(v, b0, b1):\n",
    "    v = v.reshape(-1)\n",
    "    b0 = b0.reshape(-1)\n",
    "    b1 = b1.reshape(-1)\n",
    "    x = v.dot(b0)\n",
    "    y = v.dot(b1)\n",
    "    proj = np.array([x, y], dtype=np.float32)\n",
    "    return proj\n",
    "\n",
    "X_proj_basis = proj_ortho_basis(X, b0, b1)\n",
    "y_proj_basis = proj_ortho_basis(y, b0, b1)\n",
    "print('beta', beta)\n",
    "print('y_proj_basis[0] / X_proj_basis[0]', y_proj_basis[0] / X_proj_basis[0])\n",
    "\n",
    "plt.figure(figsize=(6, 6))\n",
    "mylib.plot_vector(X_proj_basis, formatstr='-x', label='X proj')\n",
    "mylib.plot_vector(y_proj_basis, formatstr='-o', label='y proj')\n",
    "plt.xlim(-0.1, 2.3)\n",
    "plt.ylim(-0.1, 2.3)\n",
    "plt.legend()\n",
    "plt.show()\n"
   ]
  },
  {
   "cell_type": "markdown",
   "metadata": {},
   "source": [
    "What if we project from $\\mathbf{X}$ onto $\\mathbf{y}$?"
   ]
  },
  {
   "cell_type": "code",
   "execution_count": 28,
   "metadata": {
    "collapsed": false
   },
   "outputs": [
    {
     "name": "stdout",
     "output_type": "stream",
     "text": [
      "b0 [-0.3552064   0.12508504  0.09292991 -0.71971354 -0.57581125]\n",
      "norm b0 1.0\n",
      "x0_proj_y [-0.69405141  0.24440846  0.18157932 -1.40627589 -1.12509969]\n",
      "norm x0_proj_y 1.95393835555\n",
      "norm b1_unnorm 1.0194094504\n",
      "b1 [-0.38412361  0.73860114  0.09946856 -0.09811449  0.53609417]\n",
      "y.dot(b1) 1.11022302463e-16\n",
      "norm x0 2.20388\n",
      "2.20388\n",
      "norm y 0.451978179775\n",
      "0.451978179775\n",
      "norm b1 1.0\n",
      "b0.dot(b1) 2.22044604925e-16\n",
      "y_proj_basis[0] / X_proj_basis[0] 0.231316\n"
     ]
    },
    {
     "data": {
      "image/png": "[encoded data removed]",
      "text/plain": [
       "<matplotlib.figure.Figure at 0x7fa8652dd400>"
      ]
     },
     "metadata": {},
     "output_type": "display_data"
    }
   ],
   "source": [
    "\"\"\"\n",
    "This uses y/mod(y) as b_0, and projects from X onto y\n",
    "\"\"\"\n",
    "\n",
    "import mylib\n",
    "import importlib\n",
    "importlib.reload(mylib)\n",
    "\n",
    "x0 = X[:, 0]\n",
    "\n",
    "b0 = y / np.linalg.norm(y)\n",
    "print('b0', b0)\n",
    "print('norm b0', np.linalg.norm(b0))\n",
    "\n",
    "x0_proj_y = x0.dot(y) / y.dot(y) * y\n",
    "print('x0_proj_y', x0_proj_y)\n",
    "print('norm x0_proj_y', np.linalg.norm(x0_proj_y))\n",
    "b1_unnorm = x0 - x0_proj_y\n",
    "print('norm b1_unnorm', np.linalg.norm(b1_unnorm))\n",
    "b1 = b1_unnorm / np.linalg.norm(b1_unnorm)\n",
    "print('b1', b1)\n",
    "\n",
    "print('y.dot(b1)', y.dot(b1))\n",
    "\n",
    "print('norm x0', np.linalg.norm(x0))\n",
    "print(np.sqrt(np.sum(np.power(x0, 2))))\n",
    "print('norm y', np.linalg.norm(y))\n",
    "print(np.sqrt(np.sum(np.power(y, 2))))\n",
    "print('norm b1', np.linalg.norm(b1))\n",
    "print('b0.dot(b1)', b0.dot(b1))\n",
    "\n",
    "def proj_ortho_basis(v, b0, b1):\n",
    "    v = v.reshape(-1)\n",
    "    b0 = b0.reshape(-1)\n",
    "    b1 = b1.reshape(-1)\n",
    "    x = v.dot(b0)\n",
    "    y = v.dot(b1)\n",
    "    proj = np.array([x, y], dtype=np.float32)\n",
    "    return proj\n",
    "\n",
    "X_proj_basis = proj_ortho_basis(X, b0, b1)\n",
    "y_proj_basis = proj_ortho_basis(y, b0, b1)\n",
    "# print('beta', beta)\n",
    "beta_rev = np.array([y_proj_basis[0] / X_proj_basis[0]], dtype=np.float32)\n",
    "print('y_proj_basis[0] / X_proj_basis[0]', y_proj_basis[0] / X_proj_basis[0])\n",
    "\n",
    "plt.figure(figsize=(6, 6))\n",
    "mylib.plot_vector(X_proj_basis, formatstr='-x', label='X proj')\n",
    "mylib.plot_vector(y_proj_basis, formatstr='-o', label='y proj')\n",
    "plt.xlim(-0.1, 2.1)\n",
    "plt.ylim(-0.1, 2.1)\n",
    "plt.legend()\n",
    "plt.show()\n"
   ]
  },
  {
   "cell_type": "code",
   "execution_count": 32,
   "metadata": {
    "collapsed": false
   },
   "outputs": [
    {
     "data": {
      "image/png": "[encoded data removed]",
      "text/plain": [
       "<matplotlib.figure.Figure at 0x7fa8652bb400>"
      ]
     },
     "metadata": {},
     "output_type": "display_data"
    }
   ],
   "source": [
    "plt.plot(X.reshape(N), np.zeros(N), 'o')\n",
    "plt.plot(X.reshape(N), y, 'o')\n",
    "plt.plot(X.reshape(N), X.dot(beta), 'x-', label='beta from y proj X')\n",
    "plt.plot(X.reshape(N), X.dot(beta_rev), 'x-', label='beta from X proj y')\n",
    "plt.legend(bbox_to_anchor=(0.5, 0.9))\n",
    "plt.show()\n"
   ]
  },
  {
   "cell_type": "code",
   "execution_count": 18,
   "metadata": {
    "collapsed": false
   },
   "outputs": [
    {
     "name": "stdout",
     "output_type": "stream",
     "text": [
      "beta [ 0.18182514] loss 0.209063833949\n",
      "beta_rev [ 0.23131649] loss_rev 0.235806211733\n"
     ]
    }
   ],
   "source": [
    "loss = np.linalg.norm(y - X.dot(beta))\n",
    "loss_rev = np.linalg.norm(y - X.dot(beta_rev))\n",
    "print('beta', beta, 'loss', loss)\n",
    "print('beta_rev', beta_rev, 'loss_rev', loss_rev)"
   ]
  },
  {
   "cell_type": "markdown",
   "metadata": {},
   "source": [
    "Of course, the shortest line from $\\mathbf{y}$ to $\\mathbf{X}_{*,1}$ will be perpendicular to $\\mathbf{X}_{*,1}$, and not perpendicular to $\\mathbf{y}$.  Since $\\mathbf{y}$ is fixed, and the angle of $\\mathbf{x}$ and $\\mathbf{X}_{*,1}$ is fixed, so the only thing we can choose is: \"from which part of the line $\\mathbf{X}_{*,1}$ do we want to draw a line to the end of $\\mathbf{y}$?\""
   ]
  },
  {
   "cell_type": "code",
   "execution_count": 27,
   "metadata": {
    "collapsed": false
   },
   "outputs": [
    {
     "data": {
      "image/png": "[encoded data removed]",
      "text/plain": [
       "<matplotlib.figure.Figure at 0x7fa865290748>"
      ]
     },
     "metadata": {},
     "output_type": "display_data"
    }
   ],
   "source": [
    "import mylib\n",
    "import importlib\n",
    "importlib.reload(mylib)\n",
    "\n",
    "x0 = X[:, 0]\n",
    "\n",
    "b0 = y / np.linalg.norm(y)\n",
    "\n",
    "x0_proj_y = x0.dot(y) / y.dot(y) * y\n",
    "b1_unnorm = x0 - x0_proj_y\n",
    "b1 = b1_unnorm / np.linalg.norm(b1_unnorm)\n",
    "\n",
    "def proj_ortho_basis(v, b0, b1):\n",
    "    v = v.reshape(-1)\n",
    "    b0 = b0.reshape(-1)\n",
    "    b1 = b1.reshape(-1)\n",
    "    x = v.dot(b0)\n",
    "    y = v.dot(b1)\n",
    "    proj = np.array([x, y], dtype=np.float32)\n",
    "    return proj\n",
    "\n",
    "X_proj_basis = proj_ortho_basis(X, b0, b1)\n",
    "y_proj_basis = proj_ortho_basis(y, b0, b1)\n",
    "\n",
    "X_beta = X.dot(beta)\n",
    "X_beta_rev = X.dot(beta_rev)\n",
    "\n",
    "plt.figure(figsize=(6, 6))\n",
    "mylib.plot_vector(X_proj_basis, formatstr='-x', label='X proj')\n",
    "mylib.plot_vector(y_proj_basis, formatstr='-o', label='y proj')\n",
    "mylib.plot_vector(proj_ortho_basis(X_beta, b0, b1), formatstr='-o', label='X.dot(beta) proj')\n",
    "mylib.plot_vector(proj_ortho_basis(X_beta_rev, b0, b1), formatstr='-o', label='y.dot(beta_rev) proj')\n",
    "mylib.plot_vector(proj_ortho_basis(X_beta, b0, b1), proj_ortho_basis(y, b0, b1), formatstr='-o', label='X.dot(beta) to y')\n",
    "mylib.plot_vector(proj_ortho_basis(X_beta_rev, b0, b1), proj_ortho_basis(y, b0, b1), formatstr='-o', label='X.dot(beta_rev) to y')\n",
    "plt.xlim(-0.1, 2.1)\n",
    "plt.ylim(-0.1, 2.1)\n",
    "plt.legend()\n",
    "plt.show()"
   ]
  }
 ],
 "metadata": {
  "kernelspec": {
   "display_name": "Python 3",
   "language": "python",
   "name": "python3"
  },
  "language_info": {
   "codemirror_mode": {
    "name": "ipython",
    "version": 3
   },
   "file_extension": ".py",
   "mimetype": "text/x-python",
   "name": "python",
   "nbconvert_exporter": "python",
   "pygments_lexer": "ipython3",
   "version": "3.5.2"
  }
 },
 "nbformat": 4,
 "nbformat_minor": 2
}
