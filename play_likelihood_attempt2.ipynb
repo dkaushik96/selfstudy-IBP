{
 "cells": [
  {
   "cell_type": "markdown",
   "metadata": {},
   "source": [
    "# Experiments with IBP posterior, with simplified data\n",
    "\n"
   ]
  },
  {
   "cell_type": "markdown",
   "metadata": {},
   "source": [
    "Lets start with the finite model.  The vision, my vision, is I'm going to use projection, to visualize what is happening somehow.  So, we will start with eg 5 data points, since those wont affect the dimensionality of such projections, I hope/think."
   ]
  },
  {
   "cell_type": "code",
   "execution_count": 9,
   "metadata": {
    "collapsed": false
   },
   "outputs": [
    {
     "name": "stdout",
     "output_type": "stream",
     "text": [
      "A_gt [[-1.0856306]]\n",
      "Z_gt [[0]\n",
      " [0]\n",
      " [0]\n",
      " [1]\n",
      " [1]]\n",
      "ZA_gt [[ 0.       ]\n",
      " [ 0.       ]\n",
      " [ 0.       ]\n",
      " [-1.0856306]\n",
      " [-1.0856306]]\n",
      "X [[ 0.09973454]\n",
      " [ 0.15213608]\n",
      " [-0.00482499]\n",
      " [-0.92610049]\n",
      " [-1.26394003]]\n"
     ]
    }
   ],
   "source": [
    "import numpy as np\n",
    "import math\n",
    "import mylib\n",
    "\n",
    "\n",
    "N = 5  # number data points\n",
    "K = 1  # number possible features\n",
    "D = 1  # number of dimensions in each x sample\n",
    "\n",
    "sigma_A = 1\n",
    "sigma_X = 0.1\n",
    "\n",
    "# use _gt postfix to denote 'ground truth'\n",
    "\n",
    "np.random.seed(123)\n",
    "A_gt = np.random.randn(K, D) * sigma_A\n",
    "print('A_gt', A_gt)\n",
    "\n",
    "Z_gt = np.random.choice(2, size=(N, K))\n",
    "print('Z_gt', Z_gt)\n",
    "\n",
    "ZA_gt = Z_gt.dot(A_gt)\n",
    "print('ZA_gt', ZA_gt)\n",
    "\n",
    "X = ZA_gt + np.random.randn(N, D) * sigma_X\n",
    "print('X', X)\n",
    "\n",
    "\n",
    "def get_orthonormal_basis(X):\n",
    "    \"\"\"\n",
    "    we are going to calculate an orthonormal basis\n",
    "    for the columnspace of X\n",
    "    \"\"\"\n",
    "    \n",
    "    # first basis vector is simply normalized form of \n",
    "    # first column vector of X\n",
    "    # note: we are going to assume X columns are\n",
    "    # linearly independent for now\n",
    "    # B is basis\n",
    "    K = X.shape[1]\n",
    "    D = X.shape[0]\n",
    "    B = np.zeros((D, K), dtype=np.float32)\n",
    "    B[:, 0] = X[:, 0] / np.linalg.norm(X[:, 0])\n",
    "    for k in len(K):\n",
    "        if k == 0:\n",
    "            continue\n",
    "        b_unnorm = X[:, k]\n",
    "        for k2 in range(k):\n",
    "            b_proj_k2 = b_unnorm.dot(B[:, k2])\n",
    "            b_unnorm -= b_proj_k2\n",
    "        b_norm = b_unnorm / np.linalg.norm(b_unnorm)\n",
    "        B[:, k] = b_norm\n"
   ]
  }
 ],
 "metadata": {
  "kernelspec": {
   "display_name": "Python 3",
   "language": "python",
   "name": "python3"
  },
  "language_info": {
   "codemirror_mode": {
    "name": "ipython",
    "version": 3
   },
   "file_extension": ".py",
   "mimetype": "text/x-python",
   "name": "python",
   "nbconvert_exporter": "python",
   "pygments_lexer": "ipython3",
   "version": "3.5.2"
  }
 },
 "nbformat": 4,
 "nbformat_minor": 2
}
