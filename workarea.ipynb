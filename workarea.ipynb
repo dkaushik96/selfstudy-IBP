{
 "cells": [
  {
   "cell_type": "markdown",
   "metadata": {},
   "source": [
    "### Taking the infinite limit\n",
    "\n",
    "Just following through the tutorial directly:\n",
    "\n",
    "We take $\\mathbf{Z}$ to be in left-ordered form, and write it as $[ \\mathbf{Z}_+ \\mathbf{Z}_0]$.\n",
    "\n",
    "Therefore, $|\\mathbf{Z}^T\\mathbf{Z} + \\frac{\\sigma_X^2}{\\sigma_A^2}\\mathbf{I}|$ becomes:\n",
    "\n",
    "$$\n",
    "\\left|\n",
    "  \\begin{bmatrix}\n",
    "    \\mathbf{Z}^T_+ \\mathbf{Z}_+ & \\mathbf{0} \\\\\n",
    "    \\mathbf{0} & \\mathbf{0} \\\\\n",
    "  \\end{bmatrix}\n",
    "  +\n",
    "  \\frac{\\sigma_X^2}{\\sigma_A^2}\n",
    "  \\mathbf{I}_K\n",
    "\\right|\n",
    "$$\n",
    "\n",
    "$$\n",
    "= \\left(\n",
    "  \\frac{\\sigma_X^2}{\\sigma_A^2}\n",
    "\\right)^{K_0}\n",
    "\\left|\n",
    "  \\mathbf{Z}_+^T\\mathbf{Z}_+\n",
    "  +\n",
    "  \\frac{\\sigma_X^2}{\\sigma_A^2}\\mathbf{I}_{K^+}\n",
    "\\right|\n",
    "$$"
   ]
  },
  {
   "cell_type": "markdown",
   "metadata": {},
   "source": [
    "And: $\\mathbf{Z}(\\mathbf{Z}^T\\mathbf{Z} + \\frac{\\sigma_X^2}{\\sigma_A^2}\\mathbf{I})^{-1}\\mathbf{Z}^T$ becomes:\n",
    "\n",
    "$$\n",
    "\\mathbf{Z}_+\n",
    "\\left(\n",
    "\\mathbf{Z}^T_+\n",
    "\\mathbf{Z}_+\n",
    "+\n",
    "\\frac{\\sigma_X^2}{\\sigma_A^2}\n",
    "\\mathbf{I}_{K_+}\n",
    "\\right)^{-1}\n",
    "\\mathbf{Z}_+^T\n",
    "$$\n"
   ]
  },
  {
   "cell_type": "markdown",
   "metadata": {},
   "source": [
    "Reminder, equation 21 from the tutorial is the marginal probability of $\\mathbf{X}$ given $\\mathbf{Z}$, with $\\mathbf{A}$ marginalized out:\n",
    "\n",
    "$$\n",
    "P(\\mathbf{X} \\mid \\mathbf{Z}, \\sigma_X, \\sigma_A)\n",
    "=\n",
    "\\frac\n",
    "  {1}\n",
    "  {(2\\pi)^{ND/2} \\sigma_X^{(N-K)D} \\sigma_A^{KD} |\\mathbf{Z}^T\\mathbf{Z} + \\frac{\\sigma_X^2}{\\sigma_A^2} \\mathbf{I}|^{D/2} }\n",
    "\\exp \\left(\n",
    "  -\\frac{1}{2\\sigma_X^2}\n",
    "  \\mathrm{tr} \\left(\n",
    "    \\mathbf{X}^T(\\mathbf{I} - \\mathbf{Z}(\\mathbf{Z}^T\\mathbf{Z} + \\frac{\\sigma_X^2}{\\sigma_A^2} \\mathbf{I})^{-1}\\mathbf{Z}^T)\\mathbf{X}\n",
    "  \\right)\n",
    "\\right)\n",
    "$$\n",
    "\n",
    "$$\n",
    "=\n",
    "\\frac\n",
    "  {1}\n",
    "  {(2\\pi)^{ND/2} \\sigma_X^{(N-K_+)D} \\sigma_A^{K_+D} |\\mathbf{Z_+}^T\\mathbf{Z_+} + \\frac{\\sigma_X^2}{\\sigma_A^2} \\mathbf{I}_{K_+}|^{D/2} }\n",
    "\\exp \\left(\n",
    "  -\\frac{1}{2\\sigma_X^2}\n",
    "  \\mathrm{tr} \\left(\n",
    "    \\mathbf{X}^T(\\mathbf{I} - \\mathbf{Z}_+(\\mathbf{Z}_+^T\\mathbf{Z}_+ + \\frac{\\sigma_X^2}{\\sigma_A^2} \\mathbf{I}_{K+})^{-1}\\mathbf{Z}_+^T)\\mathbf{X}\n",
    "  \\right)\n",
    "\\right)\n",
    "$$"
   ]
  }
 ],
 "metadata": {
  "kernelspec": {
   "display_name": "Python 3",
   "language": "python",
   "name": "python3"
  },
  "language_info": {
   "codemirror_mode": {
    "name": "ipython",
    "version": 3
   },
   "file_extension": ".py",
   "mimetype": "text/x-python",
   "name": "python",
   "nbconvert_exporter": "python",
   "pygments_lexer": "ipython3",
   "version": "3.5.2"
  }
 },
 "nbformat": 4,
 "nbformat_minor": 2
}
