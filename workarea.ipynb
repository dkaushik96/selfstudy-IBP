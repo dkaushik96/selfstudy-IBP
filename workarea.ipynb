{
 "cells": [
  {
   "cell_type": "markdown",
   "metadata": {},
   "source": [
    "### Conditional expression for one latent element\n",
    "\n",
    "For Gibbs sampling, we need the conditional probability of one latent element $z_{i,k}$, conditional on the other latent elements, and also on the observed data values.\n",
    "\n",
    "ie, we need:\n",
    "\n",
    "$$\n",
    "P(z_{i,k} \\mid \\mathbf{X}, \\mathbf{Z}_{-(i,k)}, \\sigma_X, \\sigma_A)\n",
    "$$\n",
    "\n",
    "Note that since we are marginalizing over $\\mathbf{A}$, there is no $\\mathbf{A}$ in this expression."
   ]
  },
  {
   "cell_type": "markdown",
   "metadata": {},
   "source": [
    "By Bayes Rules, the conditional probability for $z_{i,k}$ is:\n",
    "\n",
    "$$\n",
    "P(z_{i,k} | \\mathbf{X}, \\mathbf{Z}_{-(i,k)}, \\sigma_X, \\sigma_A)\n",
    "=\n",
    "\\frac\n",
    "  {P(\\mathbf{Z}_{-(i,k)} \\mid z_{i,k}, \\mathbf{X}, \\sigma_X, \\sigma_A)\\,P(z_{i,k} \\mid \\mathbf{X}, \\sigma_X, \\sigma_A)}\n",
    "  {P(\\mathbf{Z}_{-(i,k)} \\mid \\mathbf{X}, \\sigma_X, \\sigma_A)}\n",
    "$$\n",
    "\n",
    "$$\n",
    "=\n",
    "\\frac\n",
    "  {P(\\mathbf{Z}_{-(i,k)} \\mid z_{i,k}, \\mathbf{X}, \\sigma_X, \\sigma_A)\\,P(z_{i,k})}\n",
    "  {P(\\mathbf{Z}_{-(i,k)}}\n",
    "$$\n",
    "\n",
    "or, we can try slightly differently:\n",
    "\n",
    "$$\n",
    "P(z_{i,k} | \\mathbf{X}, \\mathbf{Z}_{-(i,k)}, \\sigma_X, \\sigma_A)\n",
    "=\n",
    "\\frac\n",
    "  {P(\\mathbf{X} \\mid z_{i,k}, \\mathbf{Z}_{-(i,k)}, \\mathbf{X}, \\sigma_X, \\sigma_A)\\,P(z_{i,k} \\mid \\mathbf{Z}_{-(i,k)},\\sigma_X, \\sigma_A)}\n",
    "  {P(\\mathbf{X} \\mid \\mathbf{Z}_{-(i,k)}, \\sigma_X, \\sigma_A)}\n",
    "$$\n",
    "\n",
    "$$\n",
    "=\n",
    "\\frac\n",
    "  {P(\\mathbf{X} \\mid \\mathbf{Z}, \\mathbf{X}, \\sigma_X, \\sigma_A)\\,P(z_{i,k} \\mid \\mathbf{Z}_{-(i,k)},\\sigma_X, \\sigma_A)}\n",
    "  {P(\\mathbf{X} \\mid \\mathbf{Z}_{-(i,k)}, \\sigma_X, \\sigma_A)}\n",
    "$$\n",
    "\n",
    "$$\n",
    "\\propto P(\\mathbf{X} \\mid \\mathbf{Z}, \\mathbf{X}, \\sigma_X, \\sigma_A)\\,P(z_{i,k} \\mid \\mathbf{Z}_{-(i,k)},\\sigma_X, \\sigma_A)\n",
    "$$\n",
    "\n",
    "(since the denominator is constant wrt $z_{i,k}$, therefore doesnt change the shape of the probability distribution of $z_{i,k}$, simply acts as a constant of normalization)"
   ]
  }
 ],
 "metadata": {
  "kernelspec": {
   "display_name": "Python 3",
   "language": "python",
   "name": "python3"
  },
  "language_info": {
   "codemirror_mode": {
    "name": "ipython",
    "version": 3
   },
   "file_extension": ".py",
   "mimetype": "text/x-python",
   "name": "python",
   "nbconvert_exporter": "python",
   "pygments_lexer": "ipython3",
   "version": "3.5.2"
  }
 },
 "nbformat": 4,
 "nbformat_minor": 2
}
