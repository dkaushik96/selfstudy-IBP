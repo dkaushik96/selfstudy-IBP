{
 "cells": [
  {
   "cell_type": "markdown",
   "metadata": {},
   "source": [
    "# Indian Buffet Processes\n",
    "\n",
    "## Notes by Hugh Perkins, 2017\n",
    "\n",
    "These notes adapted from:\n",
    "\n",
    "- [\"The Indian Buffet Process: An Introduction and Review\"](http://jmlr.org/papers/volume12/griffiths11a/griffiths11a.pdf), Griffiths, Ghahramani, 2011\n",
    "- [\"Introduction to the Dirichlet Distribution and Related Processes\"](http://mayagupta.org/publications/FrigyikKapilaGuptaIntroToDirichlet.pdf), Frigyik, Kapila, Gupta\n",
    "- [\"Advanced Data Analysis from an Elementary Point of View\"](http://www.stat.cmu.edu/~cshalizi/ADAfaEPoV/), Cosma Rohilla Shalizi, chapter 19, \"Mixture Models\"\n",
    "- [\"Mixture Models and the EM Algorithm\"](http://mlg.eng.cam.ac.uk/tutorials/06/cb.pdf), slide presentation by Bishop 2006\n",
    "\n",
    "The tutorial by Griffiths and Gahramani above was my primary resouce.  Then, in order to understand it, I needed to reach out to the other resources above :-)\n",
    "\n",
    "Generally speaking, these notes assume that you are reading the appropriate tutorial/paper/slides in parallel with these notes.\n",
    "\n",
    "These notes are organized approximately per-section:\n",
    "\n",
    "- [ibp_section1](ibp_section1.ipynb) This pdf: revision of multinomial distributions, Dirichlet distributions, mixture models\n",
    "- [ibp_section2](ibp_section2.ipynb)  Latent class models\n",
    "- [ibp_section3](ibp_section3.ipynb)  Latent feature models\n",
    "\n",
    "Let's start by revising multinomial and dirichlet distributions."
   ]
  },
  {
   "cell_type": "markdown",
   "metadata": {},
   "source": [
    "# Multinomial and Dirichlet Distributions\n",
    "\n",
    "These notes adapted from \"Introduction to the Dirichlet Distribution and Related Processes\", Frigyik, Kapila, Gupta"
   ]
  },
  {
   "cell_type": "markdown",
   "metadata": {},
   "source": [
    "## Multinomial distribution\n",
    "\n",
    "The multinomial distribution is parametrized by an integer $n$ and a pmf $q = [q_1, q_2, \\dots,q_k]$, and can be thought of as follows: if we have $n$ independent events, and for each event, the probability of outcome $i$ is $q_i$, then the multinomial distribution specifies the probability that outcome $i$ occurs $x_i$ times for $i=1,2,\\dots,k$.  For example, the multinomial distribution can model the probability of an $n$-sample empirical histogram, if each sample is drawn iid from $q$.  If $X \\sim \\mathrm{Multinomial}_k(n,q)$, then its probability mass function is given by:\n",
    "\n",
    "$$P(X=\\{x_1,x_2,\\dots,x_k \\} \\mid n,Q = \\{q_1, q_2, ..., q_k\\} ) = \\frac{n!}{x_1!x_2!\\dots x_k!}\\prod_{i=1}^k q_i^{x_i}$$\n",
    "\n",
    "When $k=2$, the multinomial distribution reduces to the binomial distribution.\n",
    "\n",
    "Example with some actual concrete numbers plugged in:"
   ]
  },
  {
   "cell_type": "code",
   "execution_count": 20,
   "metadata": {
    "collapsed": false
   },
   "outputs": [
    {
     "name": "stdout",
     "output_type": "stream",
     "text": [
      "X [3, 0, 0] p 0.03703703703703703 odds 1 in 27.0\n",
      "X [1, 1, 1] p 0.2222222222222222 odds 1 in 4.5\n",
      "X [2, 1, 0] p 0.1111111111111111 odds 1 in 9.0\n"
     ]
    }
   ],
   "source": [
    "import matplotlib.pyplot as plt\n",
    "import numpy as np\n",
    "import math\n",
    "\n",
    "n = 3\n",
    "k = 3\n",
    "\n",
    "# some possible distributions of x:\n",
    "Xs = [\n",
    "    [3, 0, 0],\n",
    "    [1, 1, 1],\n",
    "    [2, 1, 0]\n",
    "]\n",
    "\n",
    "# and here's our Q, ie, in this case, uniform distribution of possible values:\n",
    "Q = [1/k] * k\n",
    "\n",
    "for X in Xs:\n",
    "    numerator = math.factorial(n)\n",
    "    denominator = 1\n",
    "    prod_qi_xi = 1\n",
    "    for i in range(k):\n",
    "        denominator *= math.factorial(X[i])\n",
    "        prod_qi_xi *= math.pow(Q[i], X[i])\n",
    "    p = numerator * prod_qi_xi / denominator\n",
    "    odds = 1 / p\n",
    "    print('X', X, 'p', p, 'odds 1 in %s' % (int(odds * 10000) / 10000))\n"
   ]
  },
  {
   "cell_type": "markdown",
   "metadata": {},
   "source": [
    "There are 3 ways of arranging `[3, 0, 0]`, 1 way of arranging `[1, 1, 1]`, and `3 * 2 = 6` ways of arranging `[2, 1, 0]`, so total probability is:\n",
    "\n",
    "$$1/27 * 3 + 1/4.5 * 1 + 1/9 * 6$$\n",
    "\n",
    "$$= 1$$ (As required)"
   ]
  },
  {
   "cell_type": "markdown",
   "metadata": {},
   "source": [
    "## Dirichlet distribution\n",
    "\n",
    "A Dirichlet distribution is a distribution over probability mass functions of length $k$, that is over the $k-1$-dimensional probability simplex $\\Delta_k$, where:\n",
    "\n",
    "$$\\Delta_k = \\left\\{ q \\in \\mathbb{R}^k \\mid \\sum_{i=1}^k q_i = 1, q_i \\ge 0 \\ \\, \\mathrm{ for }\\, i=1,2,\\dots,k \\right\\}$$\n",
    "\n",
    "If $q\\sim \\mathrm{Dir}(\\alpha)$ then:\n",
    "\n",
    "$$p(q \\mid \\alpha) = \\frac{\\Gamma(\\alpha_0)}{\\prod_{i=1}^k\\Gamma(\\alpha_i)}\\prod_{i=1}^k q_i^{\\alpha_i-1}$$\n",
    "\n",
    "Gamma function is generalization of the factorial function: for $s \\gt 0$:\n",
    "\n",
    "$$\\Gamma(s + 1) = s\\Gamma(s)$$\n",
    "\n",
    "For positive integers $n$, $\\Gamma(n) = (n-1)!$, and $\\Gamma(1) = 1$\n",
    "\n",
    "When $k=2$, the Dirichlet reduces to the Beta distribution:\n",
    "\n",
    "$$f(x;\\alpha,\\beta) = \\frac{\\Gamma(\\alpha + \\beta)}{\\Gamma(\\alpha)\\Gamma(\\beta)} x^{\\alpha-1}(1-x)^{\\beta-1}$$\n",
    "\n",
    "If $X \\sim \\mathrm{Beta}(a,b)$, then $Q=(X, 1-X) \\sim \\mathrm{Dir}(\\alpha)$, where $\\alpha=[a\\,b]$\n",
    "\n",
    "Note that the form of the Dirichlet Distribution is basically identical to the Multinomial Distribution, except:\n",
    "\n",
    "- normalization is generalized, to handle non-integer $\\alpha_i$ values, using Gamma function\n",
    "- $1$ is subtracted from each $\\alpha_i$ value\n",
    "\n",
    "This will lead to the usage of a Dirichlet distribution as a conjugate prior for the Multinomial distribution, see later.\n",
    "\n",
    "## Properties of the Dirichlet Distribution\n",
    "\n",
    "(Just copying these from the tutorial mentioned above, without discussion for now)\n",
    "\n",
    "Density: $\\frac{1}{B(\\alpha)} \\prod_{j=1}^d q_j^{\\alpha_j-1}$\n",
    "\n",
    "Expectation: $\\frac{\\alpha_i}{\\alpha_0}$\n",
    "\n",
    "Mode: $\\frac{\\alpha - 1}{\\alpha_0 - k}$\n",
    "\n",
    "Marginal distribution: $q_i \\sim \\mathrm{Beta}(\\alpha_i, \\alpha_0 - \\alpha_i)$\n",
    "\n",
    "Conditional distribution: $(q_{-i} \\mid q_i ) \\sim (1 - q_i) \\, \\mathrm{Dir}(\\alpha_{-i})$"
   ]
  },
  {
   "cell_type": "markdown",
   "metadata": {},
   "source": [
    "## Conjugate prior for the multinomial\n",
    "\n",
    "Let's draw as follows:\n",
    "\n",
    "$$\\mathbf{q} \\sim \\,\\mathrm{Dir}\\,(\\mathbf{\\alpha})$$\n",
    "$$\\mathbf{x} \\sim \\,\\mathrm{Mult}_k\\,(n, \\mathbf{q}) $$\n",
    "\n",
    "What is $p(\\mathbf{q} \\mid \\mathbf{x}, \\mathbf{\\alpha})$?\n",
    "\n",
    "$$p(\\mathbf{q} \\mid \\mathbf{x} = \\gamma \\, p(\\mathbf{x} \\mid \\mathbf{q})\\,p(\\mathbf{q})$$\n",
    "$$=\\gamma\\, \\mathrm{Mult}_k\\,(n, \\mathbf{q}) \\, \\mathrm{Dir}\\,(\\mathbf{\\alpha})$$\n",
    "$$=\\gamma\\left( \\frac{n!}{x_1!x_2!\\dots x_k!} \\prod_{i=1}^k q_i^{x_i} \\right) \\left( \\frac{\\Gamma(\\alpha_1 + \\dots + \\alpha_k}{\\prod_{i=1}^k \\Gamma(\\alpha_i)} \\prod_{i=1}^k q_i^{\\alpha_i - 1} \\right)$$\n",
    "$$=\\tilde{\\gamma}\\prod_{i=1}^k q_i^{\\alpha_i + x_i - 1}$$\n",
    "$$=\\tilde{\\gamma} \\, \\mathrm{Dir}(\\mathbf{\\alpha} + \\mathbf{x})$$\n",
    "\n",
    "Hence:\n",
    "$$(Q \\mid X = \\mathbf{x}) \\sim \\mathrm{Dir}(\\mathbf{\\alpha} + \\mathbf{x})$$"
   ]
  },
  {
   "cell_type": "markdown",
   "metadata": {},
   "source": [
    "# Mixture models\n",
    "\n",
    "Probably good to revise mixture models too...\n",
    "\n",
    "These notes are based on [Cosma Shalizi's book](http://www.stat.cmu.edu/~cshalizi/ADAfaEPoV/), chapter 19, \"Mixture Models\", and on the slide presentation [\"Mixture Models and the EM Algorithm\", Bishop 2006](http://mlg.eng.cam.ac.uk/tutorials/06/cb.pdf)\n",
    "\n",
    "A mixture model is defined as:\n",
    "\n",
    "$$p(\\mathbf{x} = \\sum_{i=1}^k \\theta_i f_i(\\mathbf{x})$$\n",
    "where $f_i(\\cdot)$ are probability distributions over $\\mathbf{x}$, eg they could be Gaussian distributions.\n",
    "\n",
    "To generate points, we need to:\n",
    "\n",
    "- draw a class, $c_j$ for $j$ in $1,2,\\dots n$\n",
    "- draw a point, $\\mathbf{x}_j$ for $j$ in $1,2,\\dots,n$\n",
    "\n",
    "Let's try this, for gaussian distributions, with $d=2$ features, and $k=3$ clusters:"
   ]
  },
  {
   "cell_type": "code",
   "execution_count": 2,
   "metadata": {
    "collapsed": false
   },
   "outputs": [
    {
     "name": "stdout",
     "output_type": "stream",
     "text": [
      "theta [ 0.04313748  0.19931057  0.75755195]\n"
     ]
    },
    {
     "data": {
      "image/png": "[encoded data removed]",
      "text/plain": [
       "<matplotlib.figure.Figure at 0x7f3365759cc0>"
      ]
     },
     "metadata": {},
     "output_type": "display_data"
    },
    {
     "name": "stdout",
     "output_type": "stream",
     "text": [
      "c_counts [ 10  70 220]\n"
     ]
    },
    {
     "data": {
      "image/png": "[encoded data removed]",
      "text/plain": [
       "<matplotlib.figure.Figure at 0x7f33366e6da0>"
      ]
     },
     "metadata": {},
     "output_type": "display_data"
    },
    {
     "data": {
      "image/png": "[encoded data removed]",
      "text/plain": [
       "<matplotlib.figure.Figure at 0x7f3336686550>"
      ]
     },
     "metadata": {},
     "output_type": "display_data"
    }
   ],
   "source": [
    "import matplotlib.pyplot as plt\n",
    "import numpy as np\n",
    "from scipy.stats import multivariate_normal\n",
    "\n",
    "alpha = 1\n",
    "D = 2\n",
    "K = 3\n",
    "N = 300\n",
    "\n",
    "np.random.seed(122)\n",
    "\n",
    "# draw theta, from uniform prior, using Dirichlet Distribution\n",
    "# this uses the method from section 2.3 of the Frigyik, Kapila and Gupta tutorial earlier\n",
    "gammas = np.random.gamma(alpha/K, 1, size=(K,))\n",
    "# normalize to pdf\n",
    "theta = gammas / np.sum(gammas)\n",
    "print('theta', theta)\n",
    "\n",
    "# draw gaussian means, for each cluster\n",
    "gaussian_means = np.random.randn(K, 2)\n",
    "\n",
    "# plot the means\n",
    "for k in range(K):\n",
    "    plt.plot(gaussian_means[k, 0], gaussian_means[k, 1], 'o')\n",
    "plt.title('Cluster Means')\n",
    "plt.show()\n",
    "\n",
    "# draw gaussian covariance matrix, for each cluster\n",
    "gaussian_covariances = np.random.randn(K, D, D)\n",
    "# make positive semi-definite:\n",
    "for k in range(K):\n",
    "    gaussian_covariances[k] = gaussian_covariances[k].T.dot(gaussian_covariances[k])\n",
    "# increase the diagonal a bit, so not too thin\n",
    "for k in range(K):\n",
    "    gaussian_covariances[k] += np.identity(D)\n",
    "# shrink a bit, so dont dwarf the difference in means:\n",
    "for k in range(K):\n",
    "    gaussian_covariances[k] /= 8\n",
    "\n",
    "# draw a distribution over classes:\n",
    "c_counts = np.random.multinomial(N, theta)\n",
    "print('c_counts', c_counts)\n",
    "\n",
    "# draw points:\n",
    "X = np.zeros((N, 2), dtype=np.float32)\n",
    "n = 0\n",
    "X_by_class = []\n",
    "for c, count in enumerate(c_counts):\n",
    "    samples = multivariate_normal.rvs(mean=gaussian_means[c], cov=gaussian_covariances[c], size=(count,))\n",
    "    X[n: n+count] = samples\n",
    "    X_by_class.append(samples)\n",
    "    n += count\n",
    "\n",
    "# plot by class:\n",
    "for c in range(K):\n",
    "    plt.plot(X_by_class[c][:, 0], X_by_class[c][:, 1], '.')\n",
    "plt.title('Points by cluster')\n",
    "plt.show()\n",
    "    \n",
    "# plot without class colors:\n",
    "plt.plot(X[:, 0], X[:, 1], '.')\n",
    "plt.title('Points without cluster color')\n",
    "plt.show()"
   ]
  },
  {
   "cell_type": "markdown",
   "metadata": {},
   "source": [
    "## Estimating parametric mixture models\n",
    "\n",
    "(This bit is mostly from section 19.2 of [Cosma Shalizi's book](http://www.stat.cmu.edu/~cshalizi/ADAfaEPoV/) )\n",
    "\n",
    "Probability of observing our data given parameters is:\n",
    "\n",
    "$$p(\\mathbf{X} \\mid \\mathbf{\\theta}) = \\prod_{i=1}^n f(\\mathbf{x}_i, \\mathbf{\\phi})$$\n",
    "\n",
    "We can take `log`s, to turn multiplication into addition:\n",
    "\n",
    "$$\\log p(\\mathbf{X} \\mid \\mathbf{\\theta}) = \\sum_{i=1}^n \\log f(\\mathbf{x}_i, \\mathbf{\\phi})$$\n",
    "\n",
    "$$= \\sum_{i=1}^n \\log \\sum_{j=1}^k \\theta_k f(\\mathbf{x}_i, \\mathbf{\\phi}_k)$$\n",
    "\n",
    "Let's take derivative wrt some parameter, eg $\\phi_l$.\n",
    "\n",
    "The derivative of log function is:\n",
    "\n",
    "$$ \\frac{\\partial \\log(f(x))}{\\partial x} = \\frac{\\partial f(x) / \\partial x}{f(x)} $$\n",
    "\n",
    "Meanwhile, all the terms in $f(x, \\phi_k)$ where $k \\ne l$ will vanish.\n",
    "\n",
    "So:\n",
    "\n",
    "$$\\frac{ \\partial\\, p(\\mathbf{X} \\mid \\mathbf{\\theta}) }{\\partial \\, \\phi_l} = \\sum_{i=1}^n \\frac{\\theta_l \\, \\partial f(\\mathbf{x}, \\phi_l)}{\\partial \\phi_l}\\frac{1}{\\sum_{j=1}^k \\theta_j \\, f(\\mathbf{x}_i, \\phi_j)} $$\n",
    "$$= \\sum_{i=1}^n\n",
    "\\frac{\\theta_l}{\\sum_{j=1}^k\\theta_j\\, f(\\mathbf{x}_i, \\phi_j)}\n",
    "\\frac{f(\\mathbf{x}_i, \\phi_l)}{f(\\mathbf{x}_i, \\phi_l)}\n",
    "\\frac{\\partial \\, f(\\mathbf{x}_i, \\phi_l)}{\\partial \\phi_l}\n",
    "$$\n",
    "\n",
    "$$\n",
    "= \\sum_{i=1}^n\n",
    "\\frac{\\theta_l \\,f(\\mathbf{x}_i, \\phi_l)}{\\sum_{j=1}^k \\theta_j \\, f(\\mathbf{x}_i, \\phi_j)}\n",
    "\\frac{\\partial\\,\\log f(\\mathbf{x}_i, \\phi_l)}{\\partial \\, \\phi_l}\n",
    "$$\n",
    "\n",
    "If we had an ordinary, non-mixture, parametric model, the joint probability would look like:\n",
    "\n",
    "$$ p(\\mathbf{X}, \\phi) = \\prod_{i=1}^n f(\\mathbf{x}, \\phi) $$\n",
    "So:\n",
    "$$\\log p(\\mathbf{X}, \\phi)=\\sum_{i=1}^n \\log f(\\mathbf{x}_i, \\phi)$$\n",
    "\n",
    "...and in this case there are no latent variables, $\\theta$, and so the derivative wrt $\\phi_l$ is:\n",
    "\n",
    "$$\\frac{\\partial \\, \\log p(\\mathbf{X}, \\phi)}{\\partial \\, \\phi_l}\n",
    "= \\sum_{i=1}^n \\frac{\\partial \\log f(\\mathbf{x}_i, \\phi_l)}{\\partial \\, \\phi_l}\n",
    "$$\n",
    "\n",
    "So, by comparison of the mixture-model case with the non-mixture case, the mixture-model case has the same form, but with weights:\n",
    "\n",
    "$$w_{i,l} = \\frac{\\theta_l \\, f(\\mathbf{x}_i, \\phi_l)}{\\sum_{j=1}^k \\theta_j \\, f(\\mathbf{x}_i, \\phi_j)}$$\n",
    "\n",
    "$$=\\frac{p(Z=l, X=\\mathbf{x}_i)}{p(X=\\mathbf{x}_i)}$$\n",
    "$$= p(Z=l \\mid X=\\mathbf{x}_i)$$\n",
    "\n",
    "So, we will iterate:\n",
    "\n",
    "- given an estimate of $Z$ assignments, estimate $\\phi$\n",
    "- given an estimate of $\\phi$, estimate $Z$ assignments"
   ]
  },
  {
   "cell_type": "markdown",
   "metadata": {},
   "source": [
    "Having looked at mixture models, let's look at [ibp_section2.ipynb](Latent class models)"
   ]
  }
 ],
 "metadata": {
  "kernelspec": {
   "display_name": "Python 3",
   "language": "python",
   "name": "python3"
  },
  "language_info": {
   "codemirror_mode": {
    "name": "ipython",
    "version": 3
   },
   "file_extension": ".py",
   "mimetype": "text/x-python",
   "name": "python",
   "nbconvert_exporter": "python",
   "pygments_lexer": "ipython3",
   "version": "3.5.2"
  }
 },
 "nbformat": 4,
 "nbformat_minor": 2
}
