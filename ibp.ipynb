{
 "cells": [
  {
   "cell_type": "markdown",
   "metadata": {},
   "source": [
    "# Indian Buffet Processes\n",
    "\n",
    "## Notes by Hugh Perkins, 2016\n",
    "\n",
    "These notes adapted from:\n",
    "\n",
    "- [\"The Indian Buffet Process: An Introduction and Review\"](http://jmlr.org/papers/volume12/griffiths11a/griffiths11a.pdf), Griffiths, Ghahramani, 2011\n",
    "- [\"Introduction to the Dirichlet Distribution and Related Processes\"](http://mayagupta.org/publications/FrigyikKapilaGuptaIntroToDirichlet.pdf), Frigyik, Kapila, Gupta\n",
    "- [\"Advanced Data Analysis from an Elementary Point of View\"](http://www.stat.cmu.edu/~cshalizi/ADAfaEPoV/), Cosma Rohilla Shalizi, chapter 19, \"Mixture Models\"\n",
    "- [\"Mixture Models and the EM Algorithm\"](http://mlg.eng.cam.ac.uk/tutorials/06/cb.pdf), slide presentation by Bishop 2006\n",
    "\n",
    "The tutorial by Griffiths and Gahramani above was my primary resouce.  Then, in order to understand it, I needed to reach out to the other resources above :-)\n",
    "\n",
    "Let's start by revising multinomial and dirichlet distributions."
   ]
  },
  {
   "cell_type": "markdown",
   "metadata": {},
   "source": [
    "# Multinomial and Dirichlet Distributions\n",
    "\n",
    "These notes adapted from \"Introduction to the Dirichlet Distribution and Related Processes\", Frigyik, Kapila, Gupta"
   ]
  },
  {
   "cell_type": "markdown",
   "metadata": {},
   "source": [
    "## Multinomial distribution\n",
    "\n",
    "The multinomial distribution is parametrized by an integer $n$ and a pmf $q = [q_1, q_2, \\dots,q_k]$, and can be thought of as follows: if we have $n$ independent events, and for each event, the probability of outcome $i$ is $q_i$, then the multinomial distribution specifies the probability that outcome $i$ occurs $x_i$ times for $i=1,2,\\dots,k$.  For example, the multinomial distribution can model the probability of an $n$-sample empirical histogram, if each sample is drawn iid from $q$.  If $X \\sim \\mathrm{Multinomial}_k(n,q)$, then its probability mass function is given by:\n",
    "\n",
    "$$P(X=\\{x_1,x_2,\\dots,x_k \\} \\mid n,Q = \\{q_1, q_2, ..., q_k\\} ) = \\frac{n!}{x_1!x_2!\\dots x_k!}\\prod_{i=1}^k q_i^{x_i}$$\n",
    "\n",
    "When $k=2$, the multinomial distribution reduces to the binomial distribution.\n",
    "\n",
    "Example with some actual concrete numbers plugged in:"
   ]
  },
  {
   "cell_type": "code",
   "execution_count": 20,
   "metadata": {
    "collapsed": false
   },
   "outputs": [
    {
     "name": "stdout",
     "output_type": "stream",
     "text": [
      "X [3, 0, 0] p 0.03703703703703703 odds 1 in 27.0\n",
      "X [1, 1, 1] p 0.2222222222222222 odds 1 in 4.5\n",
      "X [2, 1, 0] p 0.1111111111111111 odds 1 in 9.0\n"
     ]
    }
   ],
   "source": [
    "import matplotlib.pyplot as plt\n",
    "import numpy as np\n",
    "import math\n",
    "\n",
    "n = 3\n",
    "k = 3\n",
    "\n",
    "# some possible distributions of x:\n",
    "Xs = [\n",
    "    [3, 0, 0],\n",
    "    [1, 1, 1],\n",
    "    [2, 1, 0]\n",
    "]\n",
    "\n",
    "# and here's our Q, ie, in this case, uniform distribution of possible values:\n",
    "Q = [1/k] * k\n",
    "\n",
    "for X in Xs:\n",
    "    numerator = math.factorial(n)\n",
    "    denominator = 1\n",
    "    prod_qi_xi = 1\n",
    "    for i in range(k):\n",
    "        denominator *= math.factorial(X[i])\n",
    "        prod_qi_xi *= math.pow(Q[i], X[i])\n",
    "    p = numerator * prod_qi_xi / denominator\n",
    "    odds = 1 / p\n",
    "    print('X', X, 'p', p, 'odds 1 in %s' % (int(odds * 10000) / 10000))\n"
   ]
  },
  {
   "cell_type": "markdown",
   "metadata": {},
   "source": [
    "There are 3 ways of arranging `[3, 0, 0]`, 1 way of arranging `[1, 1, 1]`, and `3 * 2 = 6` ways of arranging `[2, 1, 0]`, so total probability is:\n",
    "\n",
    "$$1/27 * 3 + 1/4.5 * 1 + 1/9 * 6$$\n",
    "\n",
    "$$= 1$$ (As required)"
   ]
  },
  {
   "cell_type": "markdown",
   "metadata": {},
   "source": [
    "## Dirichlet distribution\n",
    "\n",
    "A Dirichlet distribution is a distribution over probability mass functions of length $k$, that is over the $k-1$-dimensional probability simplex $\\Delta_k$, where:\n",
    "\n",
    "$$\\Delta_k = \\left\\{ q \\in \\mathbb{R}^k \\mid \\sum_{i=1}^k q_i = 1, q_i \\ge 0 \\ \\, \\mathrm{ for }\\, i=1,2,\\dots,k \\right\\}$$\n",
    "\n",
    "If $q\\sim \\mathrm{Dir}(\\alpha)$ then:\n",
    "\n",
    "$$p(q \\mid \\alpha) = \\frac{\\Gamma(\\alpha_0)}{\\prod_{i=1}^k\\Gamma(\\alpha_i)}\\prod_{i=1}^k q_i^{\\alpha_i-1}$$\n",
    "\n",
    "Gamma function is generalization of the factorial function: for $s \\gt 0$:\n",
    "\n",
    "$$\\Gamma(s + 1) = s\\Gamma(s)$$\n",
    "\n",
    "For positive integers $n$, $\\Gamma(n) = (n-1)!$, and $\\Gamma(1) = 1$\n",
    "\n",
    "When $k=2$, the Dirichlet reduces to the Beta distribution:\n",
    "\n",
    "$$f(x;\\alpha,\\beta) = \\frac{\\Gamma(\\alpha + \\beta)}{\\Gamma(\\alpha)\\Gamma(\\beta)} x^{\\alpha-1}(1-x)^{\\beta-1}$$\n",
    "\n",
    "If $X \\sim \\mathrm{Beta}(a,b)$, then $Q=(X, 1-X) \\sim \\mathrm{Dir}(\\alpha)$, where $\\alpha=[a\\,b]$\n",
    "\n",
    "Note that the form of the Dirichlet Distribution is basically identical to the Multinomial Distribution, except:\n",
    "\n",
    "- normalization is generalized, to handle non-integer $\\alpha_i$ values, using Gamma function\n",
    "- $1$ is subtracted from each $\\alpha_i$ value\n",
    "\n",
    "This will lead to the usage of a Dirichlet distribution as a conjugate prior for the Multinomial distribution, see later.\n",
    "\n",
    "## Properties of the Dirichlet Distribution\n",
    "\n",
    "(Just copying these from the tutorial mentioned above, without discussion for now)\n",
    "\n",
    "Density: $\\frac{1}{B(\\alpha)} \\prod_{j=1}^d q_j^{\\alpha_j-1}$\n",
    "\n",
    "Expectation: $\\frac{\\alpha_i}{\\alpha_0}$\n",
    "\n",
    "Mode: $\\frac{\\alpha - 1}{\\alpha_0 - k}$\n",
    "\n",
    "Marginal distribution: $q_i \\sim \\mathrm{Beta}(\\alpha_i, \\alpha_0 - \\alpha_i)$\n",
    "\n",
    "Conditional distribution: $(q_{-i} \\mid q_i ) \\sim (1 - q_i) \\, \\mathrm{Dir}(\\alpha_{-i})$"
   ]
  },
  {
   "cell_type": "markdown",
   "metadata": {},
   "source": [
    "## Conjugate prior for the multinomial\n",
    "\n",
    "Let's draw as follows:\n",
    "\n",
    "$$\\mathbf{q} \\sim \\,\\mathrm{Dir}\\,(\\mathbf{\\alpha})$$\n",
    "$$\\mathbf{x} \\sim \\,\\mathrm{Mult}_k\\,(n, \\mathbf{q}) $$\n",
    "\n",
    "What is $p(\\mathbf{q} \\mid \\mathbf{x}, \\mathbf{\\alpha})$?\n",
    "\n",
    "$$p(\\mathbf{q} \\mid \\mathbf{x} = \\gamma \\, p(\\mathbf{x} \\mid \\mathbf{q})\\,p(\\mathbf{q})$$\n",
    "$$=\\gamma\\, \\mathrm{Mult}_k\\,(n, \\mathbf{q}) \\, \\mathrm{Dir}\\,(\\mathbf{\\alpha})$$\n",
    "$$=\\gamma\\left( \\frac{n!}{x_1!x_2!\\dots x_k!} \\prod_{i=1}^k q_i^{x_i} \\right) \\left( \\frac{\\Gamma(\\alpha_1 + \\dots + \\alpha_k}{\\prod_{i=1}^k \\Gamma(\\alpha_i)} \\prod_{i=1}^k q_i^{\\alpha_i - 1} \\right)$$\n",
    "$$=\\tilde{\\gamma}\\prod_{i=1}^k q_i^{\\alpha_i + x_i - 1}$$\n",
    "$$=\\tilde{\\gamma} \\, \\mathrm{Dir}(\\mathbf{\\alpha} + \\mathbf{x})$$\n",
    "\n",
    "Hence:\n",
    "$$(Q \\mid X = \\mathbf{x}) \\sim \\mathrm{Dir}(\\mathbf{\\alpha} + \\mathbf{x})$$"
   ]
  },
  {
   "cell_type": "markdown",
   "metadata": {},
   "source": [
    "# Mixture models\n",
    "\n",
    "Probably good to revise mixture models too...\n",
    "\n",
    "These notes are based on [Cosma Shalizi's book](http://www.stat.cmu.edu/~cshalizi/ADAfaEPoV/), chapter 19, \"Mixture Models\", and on the slide presentation [\"Mixture Models and the EM Algorithm\", Bishop 2006](http://mlg.eng.cam.ac.uk/tutorials/06/cb.pdf)\n",
    "\n",
    "A mixture model is defined as:\n",
    "\n",
    "$$p(\\mathbf{x} = \\sum_{i=1}^k \\theta_i f_i(\\mathbf{x})$$\n",
    "where $f_i(\\cdot)$ are probability distributions over $\\mathbf{x}$, eg they could be Gaussian distributions.\n",
    "\n",
    "To generate points, we need to:\n",
    "\n",
    "- draw a class, $c_j$ for $j$ in $1,2,\\dots n$\n",
    "- draw a point, $\\mathbf{x}_j$ for $j$ in $1,2,\\dots,n$\n",
    "\n",
    "Let's try this, for gaussian distributions, with $d=2$ features, and $k=3$ clusters:"
   ]
  },
  {
   "cell_type": "code",
   "execution_count": 2,
   "metadata": {
    "collapsed": false
   },
   "outputs": [
    {
     "name": "stdout",
     "output_type": "stream",
     "text": [
      "theta [ 0.04313748  0.19931057  0.75755195]\n"
     ]
    },
    {
     "data": {
      "image/png": "[encoded data removed]",
      "text/plain": [
       "<matplotlib.figure.Figure at 0x7f3365759cc0>"
      ]
     },
     "metadata": {},
     "output_type": "display_data"
    },
    {
     "name": "stdout",
     "output_type": "stream",
     "text": [
      "c_counts [ 10  70 220]\n"
     ]
    },
    {
     "data": {
      "image/png": "[encoded data removed]",
      "text/plain": [
       "<matplotlib.figure.Figure at 0x7f33366e6da0>"
      ]
     },
     "metadata": {},
     "output_type": "display_data"
    },
    {
     "data": {
      "image/png": "[encoded data removed]",
      "text/plain": [
       "<matplotlib.figure.Figure at 0x7f3336686550>"
      ]
     },
     "metadata": {},
     "output_type": "display_data"
    }
   ],
   "source": [
    "import matplotlib.pyplot as plt\n",
    "import numpy as np\n",
    "from scipy.stats import multivariate_normal\n",
    "\n",
    "alpha = 1\n",
    "D = 2\n",
    "K = 3\n",
    "N = 300\n",
    "\n",
    "np.random.seed(122)\n",
    "\n",
    "# draw theta, from uniform prior, using Dirichlet Distribution\n",
    "# this uses the method from section 2.3 of the Frigyik, Kapila and Gupta tutorial earlier\n",
    "gammas = np.random.gamma(alpha/K, 1, size=(K,))\n",
    "# normalize to pdf\n",
    "theta = gammas / np.sum(gammas)\n",
    "print('theta', theta)\n",
    "\n",
    "# draw gaussian means, for each cluster\n",
    "gaussian_means = np.random.randn(K, 2)\n",
    "\n",
    "# plot the means\n",
    "for k in range(K):\n",
    "    plt.plot(gaussian_means[k, 0], gaussian_means[k, 1], 'o')\n",
    "plt.title('Cluster Means')\n",
    "plt.show()\n",
    "\n",
    "# draw gaussian covariance matrix, for each cluster\n",
    "gaussian_covariances = np.random.randn(K, D, D)\n",
    "# make positive semi-definite:\n",
    "for k in range(K):\n",
    "    gaussian_covariances[k] = gaussian_covariances[k].T.dot(gaussian_covariances[k])\n",
    "# increase the diagonal a bit, so not too thin\n",
    "for k in range(K):\n",
    "    gaussian_covariances[k] += np.identity(D)\n",
    "# shrink a bit, so dont dwarf the difference in means:\n",
    "for k in range(K):\n",
    "    gaussian_covariances[k] /= 8\n",
    "\n",
    "# draw a distribution over classes:\n",
    "c_counts = np.random.multinomial(N, theta)\n",
    "print('c_counts', c_counts)\n",
    "\n",
    "# draw points:\n",
    "X = np.zeros((N, 2), dtype=np.float32)\n",
    "n = 0\n",
    "X_by_class = []\n",
    "for c, count in enumerate(c_counts):\n",
    "    samples = multivariate_normal.rvs(mean=gaussian_means[c], cov=gaussian_covariances[c], size=(count,))\n",
    "    X[n: n+count] = samples\n",
    "    X_by_class.append(samples)\n",
    "    n += count\n",
    "\n",
    "# plot by class:\n",
    "for c in range(K):\n",
    "    plt.plot(X_by_class[c][:, 0], X_by_class[c][:, 1], '.')\n",
    "plt.title('Points by cluster')\n",
    "plt.show()\n",
    "    \n",
    "# plot without class colors:\n",
    "plt.plot(X[:, 0], X[:, 1], '.')\n",
    "plt.title('Points without cluster color')\n",
    "plt.show()"
   ]
  },
  {
   "cell_type": "markdown",
   "metadata": {},
   "source": [
    "## Estimating parametric mixture models\n",
    "\n",
    "(This bit is mostly from section 19.2 of [Cosma Shalizi's book](http://www.stat.cmu.edu/~cshalizi/ADAfaEPoV/) )\n",
    "\n",
    "Probability of observing our data given parameters is:\n",
    "\n",
    "$$p(\\mathbf{X} \\mid \\mathbf{\\theta}) = \\prod_{i=1}^n f(\\mathbf{x}_i, \\mathbf{\\phi})$$\n",
    "\n",
    "We can take `log`s, to turn multiplication into addition:\n",
    "\n",
    "$$\\log p(\\mathbf{X} \\mid \\mathbf{\\theta}) = \\sum_{i=1}^n \\log f(\\mathbf{x}_i, \\mathbf{\\phi})$$\n",
    "\n",
    "$$= \\sum_{i=1}^n \\log \\sum_{j=1}^k \\theta_k f(\\mathbf{x}_i, \\mathbf{\\phi}_k)$$\n",
    "\n",
    "Let's take derivative wrt some parameter, eg $\\phi_l$.\n",
    "\n",
    "The derivative of log function is:\n",
    "\n",
    "$$ \\frac{\\partial \\log(f(x))}{\\partial x} = \\frac{\\partial f(x) / \\partial x}{f(x)} $$\n",
    "\n",
    "Meanwhile, all the terms in $f(x, \\phi_k)$ where $k \\ne l$ will vanish.\n",
    "\n",
    "So:\n",
    "\n",
    "$$\\frac{ \\partial\\, p(\\mathbf{X} \\mid \\mathbf{\\theta}) }{\\partial \\, \\phi_l} = \\sum_{i=1}^n \\frac{\\theta_l \\, \\partial f(\\mathbf{x}, \\phi_l)}{\\partial \\phi_l}\\frac{1}{\\sum_{j=1}^k \\theta_j \\, f(\\mathbf{x}_i, \\phi_j)} $$\n",
    "$$= \\sum_{i=1}^n\n",
    "\\frac{\\theta_l}{\\sum_{j=1}^k\\theta_j\\, f(\\mathbf{x}_i, \\phi_j)}\n",
    "\\frac{f(\\mathbf{x}_i, \\phi_l)}{f(\\mathbf{x}_i, \\phi_l)}\n",
    "\\frac{\\partial \\, f(\\mathbf{x}_i, \\phi_l)}{\\partial \\phi_l}\n",
    "$$\n",
    "\n",
    "$$\n",
    "= \\sum_{i=1}^n\n",
    "\\frac{\\theta_l \\,f(\\mathbf{x}_i, \\phi_l)}{\\sum_{j=1}^k \\theta_j \\, f(\\mathbf{x}_i, \\phi_j)}\n",
    "\\frac{\\partial\\,\\log f(\\mathbf{x}_i, \\phi_l)}{\\partial \\, \\phi_l}\n",
    "$$\n",
    "\n",
    "If we had an ordinary, non-mixture, parametric model, the joint probability would look like:\n",
    "\n",
    "$$ p(\\mathbf{X}, \\phi) = \\prod_{i=1}^n f(\\mathbf{x}, \\phi) $$\n",
    "So:\n",
    "$$\\log p(\\mathbf{X}, \\phi)=\\sum_{i=1}^n \\log f(\\mathbf{x}_i, \\phi)$$\n",
    "\n",
    "...and in this case there are no latent variables, $\\theta$, and so the derivative wrt $\\phi_l$ is:\n",
    "\n",
    "$$\\frac{\\partial \\, \\log p(\\mathbf{X}, \\phi)}{\\partial \\, \\phi_l}\n",
    "= \\sum_{i=1}^n \\frac{\\partial \\log f(\\mathbf{x}_i, \\phi_l)}{\\partial \\, \\phi_l}\n",
    "$$\n",
    "\n",
    "So, by comparison of the mixture-model case with the non-mixture case, the mixture-model case has the same form, but with weights:\n",
    "\n",
    "$$w_{i,l} = \\frac{\\theta_l \\, f(\\mathbf{x}_i, \\phi_l)}{\\sum_{j=1}^k \\theta_j \\, f(\\mathbf{x}_i, \\phi_j)}$$\n",
    "\n",
    "$$=\\frac{p(Z=l, X=\\mathbf{x}_i)}{p(X=\\mathbf{x}_i)}$$\n",
    "$$= p(Z=l \\mid X=\\mathbf{x}_i)$$\n",
    "\n",
    "So, we will iterate:\n",
    "\n",
    "- given an estimate of $Z$ assignments, estimate $\\phi$\n",
    "- given an estimate of $\\phi$, estimate $Z$ assignments"
   ]
  },
  {
   "cell_type": "markdown",
   "metadata": {},
   "source": [
    "# Latent class models\n",
    "\n",
    "Going back to the Griffiths and Ghahramani tutorial, let's start looking at latent class models.  Note that notation is slightly different from the Frigjik, Kapila and Gupta tutorial above.  Concretely:\n",
    "\n",
    "- $\\mathbf{q}$ in Frigjik et al tutorial becomes $\\mathbf{\\theta}$ in Griffiths and Ghahramani tutorial\n",
    "  \n",
    "$N$ objects, $i$th object has $D$ observable properties, represented by row vector $\\mathbf{x}_i$.  Each object belongs to single class $c_i$, and properties $\\mathbf{x}_i$ are generated from a distribution determined by that class.  Matrix $\\mathbf{X} = \\left[ \\mathbf{x}_1^T \\mathbf{x}_2^T \\dots \\mathbf{x}_N^T \\right]^T$ represents properties of all $N$ objects, and vector $\\mathbf{c} = \\left[c_1 c_2 \\dots c_N \\right]^T$ represents thei class assignments.\n",
    "\n",
    "## Finite mixture models\n",
    "\n",
    "$$P(\\mathbf{c} \\mid \\theta) = \\prod_{i=1}^N P(c_i \\mid \\theta) = \\prod_{i=1}^N \\theta_{c_i}$$\n",
    "\n",
    "... where $\\theta$ is a multinomial distribution over those classes, and $\\theta_k$ is the probability of class $k$ under that distribution.\n",
    "\n",
    "Probability of all $N$ objects $\\mathbf{X}$ can be written as:\n",
    "\n",
    "$$p(\\mathbf{X} \\mid \\theta) = \\prod_{i=1}^N \\sum_{k=1}^K p(\\mathbf{x}_i \\mid ci = k) \\, \\theta_k$$\n",
    "\n",
    "The distribution from which each $\\mathbf{x}_i$ is generated is thus a mixture of the $K$ class distributions $p(\\mathbf{x}_i \\mid c_i = k)$, with each $\\theta_k$ determining the weight of class $k$.\n",
    "\n",
    "Probability density for parameter $\\theta$ of a multinomial distribution is given by:\n",
    "\n",
    "$$p(\\theta \\mid \\mathbf{\\alpha}) = \\frac{\\prod_{k=1}^K \\theta_k^{\\alpha_{k=1}}}{D(\\alpha_1,\\alpha_2,\\dots,\\alpha_K)}$$\n",
    "\n",
    "where $D(\\alpha_1,\\alpha_2,\\dots,\\alpha_K)$ is the Dirichlet normalizing constant:\n",
    "\n",
    "$$D(\\alpha_1, \\alpha_2, \\dots,\\alpha_K) = \\int_{\\Delta_K}\\prod_{k=1}^K\\theta_k^{\\alpha_k-1}d\\theta $$\n",
    "$$=\\frac{\\prod_{k=1}^K\\Gamma(\\alpha_k)}{\\Gamma\\left( \\sum_{k=1}^K\\alpha_k \\right)}$$\n",
    "\n",
    "Let's take $\\alpha_k = \\frac{\\alpha}{K}$, for all $k$.  Then, we have:\n",
    "\n",
    "$$D(\\alpha/K, \\alpha/K, \\dots,\\alpha/K) = \\frac{\\Gamma(\\alpha/K)^K}{\\Gamma(\\alpha)}$$\n",
    "\n",
    "Probability model is:\n",
    "\n",
    "$$\\theta \\mid \\alpha \\sim \\mathrm{Dirichlet}(\\alpha/K, \\alpha/K, \\dots, \\alpha/K)$$\n",
    "\n",
    "$$c_i \\mid \\theta \\sim \\mathrm{Discrete}(\\theta)$$\n"
   ]
  },
  {
   "cell_type": "markdown",
   "metadata": {},
   "source": [
    "### Marginalizing over $\\theta$\n",
    "\n",
    "Marginalizing over all values of $\\theta$:\n",
    "\n",
    "We have:\n",
    "\n",
    "$$P(\\mathbf{c}) = \\int_{\\Delta_K} P(\\mathbf{c} \\mid \\theta)\\, p(\\theta) d\\theta$$\n",
    "\n",
    "And:\n",
    "\n",
    "$$P(\\mathbf{c} \\mid \\theta) = \\prod_{i=1}^n P(c_i \\mid \\theta)$$\n",
    "$$=\\prod_{i=1}^n \\theta_{c_i}$$\n",
    "\n",
    "Whilst, $p(\\theta)$ is:\n",
    "\n",
    "$$p(\\theta) = \\frac{\\prod_{k=1}^K \\theta_k^{\\alpha/K - 1}}{D(\\alpha/K,\\alpha/K,\\dots,\\alpha/K)}$$\n",
    "\n",
    "So, we have:\n",
    "\n",
    "$$P(\\mathbf{c}) = \\int_{\\Delta_K} \n",
    "\\left(\\prod_{i=1}^n \\theta_{c_i} \\right)\n",
    "\\frac{\\prod_{k=1}^K \\theta_k^{\\alpha/K - 1}}{D(\\alpha/K,\\alpha/K,\\dots,\\alpha/K)}\n",
    "d\\theta\n",
    "$$\n",
    "\n",
    "We have two terms in $\\theta$, and we want to take advantage of the Dirichlet being conjugate to multinomial.  So, we want to somehow combine these terms.\n",
    "\n",
    "If we define:\n",
    "\n",
    "$$m_k = \\sum_{i=1}^N \\delta(c_i = k)$$\n",
    "\n",
    "Then the product over $n$, on the left becomes a product over $k$:\n",
    "\n",
    "$$\n",
    "\\prod_{i=1}^n \\theta_{c_i} = \\prod_{k=1}^K \\theta_k^{m_k}\n",
    "$$\n",
    "\n",
    "And so we get:\n",
    "\n",
    "$$P(\\mathbf{c}) = \\int_{\\Delta_K} \n",
    "\\frac{\\prod_{k=1}^K \\theta_k^{m_k + \\alpha/K - 1}}{D(\\alpha/K,\\alpha/K,\\dots,\\alpha/K)}\n",
    "d\\theta\n",
    "$$\n",
    "\n",
    "$D(\\alpha/K, \\dots)$ is independent of $\\theta$, so we have:\n",
    "\n",
    "$$P(\\mathbf{c}) = \\frac{1}{D(\\alpha/K,\\alpha/K,\\dots,\\alpha/K)}\n",
    "\\int_{\\Delta_K} \\prod_{k=1}^K \\theta_k^{m_k + \\alpha/K - 1} d\\theta\n",
    "$$\n",
    "\n",
    "And we have:\n",
    "\n",
    "$$\\int_{\\Delta_K} \\prod_{k=1}^K \\theta^{\\alpha_k} = D(\\alpha_1,\\dots,\\alpha_k)$$\n",
    "\n",
    "(for some $\\alpha$, $\\theta$, $K$), and so:\n",
    "\n",
    "$$P(\\mathbf{c}) = \\frac{1}{D(\\alpha/K,\\alpha/K,\\dots,\\alpha/K)}\n",
    "D(m_1 + \\alpha/K, m_2 + \\alpha/K, \\dots, m_k + \\alpha_K)\n",
    "$$\n",
    "\n",
    "We can expand this in terms of the Gamma function $\\Gamma$, since we have:\n",
    "\n",
    "$$D(\\alpha_1, \\alpha_2,\\dots,\\alpha_k)\n",
    "= \\frac{\\prod_{k=1}^K\\Gamma(\\alpha_k)}{\\Gamma\\left( \\sum_{k=1}^K \\alpha_k \\right)}\n",
    "$$\n",
    "\n",
    "And so we have:\n",
    "\n",
    "$$P(\\mathbf{c}) =\n",
    "\\frac{\\Gamma\\left( \\sum_{k=1}^K \\alpha/K \\right)}{\\prod_{k=1}^K \\Gamma \\alpha/K}\n",
    "\\frac{\\prod_{k=1}^K \\Gamma (m_k + \\alpha/K)}{\\Gamma\\left( \\sum_{k=1}^K (m_k + \\alpha/K ) \\right)}\n",
    "$$\n",
    "\n",
    "$$\n",
    "=\n",
    "\\frac{\\Gamma\\left( \\alpha \\right)}{\\left( \\Gamma \\left(\\frac{\\alpha}{K}\\right) \\right)^K }\n",
    "\\frac{\\prod_{k=1}^K \\Gamma (m_k + \\alpha/K)}{\\Gamma\\left( n + \\alpha ) \\right)}\n",
    "$$"
   ]
  },
  {
   "cell_type": "markdown",
   "metadata": {},
   "source": [
    "Lets plug in some concrete numbers:"
   ]
  },
  {
   "cell_type": "code",
   "execution_count": 31,
   "metadata": {
    "collapsed": false
   },
   "outputs": [
    {
     "name": "stdout",
     "output_type": "stream",
     "text": [
      "alpha 1 prob 0.006 odds 1 in 162.0\n"
     ]
    }
   ],
   "source": [
    "import numpy as np\n",
    "import math\n",
    "from scipy.special import gamma\n",
    "\n",
    "alpha = 1\n",
    "M = [1, 1, 1]\n",
    "\n",
    "def calc_p_c(alpha, M):\n",
    "    N = np.sum(M)\n",
    "    K = len(M)\n",
    "    res = gamma(alpha)\n",
    "    res /= math.pow(gamma(alpha/K), K)\n",
    "    res /= gamma(N + alpha)\n",
    "    for k, m in enumerate(M):\n",
    "        res *= gamma(m + alpha/K)\n",
    "    print('alpha', alpha, 'prob %.3f' % res, 'odds 1 in %.1f' % (1/res))\n",
    "\n",
    "calc_p_c(alpha=1, M=[1,1,1])"
   ]
  },
  {
   "cell_type": "markdown",
   "metadata": {},
   "source": [
    "Thats interesting.  Its not 1/27.  Let's try some different $\\alpha$ values:"
   ]
  },
  {
   "cell_type": "code",
   "execution_count": 32,
   "metadata": {
    "collapsed": false
   },
   "outputs": [
    {
     "name": "stdout",
     "output_type": "stream",
     "text": [
      "alpha 0.1 prob 0.000 odds 1 in 6237.0\n",
      "alpha 0.001 prob 0.000 odds 1 in 54081027.0\n"
     ]
    }
   ],
   "source": [
    "calc_p_c(alpha=0.1, M=[1,1,1])\n",
    "calc_p_c(alpha=0.001, M=[1,1,1])"
   ]
  },
  {
   "cell_type": "markdown",
   "metadata": {},
   "source": [
    "Ok.  So, small values of $\\alpha$ make it increasingly unlikely that the count in each class will be identical.  Let's try high values of $\\alpha$:"
   ]
  },
  {
   "cell_type": "code",
   "execution_count": 33,
   "metadata": {
    "collapsed": false
   },
   "outputs": [
    {
     "name": "stdout",
     "output_type": "stream",
     "text": [
      "alpha 1000 prob nan odds 1 in nan\n",
      "alpha 100 prob 0.036 odds 1 in 27.8\n",
      "alpha 10 prob 0.028 odds 1 in 35.6\n"
     ]
    },
    {
     "name": "stderr",
     "output_type": "stream",
     "text": [
      "/home/ubuntu/.local/lib/python3.5/site-packages/ipykernel/__main__.py:12: RuntimeWarning: invalid value encountered in double_scalars\n"
     ]
    }
   ],
   "source": [
    "calc_p_c(alpha=1000, M=[1,1,1])\n",
    "calc_p_c(alpha=100, M=[1,1,1])\n",
    "calc_p_c(alpha=10, M=[1,1,1])"
   ]
  },
  {
   "cell_type": "markdown",
   "metadata": {},
   "source": [
    "Ok, so high-ish values of $\\alpha$, not so high as to cause nan, but high enough to favor uniform draws of $\\theta$, recover a similar probability as we got right at the start of these notes, using uniform $\\theta$.\n",
    "\n",
    "What happens for $M = [3, 0, 0]$?  Is it the case that the probability is assymptotic to $1/3$ as $\\alpha$ tends to $0$?\n"
   ]
  },
  {
   "cell_type": "code",
   "execution_count": 34,
   "metadata": {
    "collapsed": false
   },
   "outputs": [
    {
     "name": "stdout",
     "output_type": "stream",
     "text": [
      "alpha 1 prob 0.173 odds 1 in 5.8\n",
      "alpha 0.1 prob 0.303 odds 1 in 3.3\n",
      "alpha 0.001 prob 0.333 odds 1 in 3.0\n"
     ]
    }
   ],
   "source": [
    "calc_p_c(alpha=1, M=[3, 0, 0])\n",
    "calc_p_c(alpha=0.1, M=[3, 0, 0])\n",
    "calc_p_c(alpha=0.001, M=[3, 0, 0])"
   ]
  },
  {
   "cell_type": "markdown",
   "metadata": {},
   "source": [
    "Yes :-)\n",
    "\n",
    "And presumably tends to $0$ as $\\alpha$ increases?"
   ]
  },
  {
   "cell_type": "code",
   "execution_count": 35,
   "metadata": {
    "collapsed": false
   },
   "outputs": [
    {
     "name": "stdout",
     "output_type": "stream",
     "text": [
      "alpha 100 prob 0.039 odds 1 in 25.5\n",
      "alpha 150 prob 0.039 odds 1 in 26.0\n"
     ]
    }
   ],
   "source": [
    "calc_p_c(alpha=100, M=[3, 0, 0])\n",
    "calc_p_c(alpha=150, M=[3, 0, 0])"
   ]
  },
  {
   "cell_type": "markdown",
   "metadata": {},
   "source": [
    "No.  Tends to 1 in 27.  That makes sense: it's the probability of drawing 3 of a specific class when $\\theta$ is uniform."
   ]
  },
  {
   "cell_type": "markdown",
   "metadata": {},
   "source": [
    "## Infinite mixture models\n",
    "\n",
    "Per the tutorial, we should take the equation for $p\\mathbf{c}$, and use the recursion $\\Gamma(x) = (x-1)\\Gamma(x - 1)$ to rearrange this, using the following new variables and constraints/assumptions:\n",
    "\n",
    "- new variable: $K^+$ is number of classes with $m_k > 0$\n",
    "- constraint/assumption: $k$ has been re-arranged, so $m_k > 0$ for all $k \\le K^+$\n",
    "\n",
    "I'm going to try that now, without looking at the solution.  My initial solution/derivation is on the next line though, if you want to avoid looking first :-)  edit: ok, I cheated, and looked at the solution somewhat.  So, what we want to do is:\n",
    "\n",
    "- remove the $\\Gamma$s from the left-hand fraction\n",
    "- the right-hand expression is left unchanged\n",
    "\n",
    "So, let's look just at the left-hand fraction (and this was my first draft, so there are mistakes in it, but maybe you can spot them :-)\n",
    "\n",
    "$$\n",
    "\\frac\n",
    "  {\\prod_{k=1}^K \\Gamma(m_k + \\alpha/K)}\n",
    "  {\\left( \\Gamma( \\alpha/k) \\right)^K}\n",
    "$$\n",
    "\n",
    "$$\n",
    "=\n",
    "\\frac\n",
    "  {\\left(\\prod_{k=1}^{K^+} \\Gamma(m_k + \\alpha/K)\\right)  \\left(\\prod_{k=K^+ + 1}^{K} \\Gamma(\\alpha/K)\\right)}\n",
    "  {\\left( \\Gamma( \\alpha/k) \\right)^{K^+} \\left( \\Gamma( \\alpha/k) \\right)^{K - K^+ - 1} }\n",
    "$$\n",
    "$$\n",
    "=\n",
    "\\frac\n",
    "  {\\left(\\prod_{k=1}^{K^+} \\Gamma(m_k + \\alpha/K)\\right)  \\left( \\Gamma(\\alpha/K)\\right)^{K - K^+ - 1}}\n",
    "  {\\left( \\Gamma( \\alpha/k) \\right)^{K^+} \\left( \\Gamma( \\alpha/k) \\right)^{K - K^+ - 1} }\n",
    "$$\n",
    "$$\n",
    "=\n",
    "\\frac\n",
    "  {\\left(\\prod_{k=1}^{K^+} \\Gamma(m_k + \\alpha/K)\\right)  }\n",
    "  {\\left( \\Gamma( \\alpha/K) \\right)^{K^+} }\n",
    "$$\n",
    "\n",
    "Now all the infinities in this fraction have gone.  Well except for $K$ in $\\alpha/K$.  Continuing, presumably we want the $\\Gamma(\\alpha/K)$ to cancel somehow?  So we should probably dabble in trying to move the $m_k$ to outside of the $\\Gamma(\\cdot)$s, in the numerator?\n",
    "\n",
    "$$\n",
    "=\n",
    "\\frac\n",
    "  {\\left(\\prod_{k=1}^{K^+} (m_k + \\alpha/K - 1)\\Gamma(m_k - 1 + \\alpha/K)\\right)  }\n",
    "  {\\left( \\Gamma( \\alpha/K) \\right)^{K^+} }\n",
    "$$\n",
    "\n",
    "$$\n",
    "=\n",
    "\\frac\n",
    "  {\\left(\\prod_{k=1}^{K^+} \\prod_{i=1}^{m_k}(i + \\alpha/K - 1)\\Gamma( \\alpha/K)\\right)  }\n",
    "  {\\left( \\Gamma( \\alpha/K) \\right)^{K^+} }\n",
    "$$\n",
    "\n",
    "$$\n",
    "=\n",
    "\\frac\n",
    "  {  \\left(\\prod_{k=1}^{K^+} (\\Gamma(\\alpha/K))^{m_k} \\prod_{i=1}^{m_k}(i + \\alpha/K - 1) \\right)  }\n",
    "  {\\left( \\Gamma( \\alpha/K) \\right)^{K^+} }\n",
    "$$\n",
    "\n",
    "$$\n",
    "=\n",
    "\\frac\n",
    "  { (\\Gamma(\\alpha/K))^{N} \\left(\\prod_{k=1}^{K^+}  \\prod_{i=1}^{m_k}(i + \\alpha/K - 1) \\right)  }\n",
    "  {\\left( \\Gamma( \\alpha/K) \\right)^{K^+} }\n",
    "$$\n",
    "\n",
    "At this point, I looked at the answer.  The product $\\prod_{i=1}^{m_k}$ is slightly different, but similar:\n",
    "$$\n",
    "\\prod_{i=1}^{m_k - 1} (i + \\alpha/K)\n",
    "$$\n",
    "\n",
    "Basically, they put the $-1$ in the upper limit, instead of in the expresssion, which is just an arbitrary choice.  However, my lower bound was off by 1.\n",
    "\n",
    "Somehow, they have elimated the remaining $\\Gamma$s.  So, let's look just at that part:\n",
    "$$\n",
    "\\frac\n",
    "  { (\\Gamma(\\alpha/K))^{N} }\n",
    "  {\\left( \\Gamma( \\alpha/K) \\right)^{K^+} }\n",
    "$$\n",
    "\n",
    "Oh, because there the implied parentheses earlier were wrong.  I put:\n",
    "\n",
    "$$\n",
    "=\n",
    "\\frac\n",
    "  {\\left(\\prod_{k=1}^{K^+} \\prod_{i=1}^{m_k}(i + \\alpha/K - 1)\\Gamma( \\alpha/K)\\right)  }\n",
    "  {\\left( \\Gamma( \\alpha/K) \\right)^{K^+} }\n",
    "$$\n",
    "\n",
    "with implied parantheses like:\n",
    "$$\n",
    "=\n",
    "\\frac\n",
    "  {\\left(\\prod_{k=1}^{K^+} \\prod_{i=1}^{m_k}\\left( (i + \\alpha/K - 1)\\Gamma( \\alpha/K) \\right) \\right)  }\n",
    "  {\\left( \\Gamma( \\alpha/K) \\right)^{K^+} }\n",
    "$$\n",
    "\n",
    "...but in fact, the $\\Gamma(\\cdot)$ on the right-hand side should not be inside the product over $i$.  It should look like:\n",
    "$$\n",
    "=\n",
    "\\frac\n",
    "  {\\left(\\prod_{k=1}^{K^+} \\Gamma( \\alpha/K) \\prod_{i=1}^{m_k} (i + \\alpha/K - 1) \\right)  }\n",
    "  {\\left( \\Gamma( \\alpha/K) \\right)^{K^+} }\n",
    "$$\n",
    "\n",
    "and applying the fix for the product over $i$:\n",
    "$$\n",
    "=\n",
    "\\frac\n",
    "  {\\left(\\prod_{k=1}^{K^+} \\Gamma( \\alpha/K) \\prod_{i=1}^{m_k - 1} (i + \\alpha/K) \\right)  }\n",
    "  {\\left( \\Gamma( \\alpha/K) \\right)^{K^+} }\n",
    "$$\n",
    "\n",
    "... but then the $\\Gamma(\\alpha/K)^{K^+}$ will cancel entirely, but we need a term in $\\alpha/K$, per the tutorial.  Unless... my bounds earlier on the product over $i$ were right, and they've taken the final term, without the $i$ to outside of the products.  ie,:\n",
    "\n",
    "$$\n",
    "\\frac\n",
    "  {\\left(\\prod_{k=1}^{K^+} \\Gamma( \\alpha/K) \\prod_{i=0}^{m_k - 1} (i + \\alpha/K) \\right)  }\n",
    "  {\\left( \\Gamma( \\alpha/K) \\right)^{K^+} }\n",
    "$$\n",
    "$$\n",
    "= \n",
    "\\frac\n",
    "  {\\left(\\prod_{k=1}^{K^+} \\Gamma( \\alpha/K) (\\alpha/K)\\prod_{i=1}^{m_k - 1} (i + \\alpha/K) \\right)  }\n",
    "  {\\left( \\Gamma( \\alpha/K) \\right)^{K^+} }\n",
    "$$\n",
    "\n",
    "$$\n",
    "= \n",
    "  (\\alpha/K)^{K^+} \\left( \\prod_{k=1}^{K^+} \\prod_{i=1}^{m_k - 1} (i + \\alpha/K) \\right)\n",
    "$$\n",
    "\n",
    ".... as required, giving the full expression for $P(\\mathbf{c})$ as:\n",
    "\n",
    "$$\n",
    "P(\\mathbf{c}) =\n",
    "  (\\alpha/K)^{K^+} \\left( \\prod_{k=1}^{K^+} \\prod_{i=1}^{m_k - 1} (i + \\alpha/K) \\right)\n",
    "  \\frac {\\Gamma( \\alpha )}\n",
    "        {\\Gamma( N + \\alpha )}\n",
    "$$\n",
    "\n",
    "As stated in the tutorial, this probability will go to 0, as $K$ goes to infinity.  It doesn't say why, but I assume because of the term in $\\alpha/K$, at the start.  This presumably is why this term was moved outside the product over $i$?  For other values of $i$, the terms in the product over $i$ are all non-zero, but this term goes to zero, and that drives the entire product to zero. This term wouldnt necessarily drive the product to zero if at least one of the other terms in the product goes to infinity, but they dont.  $\\alpha$ and $N$ are both finite.  And $i$ is in the range $1 \\le i \\le N$, which is finite, since $N$ is finite.\n"
   ]
  },
  {
   "cell_type": "markdown",
   "metadata": {},
   "source": [
    "### Assignment vector equivalence classes\n",
    "\n",
    "The tutorial states that in order to make the probability not go to 0 as $K \\to \\infty$, we should look not at the probability of specific assignments of $k$ indexes, but to the possible arrangements of subsets.  I initially interpreted this to mean that eg the following $\\mathbf{c}$ assignment vectors are equivalent, since each has one subset of $2$ and one subset of size $1$:\n",
    "\n",
    "- $\\mathbf{c} = {2, 1, 2}$\n",
    "- $\\mathbf{c} = {2, 2, 1}$\n",
    "\n",
    "However, in retrospect, based on the numbers coming out later, it looks like in fact the equivalence classes are for different ways of indexing the classes, whilst preserving the sets of objects assigned to the same class as each other.  Concretely, the following assignments are in the same equivalence partition:\n",
    "\n",
    "- $\\mathbf{c} = {2, 2, 1}$\n",
    "- $\\mathbf{c} = {1, 1, 2}$\n",
    "- $\\mathbf{c} = {333, 333, 111}$\n",
    "\n",
    "But the following assignments are in different equivalence partitions, despite having the same subset sizes:\n",
    "\n",
    "- $\\mathbf{c} = {2, 1, 2}$\n",
    "- $\\mathbf{c} = {1, 2, 2}$\n",
    "\n",
    "In hindsight, this makes sense, because our goal is not to come up with a purely generative model, but to fit the model to actual data, to assign data points to clusters.  So, for example, the first two points might be really near each other, and in one cluster, and the third point could be in a second cluster.  Using ascii graphics:\n",
    "\n",
    "```\n",
    "   cluster 1:                                           cluster 2:\n",
    "   x_1    x_2                                           x_3\n",
    "```\n",
    "\n",
    "So, the probability of assigning the first two points to a cluster, versus points 1 and 3 to a cluster should be radically different, not identical.  However, there's no reason why the first cluster, on points 1 and 2, should be indexed as $1$ or $111$ or $12345$, or whatever:\n",
    "\n",
    "```\n",
    "   cluster 1:                                           cluster 2:\n",
    "   x_1    x_2                                           x_3\n",
    "   k=1    k=1                                           k=2\n",
    "```\n",
    "same partition as:\n",
    "```\n",
    "   cluster 1:                                           cluster 2:\n",
    "   x_1    x_2                                           x_3\n",
    "   k=3333  k=3333                                       k=12345\n",
    "```\n",
    "\n",
    "The fact that the actual class index assignment to each cluster doesnt change the probability of that cluster is what the partition equivalence captures.\n",
    "\n",
    "Then, per the tutorial, we define a variable $K_0$, where $K = K^0 + K^+$, and $K$ and $K^+$ are as before.  So, $K^0$ is the count of the classes that have no elements.  The tutorial asserts that the number of equivalent ways of arranging these $K^+$ classes is $K! / K_0!$.  Working backwards, this is the number of permutations:\n",
    "\n",
    "number of equivalent assignment vectors of $\\mathbf{c}$ = $K! / K_0!$ = $K / (K - K^+)!$ = $\\left( ^KP_{K^+} \\right)$\n",
    "\n",
    "So, we are counting the number of ways of arranging $K^+$ items over $K$ possible positions, and taking into account the various possible orders of the $K^+$ elements.  I didnt get this originally, because I was interpreting the partitioning differently.\n",
    "\n",
    "Then, we multiply this by the earlier formula, to get the probability of each equivalence class, $[\\mathbf{c}]$:\n",
    "\n",
    "$$\n",
    "P([\\mathbf{c}] \\mid \\alpha)\n",
    "= \\frac{K!}{K_0!} \n",
    "  \\left( \\frac{\\alpha}{K} \\right)^{K^+}\n",
    "  \\left( \\prod_{k=1}^{K^+} \\prod_{i=1}^{m_k - 1} (i + \\alpha/K) \\right)\n",
    "  \\frac {\\Gamma( \\alpha )}\n",
    "        {\\Gamma( N + \\alpha )}\n",
    "$$\n",
    "\n",
    "The tutorial then rearranges the left-hand terms a bit:\n",
    "\n",
    "$$\n",
    "P([\\mathbf{c}] \\mid \\alpha)\n",
    "=\n",
    "\\alpha^{K^+}\n",
    "\\frac{K!}{K_0! K^{K^+}} \n",
    "  \\left( \\prod_{k=1}^{K^+} \\prod_{i=1}^{m_k - 1} (i + \\alpha/K) \\right)\n",
    "  \\frac {\\Gamma( \\alpha )}\n",
    "        {\\Gamma( N + \\alpha )}\n",
    "$$\n",
    "\n",
    "Looking at what happens as $K \\to \\infty$, looking first at the term on the left:\n",
    "\n",
    "$$\n",
    "\\frac{K!}{K_0! K^{K^+}} \n",
    "$$\n",
    "\n",
    "${K^+}$ is finite, $\\le N$, and $K!$ will grow faster than $K^{\\mathrm{finite\\,constant}}$, and approximately the same as $K_0!$, so this term $\\to 1$\n",
    "\n",
    "Then, in the product over $i$, the term $i + \\alpha/K$ will tend to $i$, as $K \\to \\infty$, so the product term becomes:\n",
    "\n",
    "$$\n",
    "\\prod_{i=1}^{m_k - 1} i\n",
    "$$\n",
    "$$=(m_k - 1)!$$\n",
    "\n",
    "And so the final probability of each equivalence class $[\\mathbf{c}]$ is:\n",
    "\n",
    "$$\n",
    "\\alpha^{K^+}\n",
    "\\prod_{k=1}^{K^+} (m_k - 1)!\n",
    "\\frac\n",
    "  {\\Gamma(\\alpha)}\n",
    "  {\\Gamma(N + \\alpha)}\n",
    "$$\n",
    "\n",
    "... as stated by the tutorial.\n"
   ]
  },
  {
   "cell_type": "markdown",
   "metadata": {},
   "source": [
    "Lets try slotting in some numbers, as before:"
   ]
  },
  {
   "cell_type": "code",
   "execution_count": 49,
   "metadata": {
    "collapsed": false
   },
   "outputs": [
    {
     "name": "stdout",
     "output_type": "stream",
     "text": [
      "probability alpha=1 M=[1, 1, 1] is 0.166666666667, 1 in 6.0\n",
      "probability alpha=1 M=[2, 1] is 0.166666666667, 1 in 6.0\n",
      "probability alpha=1 M=[1, 2] is 0.166666666667, 1 in 6.0\n",
      "probability alpha=1 M=[1, 2] is 0.166666666667, 1 in 6.0\n",
      "probability alpha=1 M=[3] is 0.333333333333, 1 in 3.0\n",
      "probability alpha=0.1 M=[1, 1, 1] is 0.004329004329, 1 in 231.0\n",
      "probability alpha=0.01 M=[1, 1, 1] is 4.9258657209e-05, 1 in 20301.0\n",
      "probability alpha=100 M=[1, 1, 1] is 0.970685303825, 1 in 1.0302\n",
      "probability alpha=100 M=[2, 1] is 0.00970685303825, 1 in 103.02\n",
      "probability alpha=100 M=[3] is 0.000194137060765, 1 in 5151.0\n"
     ]
    }
   ],
   "source": [
    "import math\n",
    "from scipy.special import gamma\n",
    "\n",
    "def print_p_c_equiv(alpha, M):\n",
    "    N = np.sum(M)\n",
    "    K_plus = len(M)\n",
    "    res = math.pow(alpha, K_plus)\n",
    "    for k, m in enumerate(M):\n",
    "        res *= math.factorial(m - 1)\n",
    "    res *= gamma(alpha)\n",
    "    res /= gamma(N + alpha)\n",
    "    odds = 1 / res\n",
    "    print('probability alpha=%s M=%s is %s, 1 in %s' % (\n",
    "        alpha, str(M), res, odds\n",
    "    ))\n",
    "\n",
    "print_p_c_equiv(1, [1, 1, 1])\n",
    "print_p_c_equiv(1, [2, 1])\n",
    "print_p_c_equiv(1, [1, 2])\n",
    "print_p_c_equiv(1, [1, 2])\n",
    "print_p_c_equiv(1, [3])\n",
    "\n",
    "print_p_c_equiv(0.1, [1, 1, 1])\n",
    "print_p_c_equiv(0.01, [1, 1, 1])\n",
    "\n",
    "print_p_c_equiv(100, [1, 1, 1])\n",
    "\n",
    "print_p_c_equiv(100, [2, 1])\n",
    "print_p_c_equiv(100, [3])\n"
   ]
  },
  {
   "cell_type": "markdown",
   "metadata": {},
   "source": [
    "I had to stare at these numbers for a while, mostly because I was interpreting the partitions wrongly, as per first paragraph above.  Why are the numbers different from the earlier results, where we fixed $K$ to be $3$?  After updating my interpretation of partitioning they made more sense.\n",
    "\n",
    "For high alpha, what is happening, I think, is that $\\theta$ is uniform, and means that the assignment of each class number to an object will be drawn from the range $1 \\le k \\le \\infty$.  This overwhelmingly favors drawing a different class number for each object.  And so, the probability that each object is in a differnet class, ie three subsets of 1, tends to $1$, as $\\alpha \\to \\infty$.\n",
    "\n",
    "What about when $\\alpha$ is $1$?  Why dont the probabilities of $[\\mathbf{c}] = \\{1, 1, 1\\}$, $[\\mathbf{c}] = \\{2, 1\\}$ and $[\\mathbf{c}] = \\{3\\}$ add up to 1.0?  After revising my interpretation of what is a partition, this made more sense than initially.\n",
    "\n",
    "For $N=3$, we have the following partitions possible:\n",
    "\n",
    "Partition with one subset of 3:\n",
    "\n",
    "- $\\mathbf{c} = {1, 1, 1}$\n",
    "\n",
    "Partition with one subset of 2, over the first 2 items:\n",
    "\n",
    "- $\\mathbf{c} = {2, 2, 1}$\n",
    "\n",
    "And two more partitions with subset of size 2:\n",
    "\n",
    "- $\\mathbf{c} = {2, 1, 2}$\n",
    "- $\\mathbf{c} = {1, 2, 2}$\n",
    "\n",
    "And then we have a partition where each object is in a different subset of size 1:\n",
    "\n",
    "- $\\mathbf{c} = {1, 2, 3}$\n",
    "\n",
    "So, there are 5 partitions in possible.  Going back to the numbers for $\\alpha = 1$, the total probability will be:\n",
    "\n",
    "- $P(M = \\{1, 1, 1 \\}) * 1$, plus\n",
    "- $P(M = \\{2, 1 \\}) * 3$, plus\n",
    "- $P(M = \\{3 \\}) * 1$\n",
    "\n",
    "Which is:\n",
    "$$(1/6) + (1/6)*3 + (1/3)$$\n",
    "$$=1$$\n",
    "\n",
    "... as required\n",
    "\n",
    "Let's try low alpha values:"
   ]
  },
  {
   "cell_type": "code",
   "execution_count": 50,
   "metadata": {
    "collapsed": false
   },
   "outputs": [
    {
     "name": "stdout",
     "output_type": "stream",
     "text": [
      "probability alpha=0.01 M=[1, 1, 1] is 4.9258657209e-05, 1 in 20301.0\n",
      "probability alpha=0.01 M=[2, 1] is 0.0049258657209, 1 in 203.01\n",
      "probability alpha=0.01 M=[3] is 0.98517314418, 1 in 1.01505\n"
     ]
    }
   ],
   "source": [
    "print_p_c_equiv(0.01, [1, 1, 1])\n",
    "print_p_c_equiv(0.01, [2, 1])\n",
    "print_p_c_equiv(0.01, [3])"
   ]
  },
  {
   "cell_type": "markdown",
   "metadata": {},
   "source": [
    "So, the probability of getting one single subset of size $3$ tends to $1$, as $\\alpha \\to 0$"
   ]
  },
  {
   "cell_type": "markdown",
   "metadata": {},
   "source": [
    "## Chinese Restaurant Process\n",
    "\n",
    "$P(c_i = k \\mid c_1, c_2, \\dots, c_{i-1}) =$\n",
    "- $\\frac{m_k}{i - 1 + \\alpha}$ when $k \\le K^+$\n",
    "- $\\frac{\\alpha}{i-1+\\alpha}$ when $k = K + 1$\n"
   ]
  },
  {
   "cell_type": "markdown",
   "metadata": {},
   "source": [
    "## Gibbs Sampling\n"
   ]
  },
  {
   "cell_type": "markdown",
   "metadata": {},
   "source": [
    "### Finite mixture\n",
    "\n",
    "We want $P(c_i \\mid \\mathbf{c}_{-i}, \\mathbf{X})$\n",
    "\n",
    "Reminder to self, Bayes Rule:\n",
    "\n",
    "$$P(A \\mid B) = \\frac{P(B \\mid A) \\, P(A)} {P(B)}$$\n",
    "\n",
    "By Bayes rule $P(c_i \\mid \\mathbf{c}_{-i}, \\mathbf{X})$ is:\n",
    "\n",
    "$$P(c_i \\mid \\mathbf{c}_{-i}, \\mathbf{X})\n",
    "\\propto\n",
    "\\frac{ P(\\mathbf{c}_{-i} \\mid c_i, \\mathbf{X})\\, P(c_i \\mid \\mathbf{X})}\n",
    "  {P(\\mathbf{c}_{-i} \\mid \\mathbf{X})}\n",
    "$$\n",
    " \n",
    " or:\n",
    " \n",
    "$$P(c_i \\mid \\mathbf{c}_{-i}, \\mathbf{X})\n",
    "\\propto\n",
    "\\frac{ P(\\mathbf{X} \\mid c_i, \\mathbf{c}_{-i})\\, P(c_i \\mid \\mathbf{c}_{-i} )}\n",
    "  {P(\\mathbf{X} \\mid \\mathbf{c}_{-i})}\n",
    "$$\n",
    "$$\n",
    "= \\frac{ P(\\mathbf{X} \\mid \\mathbf{c})\\, P(c_i \\mid \\mathbf{c}_{-i} )}\n",
    "  {P(\\mathbf{X} \\mid \\mathbf{c}_{-i})}\n",
    "$$\n",
    "\n",
    "The second one looks like the one we should use, but still, I couldnt really figure out the breadcrumbs at this point.  What does it mean \"only the second term on the right hand side depends upon the distribution over class assignments $P(\\mathbf{c})$\"?  It seems like there is $\\mathbf{c}$ in the left hand term $p(\\mathbf{X} \\mid \\mathbf{c})$ too?  So, after staring at this for a bit, I looked around, and reached out to Neil's [\"Markov Chain Sampling Methods for Dirichlet Process Mixture Models\"](http://www.cs.princeton.edu/courses/archive/fall11/cos597C/reading/Neal2000a.pdf).  So let's go there.  The following is based on Neal's paper/report, until further notice."
   ]
  },
  {
   "cell_type": "markdown",
   "metadata": {},
   "source": [
    "### Revision: Dirichlet process mixture models\n",
    "\n",
    "Neal presents a DP mixture model as:\n",
    "\n",
    "$$y_i \\mid \\theta_i \\sim F(\\theta_i)$$\n",
    "\n",
    "$$\\theta_i \\mid G \\sim G$$\n",
    "\n",
    "$$G \\sim DP(G_o, \\alpha)$$\n",
    "\n",
    "So, this means:\n",
    "\n",
    "- we have some base distribution, perhaps a gaussian, $G_0$\n",
    "- we draw Dirichlet distributions, $G$, from this\n",
    "- these look similar to $G_0$, in that their density follows approximately the same overall shape\n",
    "- ... except they are discrete, not continuous\n",
    "\n",
    "Let's draw a graph of this, in python, or try... let's start with $G_0$:"
   ]
  },
  {
   "cell_type": "code",
   "execution_count": 63,
   "metadata": {
    "collapsed": false
   },
   "outputs": [
    {
     "data": {
      "image/png": "[encoded data removed]",
      "text/plain": [
       "<matplotlib.figure.Figure at 0x7fbb6d3123c8>"
      ]
     },
     "metadata": {},
     "output_type": "display_data"
    }
   ],
   "source": [
    "import numpy as np\n",
    "import matplotlib.pyplot as plt\n",
    "import math\n",
    "import scipy.stats\n",
    "\n",
    "def G_0(x):\n",
    "    return scipy.stats.norm.pdf(x)\n",
    "\n",
    "X = np.arange(-3, 3+0.1, 0.1)\n",
    "plt.plot(X, G_0(X))\n",
    "plt.title(\"G_0\")\n",
    "plt.ylim(0, 0.4)\n",
    "plt.xlim(-3, 3)\n",
    "plt.show()"
   ]
  },
  {
   "cell_type": "markdown",
   "metadata": {},
   "source": [
    "We cant exactly draw G, since its infinite, but we can draw the first N values of theta from a draw G.  Skipping down to equation 2.2, in Neal, the CRP, we have:\n",
    "\n",
    "$$\\theta_i \\mid \\theta_1,\\dots,\\theta_{i-1} \\sim\n",
    "\\frac\n",
    "  {1}\n",
    "  {i-1+\\alpha}\n",
    "\\sum_{j=1}^{i-1}\n",
    "  \\delta(\\theta_j)\n",
    "+\n",
    "\\frac\n",
    "  {\\alpha}\n",
    "  {i - 1 + \\alpha}\n",
    "G_0\n",
    "$$\n",
    "\n",
    "So, we can use this to sample $\\theta$ from $G$, given $G_0$. I think"
   ]
  },
  {
   "cell_type": "code",
   "execution_count": 78,
   "metadata": {
    "collapsed": false
   },
   "outputs": [
    {
     "data": {
      "image/png": "[encoded data removed]",
      "text/plain": [
       "<matplotlib.figure.Figure at 0x7fbb6d29c668>"
      ]
     },
     "metadata": {},
     "output_type": "display_data"
    }
   ],
   "source": [
    "import random\n",
    "\n",
    "\n",
    "# change G_0 a bit\n",
    "class G_0(object):\n",
    "    def pdf(self, x):\n",
    "        return scipy.stats.norm.pdf(x)\n",
    "    \n",
    "    def rvs(self):\n",
    "        return scipy.stats.norm.rvs()\n",
    "\n",
    "def draw_thetas(alpha, N):\n",
    "    random.seed(123)\n",
    "\n",
    "    M = []  # using notation from Griffiths and Ghahramani\n",
    "    thetas = []  # list of the theta draws, should be same length as M\n",
    "\n",
    "    g0 = G_0()\n",
    "    for i in range(N):\n",
    "        cumMPdf = np.cumsum(M) / ((i + 1) - 1 + alpha)\n",
    "        uniform_rand = random.uniform(0, 1.0)\n",
    "        target_k = None\n",
    "        for k, m in enumerate(M):\n",
    "            if uniform_rand <= cumMPdf[k]:\n",
    "                target_k = k\n",
    "                break\n",
    "        if target_k is None:\n",
    "            # draw new cluster\n",
    "            # get a value of theta, from G_0\n",
    "            # at this point, I changed G_0 into a class, above\n",
    "            theta_draw = g0.rvs()\n",
    "            thetas.append(theta_draw)\n",
    "            M.append(1)\n",
    "        else:\n",
    "            # simply increase size of existing cluster\n",
    "            M[target_k] += 1\n",
    "\n",
    "    # Now we need to plot these\n",
    "    # The thetas are along the x-axis\n",
    "    # and the M values are the y\n",
    "    # we'll be plotting vertical lines\n",
    "\n",
    "    for k, theta in enumerate(thetas):\n",
    "        x = theta\n",
    "        y = M[k]\n",
    "        plt.plot([x, x], [0, y], '-b')\n",
    "    plt.show()\n",
    "\n",
    "draw_thetas(alpha=1, N=10)"
   ]
  },
  {
   "cell_type": "markdown",
   "metadata": {},
   "source": [
    "Cool. Let's increase N a bit..."
   ]
  },
  {
   "cell_type": "code",
   "execution_count": 89,
   "metadata": {
    "collapsed": false
   },
   "outputs": [
    {
     "data": {
      "image/png": "[encoded data removed]",
      "text/plain": [
       "<matplotlib.figure.Figure at 0x7fbb6d102160>"
      ]
     },
     "metadata": {},
     "output_type": "display_data"
    }
   ],
   "source": [
    "draw_thetas(alpha=1, N=1000)"
   ]
  },
  {
   "cell_type": "markdown",
   "metadata": {},
   "source": [
    "Not really what I was imagining.  Let's try reducing alpha:"
   ]
  },
  {
   "cell_type": "code",
   "execution_count": 90,
   "metadata": {
    "collapsed": false
   },
   "outputs": [
    {
     "data": {
      "image/png": "[encoded data removed]",
      "text/plain": [
       "<matplotlib.figure.Figure at 0x7fbba0973320>"
      ]
     },
     "metadata": {},
     "output_type": "display_data"
    }
   ],
   "source": [
    "draw_thetas(alpha=0.1, N=1000)"
   ]
  },
  {
   "cell_type": "markdown",
   "metadata": {},
   "source": [
    "No better.  Increasing it?"
   ]
  },
  {
   "cell_type": "code",
   "execution_count": 94,
   "metadata": {
    "collapsed": false
   },
   "outputs": [
    {
     "data": {
      "image/png": "[encoded data removed]",
      "text/plain": [
       "<matplotlib.figure.Figure at 0x7fbb6ceb5390>"
      ]
     },
     "metadata": {},
     "output_type": "display_data"
    },
    {
     "data": {
      "image/png": "[encoded data removed]",
      "text/plain": [
       "<matplotlib.figure.Figure at 0x7fbb6d1f7748>"
      ]
     },
     "metadata": {},
     "output_type": "display_data"
    },
    {
     "data": {
      "image/png": "[encoded data removed]",
      "text/plain": [
       "<matplotlib.figure.Figure at 0x7fbb6cea0828>"
      ]
     },
     "metadata": {},
     "output_type": "display_data"
    }
   ],
   "source": [
    "draw_thetas(alpha=10, N=1000)\n",
    "draw_thetas(alpha=100, N=1000)\n",
    "draw_thetas(alpha=300, N=1000)"
   ]
  },
  {
   "cell_type": "markdown",
   "metadata": {},
   "source": [
    "Thats kind of more like what I had in mind :-)\n",
    "\n",
    "So, the draws of $\\theta$, from $G$, drawn from $G_0$ kind of follow $G_0$, but they are discrete. The density of the spikes, for finite $N$, increases with increasing $\\alpha$.  The spikes are very few indeed for $\\alpha$ of $1$ or less.\n",
    "\n",
    "Note that what we are plotting here is the count of the $\\theta$ draws, with $\\theta$ along the x-axis, and the count of $\\theta$ draws vertically.  Going back to the formulation earlier, we will draw $y$ values, based on the $\\theta$ values:\n",
    "\n",
    "$$y_i \\mid \\theta_i \\sim F(\\theta_i)$$\n",
    "\n",
    "$$\\theta_i \\mid G \\sim G$$\n",
    "\n",
    "$$G \\sim DP(G_o, \\alpha)$$\n",
    "\n",
    "The $\\theta_k$ values are the parameters for a function $F(\\theta_k)$.  $\\theta_k$ will generally be a vector, but for the toy example above, is essentially a vector of size 1, and treated as a scalar.\n",
    "\n",
    "The $\\theta_k$ are then the parameters for for example gaussian distributions, where $F(\\theta_k)$ is the distribution for each of these gaussians."
   ]
  },
  {
   "cell_type": "markdown",
   "metadata": {},
   "source": [
    "Neal then depicts finite models, using a similar notation:\n",
    "    \n",
    "$$y_i \\mid c_i, \\phi \\sim F(\\phi_{c_i})$$\n",
    "$$c_i \\mid \\mathbf{p} \\sim \\mathrm{Discrete}(p_1,\\dots,p_K)$$\n",
    "$$\\phi_c \\sim G_0$$\n",
    "$$\\mathbf{p} \\sim \\mathrm{Dirichlet}(\\alpha/K,\\dots,\\alpha/K)$$\n",
    "\n",
    "So:\n",
    "\n",
    "- $\\mathbf{p}$ here is like the $\\mathbf{\\theta}$ in Griffiths and Ghahramani: it is the parameters for the distribution over classes\n",
    "- flicking back through Griffiths and Ghahramani, Griffiths and Ghahramani never really make explicit the existence of $F(\\cdot)$, $G_0$, or $\\phi$, I think.  At least not in the bit I've read so far.  It just deals with assignment to classes, and not to the distribution over their $x$ for each class.  They just write for example $p(\\mathbf{x}_i \\mid c_i)$, which implies some kind of distribution, dependent on class $c_i$, but without saying what it is, or where it came from\n",
    "\n",
    "At this point, Neal writes down the equation for $P(c_i=c \\mid c_1,\\dots,c_{i-1})$, equations 2.4 to 2.6, but I get lost trying to figure out how to get from equation 2.4 to 2.5.\n",
    "\n",
    "I googled for \"dirichlet process gibbs sampling\", and my own question to stackexchange from years ago is the number one hit :-P  https://stats.stackexchange.com/questions/25645/simple-introduction-to-mcmc-with-dirichlet-process-prior :-D\n",
    "\n",
    "I remember there was someting from Bob Carpenter, and googled for that, but that turns up something for LDA, ie [\"Integrating Out Multinomial Parameters in Latent Dirichlet Allocation and Naive Bayes for Collapsed Gibbs Sampling\"](https://lingpipe.files.wordpress.com/2010/07/lda3.pdf). There is a useful-looking factorization though, ie $\\int (a \\, b) \\, da \\, db = (\\int a \\, da)( \\int b \\, db)$ (as long as $a$ and $b$ are independent).\n",
    "\n",
    "After browsing around, I noticed that the Neal equation is only for the finite model, no need for DPs, and so let's look more closely...\n",
    "\n",
    "So, Neal states, equation 2.4:\n",
    "\n",
    "$$P(c_i = c \\mid c_1,\\dots,c_{i-1})$$\n",
    "$$= \\frac{P(c_1,\\dots,c_i)}{P(c_1,\\dots,c_{i-1})}$$\n",
    "\n",
    "So far, so good.  Then equation 2.5:\n",
    "\n",
    "$$=\\frac\n",
    "  {\\int p_{c_1},\\dots,p_{c_{i-1}}p_c \\Gamma(\\alpha)(\\Gamma(\\alpha/K))^{-K} p_1^{\\alpha-K-1},\\dots,p_K^{\\alpha/K-1}\\,d\\mathbf{p}} \n",
    "  {\\int p_{c_1},\\dots,p_{c_{i-1}} \\Gamma(\\alpha)(\\Gamma(\\alpha/K))^{-K} p_1^{\\alpha-K-1},\\dots,p_K^{\\alpha/K-1}\\,d\\mathbf{p}}\n",
    "$$\n",
    "\n",
    "So, let's break this down.  The bit on the left, of the numerator, is the product of the probabilities $p(c_j | \\mathbf{p})$, for $j=1,\\dots,i$ which for each $i$ is simply $p_{c_i}$, giving $\\prod_{j=1}^{i}p_{c_j}$.  Let's separate out the $p_{c_i}$, which is the only difference compared to the denominator, so we have:\n",
    "\n",
    "$$=\\frac\n",
    "  {\\int p_{c_i}\\prod_{j=1}^{i-1}p_{c_j} \\Gamma(\\alpha)(\\Gamma(\\alpha/K))^{-K} p_1^{\\alpha-K-1},\\dots,p_K^{\\alpha/K-1}\\,d\\mathbf{p}} \n",
    "  {\\int\\prod_{j=1}^{i-1}p_{c_j} \\Gamma(\\alpha)(\\Gamma(\\alpha/K))^{-K} p_1^{\\alpha-K-1},\\dots,p_K^{\\alpha/K-1}\\,d\\mathbf{p}}\n",
    "$$\n",
    "\n",
    "The next bit, of the numerator, is the dirichlet prior, ie the $\\Gamma$ of the sums, over the product of the $\\Gamma$s, multiplied by the product of each parameter, to the power $\\alpha_k - 1$, where here, the $\\alpha_k$s are uniform, ie $\\alpha/K$, ie:\n",
    "\n",
    "$$\n",
    "\\frac\n",
    "  {\\Gamma(\\sum_{k=1}^K \\alpha_k)}\n",
    "  {\\prod_{k=1}^K(\\Gamma( \\alpha_k)}\n",
    "  \\prod_{k=1}^K p_k^{\\alpha_k - 1}\n",
    "$$\n",
    "Substituting $\\alpha_k = \\alpha/K$, and moving the denominator of the fraction into the numerator, this is:\n",
    "\n",
    "$$\n",
    "\\Gamma(\\alpha)\n",
    "(\\Gamma(\\alpha/K))^{-K}\n",
    "\\prod_{k=1}^K p_k^{\\alpha/K-1}\n",
    "$$\n",
    "\n",
    "which, if we substitute into equation 2.4, gives us then equation 2.5:\n",
    "\n",
    "$$=\\frac\n",
    "  {\\int\n",
    "    p_{c_i}\\prod_{j=1}^{i-1}p_{c_j}\n",
    "    \\Gamma(\\alpha)\n",
    "    (\\Gamma(\\alpha/K))^{-K}\n",
    "    \\prod_{k=1}^K p_k^{\\alpha/K-1}\n",
    "    \\,d\\mathbf{p}\n",
    "  }\n",
    "  {\\int\n",
    "    \\prod_{j=1}^{i-1}p_{c_j}\n",
    "    \\Gamma(\\alpha)\n",
    "    (\\Gamma(\\alpha/K))^{-K}\n",
    "    \\prod_{k=1}^K p_k^{\\alpha/K-1}\n",
    "    \\,d\\mathbf{p}\n",
    "  }\n",
    "$$\n"
   ]
  },
  {
   "cell_type": "markdown",
   "metadata": {},
   "source": [
    "Then, Neal writes equation 2.6:\n",
    "\n",
    "$$\n",
    "\\frac\n",
    "  {n_{i,c} + \\alpha/K}\n",
    "  {i - 1 + \\alpha}\n",
    "$$\n",
    "\n",
    "Ouch, thats a big step.  So, probably this involves the conjugate relationship of Dirichlet Distribution being the conjugate prior of the Multinomial distribution.  And glancing back at the Griffiths and Ghahramani tutorial, we have the following equation for an integration involving Dirichlet distributions:\n",
    "\n",
    "$$\\int_{\\Delta_K} \\prod_{k=1}^K \\theta^{\\alpha_k} = D(\\alpha_1,\\dots,\\alpha_k)$$\n",
    "\n",
    "Using Neal's notation, this becomes:\n",
    "\n",
    "$$\\int_{\\Delta_K} \\prod_{k=1}^K \\mathbf{p}^{\\alpha_k} = D(\\alpha_1,\\dots,\\alpha_k)$$\n",
    "\n",
    "And substituting in $\\alpha_k = \\alpha/K$, we get:\n",
    "\n",
    "$$\\int_{\\Delta_K} \\prod_{k=1}^K \\mathbf{p}^{\\alpha / K} = D(\\alpha/K,\\dots,\\alpha/K)$$\n",
    "\n",
    "The $D(\\cdot,\\dots,\\cdot)$ expression is defined as:\n",
    "\n",
    "$$D(\\alpha_1,\\dots,\\alpha_k) =\n",
    "\\frac\n",
    "  {\\prod_{k=1}^K \\Gamma(\\alpha_k)}\n",
    "  {\\Gamma(\\sum_{k=1}^K \\alpha_k)}\n",
    "$$\n",
    "\n",
    "So:\n",
    "\n",
    "$$\n",
    "\\int_{\\Delta_K} \\prod_{k=1}^K \\mathbf{p}^{\\alpha_k}=\n",
    "\\frac\n",
    "  {\\prod_{k=1}^K \\Gamma(\\alpha_k)}\n",
    "  {\\Gamma(\\sum_{k=1}^K \\alpha_k)}\n",
    "$$\n",
    "\n",
    "Substituting in $\\alpha_k = \\alpha/K$:\n",
    "\n",
    "$$D(\\alpha/K,\\dots,\\alpha/K) =\n",
    "\\frac\n",
    "  {(\\Gamma(\\alpha_k))^K}\n",
    "  {\\Gamma(\\alpha)}\n",
    "$$\n",
    "\n",
    "$$ = (\\Gamma(\\alpha_k))^K \\Gamma(-\\alpha)\n",
    "$$\n",
    "\n",
    "So:\n",
    "\n",
    "$$\n",
    "\\int_{\\Delta_K} \\prod_{k=1}^K \\mathbf{p}^{\\alpha / K}\n",
    "= (\\Gamma(\\alpha_k))^K \\Gamma(-\\alpha)\n",
    "$$\n",
    "\n",
    "Looking back at equation 2.5, anything that is not a function of $\\mathbf{p}$ can be moved out of the integral.  That means the $\\Gamma$s inside the integrals cancel, giving:\n",
    "\n",
    "$$=\\frac\n",
    "  {\\int\n",
    "    p_{c_i}\\prod_{j=1}^{i-1}p_{c_j}\n",
    "    \\prod_{k=1}^K p_k^{\\alpha/K-1}\n",
    "    \\,d\\mathbf{p}\n",
    "  }\n",
    "  {\\int\n",
    "    \\prod_{j=1}^{i-1}p_{c_j}\n",
    "    \\prod_{k=1}^K p_k^{\\alpha/K-1}\n",
    "    \\,d\\mathbf{p}\n",
    "  }\n",
    "$$\n",
    "\n",
    "And we need to get this in the form $\\int p^{\\mathrm{some\\,expression}}\\,d\\mathbf{p}$, so that we can then write the result of the integral as $\\Gamma$ functions.  Neal offers, just under equation (2.6), \"where $n_{i,c}$ is the number of $c_j$ for $j < i$ that are equal to $c$\".  This sounds remarkably like the $m_k$ of Griffiths and Ghahramani, so let's use this:\n",
    "\n",
    "$$=\\frac\n",
    "  {\\int\n",
    "    p_{c_i}\n",
    "    \\prod_{k=1}^K p_k^{n_{i,k}}\n",
    "    \\prod_{k=1}^K p_k^{\\alpha/K-1}\n",
    "    \\,d\\mathbf{p}\n",
    "  }\n",
    "  {\\int\n",
    "    \\prod_{k=1}^K p_k^{n_{i,k}}\n",
    "    \\prod_{k=1}^K p_k^{\\alpha/K-1}\n",
    "    \\,d\\mathbf{p}\n",
    "  }\n",
    "$$\n",
    "$$=\\frac\n",
    "  {\\int\n",
    "    p_{c_i}\n",
    "    \\prod_{k=1}^K p_k^{n_{i,k + \\alpha/K - 1}}\n",
    "    \\,d\\mathbf{p}\n",
    "  }\n",
    "  {\\int\n",
    "    \\prod_{k=1}^K p_k^{n_{i,k} + \\alpha/K - 1}\n",
    "    \\,d\\mathbf{p}\n",
    "  }\n",
    "$$\n",
    "\n",
    "I dont reckon we can move the $p_{c_i}$ outside of the integral, since the integral is over $\\mathbf{p}$.  But, what if we move $p_{c_i}$ into the product over $k$, in the numerator, handle the integration, then deal with the $\\Gamma$s afterwards?  The numerator will look like:\n",
    "\n",
    "$$\n",
    "\\int\n",
    "    p_{c_i}\n",
    "    \\prod_{k=1}^K p_k^{n_{i,k} + \\alpha/K - 1}\n",
    "    \\,d\\mathbf{p}\n",
    "$$\n",
    "$$\n",
    "=\\int\n",
    "    \\prod_{k=1}^K p_k^{n_{i+1,k} + \\alpha/K - 1}\n",
    "    \\,d\\mathbf{p}\n",
    "$$\n",
    "Using the expression for such integrals, above, we get:\n",
    "$$\n",
    "= D(n_{i+1,1} + \\alpha/K, \\dots, n_{i+1,k} + \\alpha/K)\n",
    "$$\n",
    "$$\n",
    "= \\frac\n",
    "  {\\prod_{k=1}^K \\Gamma(n_{i+1,k} + \\alpha/K)}\n",
    "  {\\Gamma(\\sum_{k=1}^K(n_{i+1,k} + \\alpha/K) )}\n",
    "$$\n",
    "\n",
    "Putting together with the denominator, from 2.5:\n",
    "\n",
    "$$\n",
    "= \\frac\n",
    "  {\\prod_{k=1}^K \\Gamma(n_{i+1,k} + \\alpha/K)}\n",
    "  {\\Gamma(\\sum_{k=1}^K(n_{i+1,k} + \\alpha/K) )}\n",
    "\\frac\n",
    "  {\\Gamma(\\sum_{k=1}^K(n_{i,k} + \\alpha/K) )}\n",
    "  {\\prod_{k=1}^K \\Gamma(n_{i,k} + \\alpha/K)}\n",
    "$$\n"
   ]
  },
  {
   "cell_type": "markdown",
   "metadata": {},
   "source": [
    "There are two cases for $k$:\n",
    "\n",
    "- $k = c_i$\n",
    "- $k \\ne c_i$\n",
    "\n",
    "Looking at $n_{i,k}$ for these two cases:\n",
    "\n",
    "- when $k \\ne c_i$, $n_{i+1,k} = n_{i, k}$\n",
    "- when $k = c_i$, $n_{i+1,k} = n_{i, k} + 1$\n",
    "\n",
    "For simplicity of notation, let's rearrange the indices, so that $c_i = K$.  Then we have:\n",
    "\n",
    "$$\n",
    "= \\frac\n",
    "  {\\Gamma(n_{i,K} + 1 + \\alpha/K) \\prod_{k=1}^{K-1} \\Gamma(n_{i,k} + \\alpha/K)}\n",
    "  {\\Gamma(n_{i,K} + 1 + \\alpha/K + \\sum_{k=1}^{K-1}(n_{i,k} + \\alpha/K) )}\n",
    "\\frac\n",
    "  {\\Gamma(\\sum_{k=1}^K(n_{i,k} + \\alpha/K) )}\n",
    "  {\\prod_{k=1}^K \\Gamma(n_{i,k} + \\alpha/K)}\n",
    "$$\n",
    "$$\n",
    "= \\frac\n",
    "  {\\Gamma(n_{i,K} + 1 + \\alpha/K) \\prod_{k=1}^{K-1} \\Gamma(n_{i,k} + \\alpha/K)}\n",
    "  {\\Gamma(1 + \\sum_{k=1}^{K}(n_{i,k} + \\alpha/K) )}\n",
    "\\frac\n",
    "  {\\Gamma(\\sum_{k=1}^K(n_{i,k} + \\alpha/K) )}\n",
    "  {\\prod_{k=1}^K \\Gamma(n_{i,k} + \\alpha/K)}\n",
    "$$\n",
    "Using $\\Gamma(x) = (x-1)\\Gamma(x-1)$, on both top and bottom, of the left hand fraction, we get:\n",
    "$$\n",
    "= \\frac\n",
    "  {(n_{i,K} + \\alpha/K)\\Gamma(\\prod_{k=1}^{K} \\Gamma(n_{i,k} + \\alpha/K)}\n",
    "  {\\sum_{k=1}^{K}(n_{i,k} + \\alpha/K) \\Gamma(\\sum_{k=1}^{K}(n_{i,k} + \\alpha/K) )}\n",
    "\\frac\n",
    "  {\\Gamma(\\sum_{k=1}^K(n_{i,k} + \\alpha/K) )}\n",
    "  {\\prod_{k=1}^K \\Gamma(n_{i,k} + \\alpha/K)}\n",
    "$$\n",
    "Cancelling the right-most two fractions:\n",
    "$$\n",
    "= \\frac\n",
    "  {(n_{i,K} + \\alpha/K)}\n",
    "  {\\sum_{k=1}^{K}(n_{i,k} + \\alpha/K)}\n",
    "$$\n",
    "Swapping back, so $K$ becomes $c$ (notation is a bit messy I agree...)\n",
    "$$\n",
    "= \\frac\n",
    "  {(n_{i,c} + \\alpha/K)}\n",
    "  {\\sum_{k=1}^{K}(n_{i,k} + \\alpha/K)}\n",
    "$$\n",
    "We have:\n",
    "$$\n",
    "\\sum_{k=1}^K n_{i,k}\n",
    "= i - 1\n",
    "$$\n",
    "So:\n",
    "$$\n",
    "= \\frac\n",
    "  {n_{i,c} + \\alpha/K}\n",
    "  {i - 1 + \\alpha}\n",
    "$$\n",
    "\n",
    "As required :-)"
   ]
  },
  {
   "cell_type": "markdown",
   "metadata": {},
   "source": [
    "As $K \\to \\infty$, for $c_i = c$:\n",
    "\n",
    "$$P(c_i=c \\mid c_1,\\dots,c_{i-1}) \\to \\frac{n_{i,c}}{i - 1 + \\alpha}$$\n",
    "\n",
    "Neal says that for $c_i \\ne c_j$ for all $j < i$:\n",
    "\n",
    "$$P(c_i \\ne c_j \\mathrm{\\,for\\,all\\,} j < i \\mid c_1,\\dots,c_{i-1}) \\to \\frac{\\alpha}{i - 1 + \\alpha}$$\n",
    "\n",
    "I stared at this for a bit, thinking this meant $P(c_i \\ne c \\mid c_1,\\dots,c_{i-1})$, ie $1 - P(c_i = c \\mid c_1, \\dots, c_{i-1})$, which didnt seem to give the asymptote stated. But actually, this means, the probability of drawing a class that doesnt match any of the previously drawn classes.  So, it means that $n_{i,c}$ will be $0$.  However, we have to add the probability across all previously drawn classes, ie multiply by $K$.  So, we'll have:\n",
    "\n",
    "$$\n",
    "P(c_i \\ne c_j \\mathrm{\\,for\\,all\\,} j < i \\mid c_1, \\dots,c_{i-1})\n",
    "$$\n",
    "$$\n",
    "\\to\n",
    " K \\frac{0 + \\alpha/K}{i - 1 + \\alpha}\n",
    "$$\n",
    "$$\n",
    "= \\frac{\\alpha}{i - 1  + \\alpha}\n",
    "$$\n",
    "as stated.\n"
   ]
  },
  {
   "cell_type": "markdown",
   "metadata": {},
   "source": [
    "Leaving Neal, and returning to the Griffiths and Ghahramani tutorial, and rewriting the results from above in the notation of Griffiths and Ghahramani, we have:\n",
    "\n",
    "$$P(c_i =k \\mid \\mathbf{c}_{-i}) = \\frac{m_{-i,k} + \\alpha/K}{N - 1 + \\alpha}$$\n",
    "\n",
    "where:\n",
    "\n",
    "- Neal's $n_{i,j}$ becomes $m_{-i,k}$, and\n",
    "- $i$ becomes $N$\n",
    "\n",
    "And also, as $K \\to \\infty$:\n",
    "\n",
    "$$P(c_i = k \\mid \\mathbf{c}_i) $$\n",
    "\n",
    "$$= \\frac{m_{-i,k}}{N - 1 + \\alpha} \\mathrm{\\,when\\,} m_{-i,k} > 0$$\n",
    "\n",
    "$$= \\frac{\\alpha}{N - 1 + \\alpha} \\mathrm{\\,when\\,} k = K_{-i}^+ + 1$$\n",
    "\n",
    "$$= 0 \\mathrm{\\,otherwise}$$\n"
   ]
  },
  {
   "cell_type": "markdown",
   "metadata": {},
   "source": [
    "I'm tempted to dabble in finishing the Neal paper, but probably better to finish the Griffiths and Ghahramani tutorial, then decide where to go from there."
   ]
  },
  {
   "cell_type": "markdown",
   "metadata": {},
   "source": [
    "# Latent Feature Models\n",
    "\n",
    "Latent feature values for $N$ objects:\n",
    "\n",
    "$$\\mathbf{F} = [\\mathbf{f}_1^T \\mathbf{f}_2^T\\dots \\mathbf{f}_N^T]^T$$\n",
    "\n",
    "$$\\mathbf{F} = \\mathbf{Z} \\odot \\mathbf{V}$$\n",
    "\n",
    "where:\n",
    "\n",
    "- $\\mathbf{Z}$ is binary matrix indicating which features are possessed by an object\n",
    "- $\\mathbf{V}$ indicates the value of each feature for each project\n",
    "- $\\odot$ indicates element-wise (Hadamard) product\n",
    "\n",
    "Can specify prior on $\\mathbf{Z}$ and $\\mathbf{V}$ separately:\n",
    "\n",
    "$$P(\\mathbf{F}) = P(\\mathbf{Z})P(\\mathbf{V})$$"
   ]
  },
  {
   "cell_type": "markdown",
   "metadata": {},
   "source": [
    "## Finite Feature Model\n",
    "\n",
    "- $K$ features\n",
    "- $P(z_{i,k} \\mid \\mathbf{\\pi}) = \\pi_k$\n",
    "- $P(\\mathbf{Z} \\mid \\mathbf{\\pi})$ is:\n",
    "\n",
    "$$P(\\mathbf{Z} \\mid \\mathbf{\\pi})\n",
    "= \\prod_{i=1}^N \\prod_{k=1}^K P(z_{i,k} \\mid \\pi_k)\n",
    "$$\n",
    "Defining $m_k =\\sum_{i=1}^N z_{i,k}$ as the number of objects having feature $k$:\n",
    "$$P(\\mathbf{Z} \\mid \\mathbf{\\pi})\n",
    "= \\prod_{k=1}^K \\pi_k^{m_k} (1-\\pi_k)^{N-m_k}\n",
    "$$\n",
    "\n",
    "Take $\\pi_k$ to follow Beta distribution, the conjugate prior of Binomial distribution then:\n",
    "\n",
    "$$p(\\pi_k) = \\frac{\\pi_k^{r-1}(1-\\pi_k)^{s-1}}{B(r,s)}$$\n",
    "\n",
    "where $B(r,s)$ is Beta function:\n",
    "\n",
    "$$B(r,s)=\\int_0^1 \\pi_k^{r-1}(1 - \\pi_k)^{s - 1}\\,d\\pi_k$$\n",
    "$$=\\frac{\\Gamma(r)\\Gamma(s)}{\\Gamma(r+s)}$$\n",
    "\n",
    "Take $r = \\alpha/K$, and $s=1$, then:\n",
    "\n",
    "$$B(\\alpha/K, 1) = \\frac{\\Gamma(\\alpha/K)}{\\Gamma(1 + \\alpha/K)}$$\n",
    "$$=\\frac{\\Gamma(\\alpha/K)}{(\\alpha/K)\\Gamma(\\alpha/K)}$$\n",
    "$$=\\frac{K}{\\alpha}$$\n",
    "\n",
    "Model is:\n",
    "\n",
    "$$\\pi_k \\mid \\alpha \\sim \\mathrm{Beta}(\\alpha/K,1)$$\n",
    "$$z_{i,k} \\mid \\pi_k \\sim \\mathrm{Bernoulli}(\\pi_k)$$\n"
   ]
  },
  {
   "cell_type": "markdown",
   "metadata": {},
   "source": [
    "\n",
    "Integrating over $\\pi_k$, and this follows closely how it worked for finite mixture models, so we can more or less work through using the same mechanisms:\n",
    "\n",
    "$$\n",
    "P(\\mathbf{Z} \\mid \\alpha) =\n",
    "\\prod_{k=1}^K\n",
    "\\int\n",
    "p(\\pi_k \\mid \\alpha)\n",
    "\\prod_{i=1}^N\n",
    "p(z_{i,k} \\mid \\pi_k)\n",
    "\\, d\\pi_k\n",
    "$$\n",
    "\n",
    "$$\n",
    "=\n",
    "\\prod_{k=1}^K\n",
    "\\int\n",
    "\\frac{\\alpha}{K}\n",
    "\\pi_k^{\\alpha/K - 1}(1-\\pi_k)^{0}\n",
    "\\prod_{i=1}^N\n",
    "\\pi_k^{z_{i,k}}\n",
    "\\, d\\pi_k\n",
    "$$\n",
    "\n",
    "$$\n",
    "=\n",
    "\\left(\\frac{\\alpha}{K}\\right)^K\n",
    "\\prod_{k=1}^K\n",
    "\\int\n",
    "\\pi_k^{\\alpha/K - 1}\n",
    "\\pi_k^{m_k}\n",
    "(1 - \\pi_k)^{N-m_k}\n",
    "\\, d\\pi_k\n",
    "$$\n",
    "\n",
    "$$\n",
    "=\n",
    "\\left(\\frac{\\alpha}{K}\\right)^K\n",
    "\\prod_{k=1}^K\n",
    "\\int\n",
    "\\pi_k^{m_k + \\alpha/K - 1}\n",
    "(1 - \\pi_k)^{N-m_k}\n",
    "\\, d\\pi_k\n",
    "$$\n"
   ]
  },
  {
   "cell_type": "markdown",
   "metadata": {},
   "source": [
    "\n",
    "$$\n",
    "=\n",
    "\\left(\\frac{\\alpha}{K}\\right)^K\n",
    "\\prod_{k=1}^K\n",
    "B(m_k + \\alpha, N-m_k+1)\n",
    "$$\n",
    "\n",
    "$$\n",
    "=\n",
    "\\left(\\frac{\\alpha}{K}\\right)^K\n",
    "\\prod_{k=1}^K\n",
    "\\frac\n",
    "  {\\Gamma(m_k + \\alpha/K)\\Gamma(N-m_k+1}\n",
    "  {\\Gamma(N + \\alpha/K + 1)}\n",
    "$$\n",
    "\n",
    "... in agreement with the tutorial"
   ]
  }
 ],
 "metadata": {
  "kernelspec": {
   "display_name": "Python 3",
   "language": "python",
   "name": "python3"
  },
  "language_info": {
   "codemirror_mode": {
    "name": "ipython",
    "version": 3
   },
   "file_extension": ".py",
   "mimetype": "text/x-python",
   "name": "python",
   "nbconvert_exporter": "python",
   "pygments_lexer": "ipython3",
   "version": "3.5.2"
  }
 },
 "nbformat": 4,
 "nbformat_minor": 2
}
