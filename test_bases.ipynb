{
 "cells": [
  {
   "cell_type": "markdown",
   "metadata": {},
   "source": [
    "# test_bases\n",
    "\n",
    "Test the bases.py module\n",
    "\n",
    "Edit, in retrospect: looks like this isnt necessary, since QR decomposition gives us the exact same orthonormal basis; whilst simple matrix multiplication with the basis matrix gives us the projection :-P  Nevertheless, this notebook serves to discover/demonstrate/reassure myself this is the case.\n",
    "\n",
    "Let's redo the linear least squares projections, to test this module"
   ]
  },
  {
   "cell_type": "code",
   "execution_count": 20,
   "metadata": {
    "collapsed": false
   },
   "outputs": [
    {
     "name": "stdout",
     "output_type": "stream",
     "text": [
      "beta_gt [ 0.30000001]\n",
      "X.shape (10, 1)\n",
      "y.shape (10,)\n"
     ]
    },
    {
     "data": {
      "image/png": "[encoded data removed]",
      "text/plain": [
       "<matplotlib.figure.Figure at 0x7f9cf8fb3358>"
      ]
     },
     "metadata": {},
     "output_type": "display_data"
    },
    {
     "name": "stdout",
     "output_type": "stream",
     "text": [
      "beta_est [ 0.25268061]\n"
     ]
    },
    {
     "data": {
      "image/png": "[encoded data removed]",
      "text/plain": [
       "<matplotlib.figure.Figure at 0x7f9cf8fae898>"
      ]
     },
     "metadata": {},
     "output_type": "display_data"
    },
    {
     "name": "stdout",
     "output_type": "stream",
     "text": [
      "r_beta_gt [-0.13577723 -0.01894179  0.29827793 -0.1277804  -0.08879639 -0.08687026\n",
      "  0.44118602  0.43735722  0.20081078  0.07723728]\n",
      "r_beta_est [-0.18714862  0.028252    0.3116683  -0.19905737 -0.11617541 -0.00872526\n",
      "  0.326357    0.41706133  0.26071413  0.03622364]\n",
      "sum squares, beta_gt 0.571740043145\n",
      "sum squares, beta_est 0.535889655606\n"
     ]
    }
   ],
   "source": [
    "import numpy as np\n",
    "import matplotlib.pyplot as plt\n",
    "import bases\n",
    "\n",
    "\n",
    "N = 10\n",
    "K = 1\n",
    "\n",
    "e = 0.2  # noise term\n",
    "# _gt => 'ground truth'\n",
    "beta_gt = np.array([0.3]).astype(np.float32)\n",
    "print('beta_gt', beta_gt)\n",
    "\n",
    "np.random.seed(123)\n",
    "X = np.random.randn(N, K)\n",
    "print('X.shape', X.shape)\n",
    "y = X.dot(beta_gt) + np.random.randn(N) * e\n",
    "print('y.shape', y.shape)\n",
    "\n",
    "\n",
    "# simple X-y plot:\n",
    "plt.plot(X[:, 0], y, 'x')\n",
    "plt.show()\n",
    "\n",
    "# _est => estimated\n",
    "beta_est = np.linalg.inv(X.T.dot(X)).dot(X.T.dot(y))\n",
    "print('beta_est', beta_est)\n",
    "\n",
    "plt.plot(X[:, 0], y, 'x')\n",
    "plt.plot(X[:, 0], X.dot(beta_gt), '-', label='beta_gt')\n",
    "plt.plot(X[:, 0], X.dot(beta_est), '-', label='beta_est')\n",
    "plt.legend()\n",
    "plt.show()\n",
    "\n",
    "# check residual for these two lines, compared to the actual X samples\n",
    "r_beta_gt = y - X.dot(beta_gt)\n",
    "r_beta_est = y - X.dot(beta_est)\n",
    "print('r_beta_gt', r_beta_gt)\n",
    "print('r_beta_est', r_beta_est)\n",
    "print('sum squares, beta_gt', np.sum(np.power(r_beta_gt, 2)))\n",
    "print('sum squares, beta_est', np.sum(np.power(r_beta_est, 2)))\n"
   ]
  },
  {
   "cell_type": "markdown",
   "metadata": {},
   "source": [
    "I looked at this for a bit, since I couldnt figure out why the line for `beta_est` isnt a bit higher, on the right hand side.  Suddenly I remember: oh right: it has to pass through the origin."
   ]
  },
  {
   "cell_type": "code",
   "execution_count": 33,
   "metadata": {
    "collapsed": false
   },
   "outputs": [
    {
     "name": "stdout",
     "output_type": "stream",
     "text": [
      "B [[-0.27131537]\n",
      " [ 0.24925159]\n",
      " [ 0.07072058]\n",
      " [-0.37644565]\n",
      " [-0.14460088]\n",
      " [ 0.41271877]\n",
      " [-0.60646355]\n",
      " [-0.1071917 ]\n",
      " [ 0.31637648]\n",
      " [-0.21661143]]\n",
      "norm B[:, 0] 1.0\n",
      "norm_x0 4.00136038859\n",
      "x0_dot_b0 4.00136038736\n"
     ]
    }
   ],
   "source": [
    "import bases\n",
    "import importlib\n",
    "importlib.reload(bases)\n",
    "\n",
    "\n",
    "B = bases.get_orthonormal_basis(X)\n",
    "print('B', B)\n",
    "\n",
    "# check columns of B are unit length:\n",
    "print('norm B[:, 0]', np.linalg.norm(B[:, 0]))\n",
    "assert abs(np.linalg.norm(B[:, 0]) - 1.0) <= 1e-4\n",
    "\n",
    "# check first column of B, b0, is co-linear with x0\n",
    "x0 = X[:, 0]\n",
    "norm_x0 = np.linalg.norm(x0)\n",
    "print('norm_x0', norm_x0)\n",
    "x0_dot_b0 = x0.dot(B[:, 0])\n",
    "print('x0_dot_b0', x0_dot_b0)\n",
    "assert abs(norm_x0 - x0_dot_b0) <= 1e-4"
   ]
  },
  {
   "cell_type": "markdown",
   "metadata": {},
   "source": [
    "Ok, so finally we did nothing with the whole line-of-best-fit thing, just checked the basis was orthonormal, which is easy, since only once vector.  And checked that single vector was aligned with `x0`.\n",
    "\n",
    "3 dimensions:"
   ]
  },
  {
   "cell_type": "code",
   "execution_count": 108,
   "metadata": {
    "collapsed": false
   },
   "outputs": [
    {
     "name": "stdout",
     "output_type": "stream",
     "text": [
      "loading bases\n",
      "beta_gt [-0.276 -0.552  0.121]\n",
      "X.shape (30, 3)\n",
      "y.shape (30,)\n",
      "B.shape (30, 3)\n",
      "norm B[:, 0] 1.0\n",
      "norm B[:, 1] 1.0\n",
      "norm B[:, 2] 1.0\n",
      "B.T.dot(B) [[ 1.  0. -0.]\n",
      " [ 0.  1.  0.]\n",
      " [-0.  0.  1.]]\n",
      "proj [ 5.729  0.    -0.   ]\n",
      "proj [-0.693  7.118  0.   ]\n",
      "proj [-1.59   1.508  5.453]\n"
     ]
    }
   ],
   "source": [
    "import bases\n",
    "import importlib\n",
    "importlib.reload(bases)\n",
    "\n",
    "\n",
    "N = 30\n",
    "K = 3\n",
    "\n",
    "e = 0.2  # noise term\n",
    "\n",
    "\n",
    "np.set_printoptions(suppress=True, precision=3)\n",
    "\n",
    "# _gt => 'ground truth'\n",
    "beta_gt = np.random.randn(K)\n",
    "print('beta_gt', beta_gt)\n",
    "\n",
    "np.random.seed(123)\n",
    "X = np.random.randn(N, K)\n",
    "print('X.shape', X.shape)\n",
    "y = X.dot(beta_gt) + np.random.randn(N) * e\n",
    "print('y.shape', y.shape)\n",
    "\n",
    "X_orig = np.copy(X)\n",
    "B = bases.get_orthonormal_basis(X)\n",
    "assert np.max(np.abs(X_orig - X)) <= 1e-4\n",
    "print('B.shape', B.shape)\n",
    "\n",
    "# check columns of B are unit length:\n",
    "for k in range(K):\n",
    "    print('norm B[:, %s]' % k, np.linalg.norm(B[:, k]))\n",
    "    assert abs(np.linalg.norm(B[:, k]) - 1.0) <= 1e-4\n",
    "\n",
    "# check each B[:, k] orthogonal to B[:, k2] for k in range(K), k2 in range(K)\n",
    "for k1 in range(K):\n",
    "    for k2 in range(K):\n",
    "        bk1_dot_bk2 = B[:, k1].dot(B[:, k2])\n",
    "        if k1 == k2:\n",
    "            assert abs(bk1_dot_bk2 - 1) <= 1e-4\n",
    "        else:\n",
    "            assert abs(bk1_dot_bk2 - 0) <= 1e-4\n",
    "\n",
    "print('B.T.dot(B)', B.T.dot(B))\n",
    "assert np.max(np.abs(B.T.dot(B) - np.identity(K))) <= 1e-4\n",
    "\n",
    "\n",
    "# check that the basis does in fact correspond to the columnspace of X, ie\n",
    "# if we project each column of X into this basis, then map back into\n",
    "# the original vector space of X, we retrieve the same vectors\n",
    "for k in range(K):\n",
    "    xk = X[:, k]\n",
    "    proj = bases.proj_orthonorm(xk, B)\n",
    "    print('proj', proj)\n",
    "    assert len(proj.shape) == 1\n",
    "    assert proj.shape[0] == K\n",
    "    # transform back into original space, and check the same\n",
    "    xk_2 = B.dot(proj)\n",
    "    assert np.max(np.abs(xk_2 - xk)) <= 1e-4\n"
   ]
  },
  {
   "cell_type": "markdown",
   "metadata": {},
   "source": [
    "The results of the projection, ie the triangular form of the resulting projections, look suspiciously simliar to QR.  Is it the same thing?"
   ]
  },
  {
   "cell_type": "code",
   "execution_count": 94,
   "metadata": {
    "collapsed": false
   },
   "outputs": [
    {
     "name": "stdout",
     "output_type": "stream",
     "text": [
      "Q [[-0.189  0.122  0.037]\n",
      " [-0.263 -0.107 -0.256]\n",
      " [-0.424 -0.101 -0.137]\n",
      " [-0.151 -0.11   0.031]\n",
      " [ 0.26  -0.064 -0.012]\n",
      " [-0.076  0.303 -0.295]\n",
      " [ 0.175  0.071 -0.167]\n",
      " [ 0.26  -0.106 -0.321]\n",
      " [-0.219 -0.111 -0.133]\n",
      " [-0.249 -0.044  0.219]\n",
      " [-0.045 -0.397  0.228]\n",
      " [-0.122  0.118  0.1  ]\n",
      " [ 0.     0.097  0.188]\n",
      " [ 0.05  -0.108  0.272]\n",
      " [-0.068  0.074 -0.022]\n",
      " [-0.002  0.336  0.018]\n",
      " [ 0.171  0.331  0.279]\n",
      " [-0.181  0.227  0.262]\n",
      " [ 0.005  0.151 -0.123]\n",
      " [ 0.306  0.24  -0.219]\n",
      " [-0.135  0.099  0.009]\n",
      " [-0.231  0.177 -0.032]\n",
      " [ 0.008 -0.032  0.209]\n",
      " [ 0.035  0.069  0.161]\n",
      " [ 0.203 -0.134  0.293]\n",
      " [ 0.181 -0.039 -0.041]\n",
      " [-0.146 -0.24  -0.254]\n",
      " [-0.12   0.222 -0.052]\n",
      " [-0.055 -0.158  0.107]\n",
      " [-0.212  0.273  0.107]]\n",
      "R [[ 5.729 -0.693 -1.59 ]\n",
      " [ 0.     7.118  1.508]\n",
      " [ 0.     0.    -5.453]]\n",
      "B [[-0.189  0.122 -0.037]\n",
      " [-0.263 -0.107  0.256]\n",
      " [-0.424 -0.101  0.137]\n",
      " [-0.151 -0.11  -0.031]\n",
      " [ 0.26  -0.064  0.012]\n",
      " [-0.076  0.303  0.295]\n",
      " [ 0.175  0.071  0.167]\n",
      " [ 0.26  -0.106  0.321]\n",
      " [-0.219 -0.111  0.133]\n",
      " [-0.249 -0.044 -0.219]\n",
      " [-0.045 -0.397 -0.228]\n",
      " [-0.122  0.118 -0.1  ]\n",
      " [ 0.     0.097 -0.188]\n",
      " [ 0.05  -0.108 -0.272]\n",
      " [-0.068  0.074  0.022]\n",
      " [-0.002  0.336 -0.018]\n",
      " [ 0.171  0.331 -0.279]\n",
      " [-0.181  0.227 -0.262]\n",
      " [ 0.005  0.151  0.123]\n",
      " [ 0.306  0.24   0.219]\n",
      " [-0.135  0.099 -0.009]\n",
      " [-0.231  0.177  0.032]\n",
      " [ 0.008 -0.032 -0.209]\n",
      " [ 0.035  0.069 -0.161]\n",
      " [ 0.203 -0.134 -0.293]\n",
      " [ 0.181 -0.039  0.041]\n",
      " [-0.146 -0.24   0.254]\n",
      " [-0.12   0.222  0.052]\n",
      " [-0.055 -0.158 -0.107]\n",
      " [-0.212  0.273 -0.107]]\n"
     ]
    }
   ],
   "source": [
    "Q, R = np.linalg.qr(X)\n",
    "print('Q', Q)\n",
    "print('R', R)\n",
    "print('B', B)\n"
   ]
  },
  {
   "cell_type": "markdown",
   "metadata": {},
   "source": [
    "Interesting: Q,R decomposition actually creates the basis for us.  Quoting from https://en.wikipedia.org/wiki/QR_decomposition:\n",
    "\n",
    "\"More generally, the first k columns of Q form an orthonormal basis for the span of the first k columns of A for any 1 ≤ k ≤ n.\""
   ]
  },
  {
   "cell_type": "markdown",
   "metadata": {},
   "source": [
    "Lets simply check that the beta we get by projecting $\\mathbf{y}$ into this space matches that we get from the matrix inversion formula."
   ]
  },
  {
   "cell_type": "code",
   "execution_count": 134,
   "metadata": {
    "collapsed": false
   },
   "outputs": [
    {
     "name": "stdout",
     "output_type": "stream",
     "text": [
      "y_proj_B [-1.393 -4.026  0.31 ]\n",
      "norm y_proj_B 4.271708272\n",
      "beta [-0.297 -0.578  0.057]\n"
     ]
    }
   ],
   "source": [
    "y_proj_B = y.dot(B)\n",
    "print('y_proj_B', y_proj_B)\n",
    "norm_y_proj_B = np.linalg.norm(y_proj_B)\n",
    "print('norm y_proj_B', norm_y_proj_B)\n",
    "\n",
    "beta = np.linalg.inv(X.T.dot(X)).dot(X.T.dot(y))\n",
    "print('beta', beta)"
   ]
  },
  {
   "cell_type": "markdown",
   "metadata": {},
   "source": [
    "Hmmmm, what to do with the y projection onto B, to get beta?  I suppose we need to decompose it into a basis formed from the column space of $\\mathbf{X}$?"
   ]
  },
  {
   "cell_type": "markdown",
   "metadata": {},
   "source": [
    "Lets label the following bases:\n",
    "\n",
    "- basis `B`, as calculated above, the orthonormal basis\n",
    "- basis `Bx`, which is the basis defined by the projection of the column vectors of $\\mathbf{X}$ into vector space defined by basis `B`\n",
    "\n",
    "Let's first get the projection of $\\mathbf{X}$ into `B`.  To make sure we're getting the transposes right, lets try two columns first:"
   ]
  },
  {
   "cell_type": "code",
   "execution_count": 110,
   "metadata": {
    "collapsed": false
   },
   "outputs": [
    {
     "name": "stdout",
     "output_type": "stream",
     "text": [
      "Bx [[ 5.729 -0.693]\n",
      " [ 0.     7.118]\n",
      " [-0.     0.   ]]\n"
     ]
    }
   ],
   "source": [
    "# Bx = X[:2].T.dot(B)\n",
    "Bx2 = B.T.dot(X[:, :2])\n",
    "print('Bx2', Bx2)"
   ]
  },
  {
   "cell_type": "markdown",
   "metadata": {},
   "source": [
    "And all three columns:"
   ]
  },
  {
   "cell_type": "code",
   "execution_count": 111,
   "metadata": {
    "collapsed": false
   },
   "outputs": [
    {
     "name": "stdout",
     "output_type": "stream",
     "text": [
      "Bx [[ 5.729 -0.693 -1.59 ]\n",
      " [ 0.     7.118  1.508]\n",
      " [-0.     0.     5.453]]\n"
     ]
    }
   ],
   "source": [
    "Bx = B.T.dot(X)\n",
    "print('Bx', Bx)"
   ]
  },
  {
   "cell_type": "markdown",
   "metadata": {},
   "source": [
    "... which matches the $\\mathbf{R}$, from the QR decomposition earlier."
   ]
  },
  {
   "cell_type": "markdown",
   "metadata": {},
   "source": [
    "Thinking about this projection:\n",
    "\n",
    "- the first column represents the projection of `x0` into `B`. And since `B` was formed using the direction of `x0` as the first basis vector, so this vector is exactly aligned with the first basis vector, just the magnitude changes\n",
    "- then, the second column represents the projection of `x1` into `B`, which lies on the hyperplane formed by basis vectors `b0` and `b1`\n",
    "- and similarly, `x2` lies on the hyperplane formed by basis vectors `b0`, `b1` and `b2`\n",
    "\n",
    "So, in the basis space `Bx`, the three columns are the projection of:\n",
    "\n",
    "- $[1, 0, 0]$\n",
    "- $[0, 1, 0]$\n",
    "- $[0, 0, 1]$\n",
    "\n",
    "which as a matrix of column vectors is:\n",
    "\n",
    "$$\n",
    "\\begin{bmatrix}\n",
    "1 & 0 & 0 \\\\\n",
    "0 & 1 & 0 \\\\\n",
    "0 & 0 & 1 \\\\\n",
    "\\end{bmatrix}\n",
    "$$\n",
    "\n",
    "... and we can map from basis `Bx` to basis `B` by multiplying by matrix `R`:\n",
    "\n",
    "$$\n",
    "\\mathbf{M}_{Bx} \\mapsto_{B} \\mathbf{R}\\mathbf{M}\n",
    "$$"
   ]
  },
  {
   "cell_type": "markdown",
   "metadata": {},
   "source": [
    "For example:"
   ]
  },
  {
   "cell_type": "code",
   "execution_count": 114,
   "metadata": {
    "collapsed": false
   },
   "outputs": [
    {
     "name": "stdout",
     "output_type": "stream",
     "text": [
      "[[ 5.729]\n",
      " [ 0.   ]\n",
      " [ 0.   ]]\n"
     ]
    }
   ],
   "source": [
    "print(R.dot(np.array([1, 0, 0]).reshape(3, 1)))"
   ]
  },
  {
   "cell_type": "code",
   "execution_count": 115,
   "metadata": {
    "collapsed": false
   },
   "outputs": [
    {
     "name": "stdout",
     "output_type": "stream",
     "text": [
      "[[-0.693]\n",
      " [ 7.118]\n",
      " [ 0.   ]]\n"
     ]
    }
   ],
   "source": [
    "print(R.dot(np.array([0, 1, 0]).reshape(3, 1)))"
   ]
  },
  {
   "cell_type": "code",
   "execution_count": 116,
   "metadata": {
    "collapsed": false
   },
   "outputs": [
    {
     "name": "stdout",
     "output_type": "stream",
     "text": [
      "[[-1.59 ]\n",
      " [ 1.508]\n",
      " [-5.453]]\n"
     ]
    }
   ],
   "source": [
    "print(R.dot(np.array([0, 0, 1]).reshape(3, 1)))"
   ]
  },
  {
   "cell_type": "markdown",
   "metadata": {},
   "source": [
    "... and therefore we can map in the reverse direction, from basis `B` to basis `Bx`, by multiplying by the inverse of $\\mathbf{R}$:"
   ]
  },
  {
   "cell_type": "code",
   "execution_count": 117,
   "metadata": {
    "collapsed": false
   },
   "outputs": [
    {
     "name": "stdout",
     "output_type": "stream",
     "text": [
      "[[ 0.]\n",
      " [ 1.]\n",
      " [ 0.]]\n"
     ]
    }
   ],
   "source": [
    "Rinv = np.linalg.inv(R)\n",
    "print(Rinv.dot(np.array([-0.693, 7.118, 0]).reshape(3, 1)))"
   ]
  },
  {
   "cell_type": "code",
   "execution_count": 118,
   "metadata": {
    "collapsed": false
   },
   "outputs": [
    {
     "name": "stdout",
     "output_type": "stream",
     "text": [
      "[[-0.]\n",
      " [-0.]\n",
      " [ 1.]]\n"
     ]
    }
   ],
   "source": [
    "print(Rinv.dot(np.array([-1.59, 1.508, -5.453]).reshape(3, 1)))"
   ]
  },
  {
   "cell_type": "markdown",
   "metadata": {},
   "source": [
    ".... and so we can transform the projection of $\\mathbf{y}$ into basis `Bx`, by multiplying by the inverse of $\\mathbf{R}$:"
   ]
  },
  {
   "cell_type": "code",
   "execution_count": 138,
   "metadata": {
    "collapsed": false
   },
   "outputs": [
    {
     "name": "stdout",
     "output_type": "stream",
     "text": [
      "y_proj_Bx [[-0.326]\n",
      " [-0.554]\n",
      " [-0.057]]\n",
      "beta [-0.297 -0.578  0.057]\n",
      "R.dot(y_proj_B) [ -5.681 -28.194  -1.69 ]\n",
      "B.T.dot(y.reshape(3, 1)) [[-1.393]\n",
      " [-4.026]\n",
      " [ 0.31 ]]\n",
      "Rinv.dot(B.T.dot(y.reshape(3, 1))) [[-0.326]\n",
      " [-0.554]\n",
      " [-0.057]]\n"
     ]
    }
   ],
   "source": [
    "y_proj_Bx = Rinv.dot(y_proj_B.reshape(3, 1))\n",
    "print('y_proj_Bx', y_proj_Bx)\n",
    "print('beta', beta)\n",
    "print('R.dot(y_proj_B)', R.dot(y_proj_B))\n",
    "# print('R.dot')\n",
    "print('B.T.dot(y.reshape(3, 1))', B.T.dot(y.reshape(N, 1)))\n",
    "print('Rinv.dot(B.T.dot(y.reshape(3, 1)))', Rinv.dot(B.T.dot(y.reshape(N, 1))))\n"
   ]
  },
  {
   "cell_type": "markdown",
   "metadata": {},
   "source": [
    "Not quite working, so we probably need to do some actual maths for a bit :-P"
   ]
  },
  {
   "cell_type": "markdown",
   "metadata": {},
   "source": [
    "We have:\n",
    "\n",
    "$$\n",
    "\\mathbf{X} = \\mathbf{Q}\\mathbf{R}\n",
    "$$\n",
    "\n",
    "... where:\n",
    "\n",
    "- $\\mathbf{Q}$ is an $N$ by $K$ matrix\n",
    "- $\\mathbf{R}$ is a $K$ by $K$ matrix\n",
    "\n",
    "Looking at $\\mathbf{Q}$:\n",
    "\n",
    "- $\\mathbf{Q}$ has unit vectors as its columns\n",
    "- And they are orthogonal\n",
    "- This means the dot product of any column with itself is 1 (since each column vector is unit length)\n",
    "- and the dot product of any column with another column is 0 (since each column vector is orthogonal to the others)\n",
    "- and thus $\\mathbf{Q}^T\\mathbf{Q} = \\mathbf{I}$\n",
    "\n",
    "Looking at $\\mathbf{R}$:\n",
    "\n",
    "- it's upper triangular\n",
    "- it's square\n",
    "\n",
    "All three matrices, $\\mathbf{X}$, $\\mathbf{Q}$ and $\\mathbf{R}$ are of rank $K$, I think.\n",
    "\n",
    "Looking at $\\mathbf{X} = \\mathbf{Q}\\mathbf{R}$, we can think of this as a mapping, or a projection, between two vector spaces, where $\\mathbf{Q}$ is the projection matrix.  $\\mathbf{Q}$ is projecting from a space of dimension $K$ to a codomain of dimension $N$.  However the range of $\\mathbf{Q}$ has dimension $K$ (I think).  And I guess the null-space of $\\mathbf{Q}$ has dimension $N - K$?\n",
    "\n",
    "#### What is the relationship between an orthonormal basis matrix, and an orthonormal projection matrix?\n",
    "\n"
   ]
  }
 ],
 "metadata": {
  "kernelspec": {
   "display_name": "Python 3",
   "language": "python",
   "name": "python3"
  },
  "language_info": {
   "codemirror_mode": {
    "name": "ipython",
    "version": 3
   },
   "file_extension": ".py",
   "mimetype": "text/x-python",
   "name": "python",
   "nbconvert_exporter": "python",
   "pygments_lexer": "ipython3",
   "version": "3.5.2"
  }
 },
 "nbformat": 4,
 "nbformat_minor": 2
}
