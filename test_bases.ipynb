{
 "cells": [
  {
   "cell_type": "markdown",
   "metadata": {},
   "source": [
    "# test_bases\n",
    "\n",
    "Test the bases.py module\n",
    "\n",
    "Edit, in retrospect: looks like this isnt necessary, since QR decomposition gives us the exact same orthonormal basis, as Q; whilst simple matrix multiplication with the ~~basis matrix~~ __inverse of Q__ gives us the projection :-P  Nevertheless, this notebook serves to discover/demonstrate/reassure myself this is the case.\n",
    "\n",
    "Let's redo the linear least squares projections, to test this module"
   ]
  },
  {
   "cell_type": "code",
   "execution_count": 20,
   "metadata": {
    "collapsed": false
   },
   "outputs": [
    {
     "name": "stdout",
     "output_type": "stream",
     "text": [
      "beta_gt [ 0.30000001]\n",
      "X.shape (10, 1)\n",
      "y.shape (10,)\n"
     ]
    },
    {
     "data": {
      "image/png": "[encoded data removed]",
      "text/plain": [
       "<matplotlib.figure.Figure at 0x7f9cf8fb3358>"
      ]
     },
     "metadata": {},
     "output_type": "display_data"
    },
    {
     "name": "stdout",
     "output_type": "stream",
     "text": [
      "beta_est [ 0.25268061]\n"
     ]
    },
    {
     "data": {
      "image/png": "[encoded data removed]",
      "text/plain": [
       "<matplotlib.figure.Figure at 0x7f9cf8fae898>"
      ]
     },
     "metadata": {},
     "output_type": "display_data"
    },
    {
     "name": "stdout",
     "output_type": "stream",
     "text": [
      "r_beta_gt [-0.13577723 -0.01894179  0.29827793 -0.1277804  -0.08879639 -0.08687026\n",
      "  0.44118602  0.43735722  0.20081078  0.07723728]\n",
      "r_beta_est [-0.18714862  0.028252    0.3116683  -0.19905737 -0.11617541 -0.00872526\n",
      "  0.326357    0.41706133  0.26071413  0.03622364]\n",
      "sum squares, beta_gt 0.571740043145\n",
      "sum squares, beta_est 0.535889655606\n"
     ]
    }
   ],
   "source": [
    "import numpy as np\n",
    "import matplotlib.pyplot as plt\n",
    "import bases\n",
    "\n",
    "\n",
    "N = 10\n",
    "K = 1\n",
    "\n",
    "e = 0.2  # noise term\n",
    "# _gt => 'ground truth'\n",
    "beta_gt = np.array([0.3]).astype(np.float32)\n",
    "print('beta_gt', beta_gt)\n",
    "\n",
    "np.random.seed(123)\n",
    "X = np.random.randn(N, K)\n",
    "print('X.shape', X.shape)\n",
    "y = X.dot(beta_gt) + np.random.randn(N) * e\n",
    "print('y.shape', y.shape)\n",
    "\n",
    "\n",
    "# simple X-y plot:\n",
    "plt.plot(X[:, 0], y, 'x')\n",
    "plt.show()\n",
    "\n",
    "# _est => estimated\n",
    "beta_est = np.linalg.inv(X.T.dot(X)).dot(X.T.dot(y))\n",
    "print('beta_est', beta_est)\n",
    "\n",
    "plt.plot(X[:, 0], y, 'x')\n",
    "plt.plot(X[:, 0], X.dot(beta_gt), '-', label='beta_gt')\n",
    "plt.plot(X[:, 0], X.dot(beta_est), '-', label='beta_est')\n",
    "plt.legend()\n",
    "plt.show()\n",
    "\n",
    "# check residual for these two lines, compared to the actual X samples\n",
    "r_beta_gt = y - X.dot(beta_gt)\n",
    "r_beta_est = y - X.dot(beta_est)\n",
    "print('r_beta_gt', r_beta_gt)\n",
    "print('r_beta_est', r_beta_est)\n",
    "print('sum squares, beta_gt', np.sum(np.power(r_beta_gt, 2)))\n",
    "print('sum squares, beta_est', np.sum(np.power(r_beta_est, 2)))\n"
   ]
  },
  {
   "cell_type": "markdown",
   "metadata": {},
   "source": [
    "I looked at this for a bit, since I couldnt figure out why the line for `beta_est` isnt a bit higher, on the right hand side.  Suddenly I remember: oh right: it has to pass through the origin."
   ]
  },
  {
   "cell_type": "code",
   "execution_count": 33,
   "metadata": {
    "collapsed": false
   },
   "outputs": [
    {
     "name": "stdout",
     "output_type": "stream",
     "text": [
      "B [[-0.27131537]\n",
      " [ 0.24925159]\n",
      " [ 0.07072058]\n",
      " [-0.37644565]\n",
      " [-0.14460088]\n",
      " [ 0.41271877]\n",
      " [-0.60646355]\n",
      " [-0.1071917 ]\n",
      " [ 0.31637648]\n",
      " [-0.21661143]]\n",
      "norm B[:, 0] 1.0\n",
      "norm_x0 4.00136038859\n",
      "x0_dot_b0 4.00136038736\n"
     ]
    }
   ],
   "source": [
    "import bases\n",
    "import importlib\n",
    "importlib.reload(bases)\n",
    "\n",
    "\n",
    "B = bases.get_orthonormal_basis(X)\n",
    "print('B', B)\n",
    "\n",
    "# check columns of B are unit length:\n",
    "print('norm B[:, 0]', np.linalg.norm(B[:, 0]))\n",
    "assert abs(np.linalg.norm(B[:, 0]) - 1.0) <= 1e-4\n",
    "\n",
    "# check first column of B, b0, is co-linear with x0\n",
    "x0 = X[:, 0]\n",
    "norm_x0 = np.linalg.norm(x0)\n",
    "print('norm_x0', norm_x0)\n",
    "x0_dot_b0 = x0.dot(B[:, 0])\n",
    "print('x0_dot_b0', x0_dot_b0)\n",
    "assert abs(norm_x0 - x0_dot_b0) <= 1e-4"
   ]
  },
  {
   "cell_type": "markdown",
   "metadata": {},
   "source": [
    "Ok, so finally we did nothing with the whole line-of-best-fit thing, just checked the basis was orthonormal, which is easy, since only once vector.  And checked that single vector was aligned with `x0`.\n",
    "\n",
    "3 dimensions:"
   ]
  },
  {
   "cell_type": "code",
   "execution_count": 108,
   "metadata": {
    "collapsed": false
   },
   "outputs": [
    {
     "name": "stdout",
     "output_type": "stream",
     "text": [
      "loading bases\n",
      "beta_gt [-0.276 -0.552  0.121]\n",
      "X.shape (30, 3)\n",
      "y.shape (30,)\n",
      "B.shape (30, 3)\n",
      "norm B[:, 0] 1.0\n",
      "norm B[:, 1] 1.0\n",
      "norm B[:, 2] 1.0\n",
      "B.T.dot(B) [[ 1.  0. -0.]\n",
      " [ 0.  1.  0.]\n",
      " [-0.  0.  1.]]\n",
      "proj [ 5.729  0.    -0.   ]\n",
      "proj [-0.693  7.118  0.   ]\n",
      "proj [-1.59   1.508  5.453]\n"
     ]
    }
   ],
   "source": [
    "import bases\n",
    "import importlib\n",
    "importlib.reload(bases)\n",
    "\n",
    "\n",
    "N = 30\n",
    "K = 3\n",
    "\n",
    "e = 0.2  # noise term\n",
    "\n",
    "\n",
    "np.set_printoptions(suppress=True, precision=3)\n",
    "\n",
    "# _gt => 'ground truth'\n",
    "beta_gt = np.random.randn(K)\n",
    "print('beta_gt', beta_gt)\n",
    "\n",
    "np.random.seed(123)\n",
    "X = np.random.randn(N, K)\n",
    "print('X.shape', X.shape)\n",
    "y = X.dot(beta_gt) + np.random.randn(N) * e\n",
    "print('y.shape', y.shape)\n",
    "\n",
    "X_orig = np.copy(X)\n",
    "B = bases.get_orthonormal_basis(X)\n",
    "assert np.max(np.abs(X_orig - X)) <= 1e-4\n",
    "print('B.shape', B.shape)\n",
    "\n",
    "# check columns of B are unit length:\n",
    "for k in range(K):\n",
    "    print('norm B[:, %s]' % k, np.linalg.norm(B[:, k]))\n",
    "    assert abs(np.linalg.norm(B[:, k]) - 1.0) <= 1e-4\n",
    "\n",
    "# check each B[:, k] orthogonal to B[:, k2] for k in range(K), k2 in range(K)\n",
    "for k1 in range(K):\n",
    "    for k2 in range(K):\n",
    "        bk1_dot_bk2 = B[:, k1].dot(B[:, k2])\n",
    "        if k1 == k2:\n",
    "            assert abs(bk1_dot_bk2 - 1) <= 1e-4\n",
    "        else:\n",
    "            assert abs(bk1_dot_bk2 - 0) <= 1e-4\n",
    "\n",
    "print('B.T.dot(B)', B.T.dot(B))\n",
    "assert np.max(np.abs(B.T.dot(B) - np.identity(K))) <= 1e-4\n",
    "\n",
    "\n",
    "# check that the basis does in fact correspond to the columnspace of X, ie\n",
    "# if we project each column of X into this basis, then map back into\n",
    "# the original vector space of X, we retrieve the same vectors\n",
    "for k in range(K):\n",
    "    xk = X[:, k]\n",
    "    proj = bases.proj_orthonorm(xk, B)\n",
    "    print('proj', proj)\n",
    "    assert len(proj.shape) == 1\n",
    "    assert proj.shape[0] == K\n",
    "    # transform back into original space, and check the same\n",
    "    xk_2 = B.dot(proj)\n",
    "    assert np.max(np.abs(xk_2 - xk)) <= 1e-4\n"
   ]
  },
  {
   "cell_type": "markdown",
   "metadata": {},
   "source": [
    "The results of the projection, ie the triangular form of the resulting projections, look suspiciously simliar to QR.  Is it the same thing?"
   ]
  },
  {
   "cell_type": "code",
   "execution_count": 94,
   "metadata": {
    "collapsed": false
   },
   "outputs": [
    {
     "name": "stdout",
     "output_type": "stream",
     "text": [
      "Q [[-0.189  0.122  0.037]\n",
      " [-0.263 -0.107 -0.256]\n",
      " [-0.424 -0.101 -0.137]\n",
      " [-0.151 -0.11   0.031]\n",
      " [ 0.26  -0.064 -0.012]\n",
      " [-0.076  0.303 -0.295]\n",
      " [ 0.175  0.071 -0.167]\n",
      " [ 0.26  -0.106 -0.321]\n",
      " [-0.219 -0.111 -0.133]\n",
      " [-0.249 -0.044  0.219]\n",
      " [-0.045 -0.397  0.228]\n",
      " [-0.122  0.118  0.1  ]\n",
      " [ 0.     0.097  0.188]\n",
      " [ 0.05  -0.108  0.272]\n",
      " [-0.068  0.074 -0.022]\n",
      " [-0.002  0.336  0.018]\n",
      " [ 0.171  0.331  0.279]\n",
      " [-0.181  0.227  0.262]\n",
      " [ 0.005  0.151 -0.123]\n",
      " [ 0.306  0.24  -0.219]\n",
      " [-0.135  0.099  0.009]\n",
      " [-0.231  0.177 -0.032]\n",
      " [ 0.008 -0.032  0.209]\n",
      " [ 0.035  0.069  0.161]\n",
      " [ 0.203 -0.134  0.293]\n",
      " [ 0.181 -0.039 -0.041]\n",
      " [-0.146 -0.24  -0.254]\n",
      " [-0.12   0.222 -0.052]\n",
      " [-0.055 -0.158  0.107]\n",
      " [-0.212  0.273  0.107]]\n",
      "R [[ 5.729 -0.693 -1.59 ]\n",
      " [ 0.     7.118  1.508]\n",
      " [ 0.     0.    -5.453]]\n",
      "B [[-0.189  0.122 -0.037]\n",
      " [-0.263 -0.107  0.256]\n",
      " [-0.424 -0.101  0.137]\n",
      " [-0.151 -0.11  -0.031]\n",
      " [ 0.26  -0.064  0.012]\n",
      " [-0.076  0.303  0.295]\n",
      " [ 0.175  0.071  0.167]\n",
      " [ 0.26  -0.106  0.321]\n",
      " [-0.219 -0.111  0.133]\n",
      " [-0.249 -0.044 -0.219]\n",
      " [-0.045 -0.397 -0.228]\n",
      " [-0.122  0.118 -0.1  ]\n",
      " [ 0.     0.097 -0.188]\n",
      " [ 0.05  -0.108 -0.272]\n",
      " [-0.068  0.074  0.022]\n",
      " [-0.002  0.336 -0.018]\n",
      " [ 0.171  0.331 -0.279]\n",
      " [-0.181  0.227 -0.262]\n",
      " [ 0.005  0.151  0.123]\n",
      " [ 0.306  0.24   0.219]\n",
      " [-0.135  0.099 -0.009]\n",
      " [-0.231  0.177  0.032]\n",
      " [ 0.008 -0.032 -0.209]\n",
      " [ 0.035  0.069 -0.161]\n",
      " [ 0.203 -0.134 -0.293]\n",
      " [ 0.181 -0.039  0.041]\n",
      " [-0.146 -0.24   0.254]\n",
      " [-0.12   0.222  0.052]\n",
      " [-0.055 -0.158 -0.107]\n",
      " [-0.212  0.273 -0.107]]\n"
     ]
    }
   ],
   "source": [
    "Q, R = np.linalg.qr(X)\n",
    "print('Q', Q)\n",
    "print('R', R)\n",
    "print('B', B)\n"
   ]
  },
  {
   "cell_type": "markdown",
   "metadata": {},
   "source": [
    "Interesting: Q,R decomposition actually creates the basis for us.  Quoting from https://en.wikipedia.org/wiki/QR_decomposition:\n",
    "\n",
    "\"More generally, the first k columns of Q form an orthonormal basis for the span of the first k columns of A for any 1 ≤ k ≤ n.\""
   ]
  },
  {
   "cell_type": "markdown",
   "metadata": {},
   "source": [
    "Lets simply check that the beta we get by projecting $\\mathbf{y}$ into this space matches that we get from the matrix inversion formula."
   ]
  },
  {
   "cell_type": "code",
   "execution_count": 134,
   "metadata": {
    "collapsed": false
   },
   "outputs": [
    {
     "name": "stdout",
     "output_type": "stream",
     "text": [
      "y_proj_B [-1.393 -4.026  0.31 ]\n",
      "norm y_proj_B 4.271708272\n",
      "beta [-0.297 -0.578  0.057]\n"
     ]
    }
   ],
   "source": [
    "y_proj_B = y.dot(B)\n",
    "print('y_proj_B', y_proj_B)\n",
    "norm_y_proj_B = np.linalg.norm(y_proj_B)\n",
    "print('norm y_proj_B', norm_y_proj_B)\n",
    "\n",
    "beta = np.linalg.inv(X.T.dot(X)).dot(X.T.dot(y))\n",
    "print('beta', beta)"
   ]
  },
  {
   "cell_type": "markdown",
   "metadata": {},
   "source": [
    "Hmmmm, what to do with the y projection onto B, to get beta?  I suppose we need to decompose it into a basis formed from the column space of $\\mathbf{X}$?"
   ]
  },
  {
   "cell_type": "markdown",
   "metadata": {},
   "source": [
    "__Edit, in retrospect: the following bit, down as far as what follows \"At this point I reached out to ...\", doesnt work :-P, so you can simply skip to that bit, if you want to save reading all the stuff that didnt work for me.__"
   ]
  },
  {
   "cell_type": "markdown",
   "metadata": {},
   "source": [
    "Lets label the following bases:\n",
    "\n",
    "- basis `B`, as calculated above, the orthonormal basis\n",
    "- basis `Bx`, which is the basis defined by the projection of the column vectors of $\\mathbf{X}$ into vector space defined by basis `B`\n",
    "\n",
    "Let's first get the projection of $\\mathbf{X}$ into `B`.  To make sure we're getting the transposes right, lets try two columns first:"
   ]
  },
  {
   "cell_type": "code",
   "execution_count": 110,
   "metadata": {
    "collapsed": false
   },
   "outputs": [
    {
     "name": "stdout",
     "output_type": "stream",
     "text": [
      "Bx [[ 5.729 -0.693]\n",
      " [ 0.     7.118]\n",
      " [-0.     0.   ]]\n"
     ]
    }
   ],
   "source": [
    "# Bx = X[:2].T.dot(B)\n",
    "Bx2 = B.T.dot(X[:, :2])\n",
    "print('Bx2', Bx2)"
   ]
  },
  {
   "cell_type": "markdown",
   "metadata": {},
   "source": [
    "And all three columns:"
   ]
  },
  {
   "cell_type": "code",
   "execution_count": 111,
   "metadata": {
    "collapsed": false
   },
   "outputs": [
    {
     "name": "stdout",
     "output_type": "stream",
     "text": [
      "Bx [[ 5.729 -0.693 -1.59 ]\n",
      " [ 0.     7.118  1.508]\n",
      " [-0.     0.     5.453]]\n"
     ]
    }
   ],
   "source": [
    "Bx = B.T.dot(X)\n",
    "print('Bx', Bx)"
   ]
  },
  {
   "cell_type": "markdown",
   "metadata": {},
   "source": [
    "... which matches the $\\mathbf{R}$, from the QR decomposition earlier."
   ]
  },
  {
   "cell_type": "markdown",
   "metadata": {},
   "source": [
    "Thinking about this projection:\n",
    "\n",
    "- the first column represents the projection of `x0` into `B`. And since `B` was formed using the direction of `x0` as the first basis vector, so this vector is exactly aligned with the first basis vector, just the magnitude changes\n",
    "- then, the second column represents the projection of `x1` into `B`, which lies on the hyperplane formed by basis vectors `b0` and `b1`\n",
    "- and similarly, `x2` lies on the hyperplane formed by basis vectors `b0`, `b1` and `b2`\n",
    "\n",
    "So, in the basis space `Bx`, the three columns are the projection of:\n",
    "\n",
    "- $[1, 0, 0]$\n",
    "- $[0, 1, 0]$\n",
    "- $[0, 0, 1]$\n",
    "\n",
    "which as a matrix of column vectors is:\n",
    "\n",
    "$$\n",
    "\\begin{bmatrix}\n",
    "1 & 0 & 0 \\\\\n",
    "0 & 1 & 0 \\\\\n",
    "0 & 0 & 1 \\\\\n",
    "\\end{bmatrix}\n",
    "$$\n",
    "\n",
    "... and we can map from basis `Bx` to basis `B` by multiplying by matrix `R`:\n",
    "\n",
    "$$\n",
    "\\mathbf{M}_{Bx} \\mapsto_{B} \\mathbf{R}\\mathbf{M}\n",
    "$$"
   ]
  },
  {
   "cell_type": "markdown",
   "metadata": {},
   "source": [
    "For example:"
   ]
  },
  {
   "cell_type": "code",
   "execution_count": 114,
   "metadata": {
    "collapsed": false
   },
   "outputs": [
    {
     "name": "stdout",
     "output_type": "stream",
     "text": [
      "[[ 5.729]\n",
      " [ 0.   ]\n",
      " [ 0.   ]]\n"
     ]
    }
   ],
   "source": [
    "print(R.dot(np.array([1, 0, 0]).reshape(3, 1)))"
   ]
  },
  {
   "cell_type": "code",
   "execution_count": 115,
   "metadata": {
    "collapsed": false
   },
   "outputs": [
    {
     "name": "stdout",
     "output_type": "stream",
     "text": [
      "[[-0.693]\n",
      " [ 7.118]\n",
      " [ 0.   ]]\n"
     ]
    }
   ],
   "source": [
    "print(R.dot(np.array([0, 1, 0]).reshape(3, 1)))"
   ]
  },
  {
   "cell_type": "code",
   "execution_count": 116,
   "metadata": {
    "collapsed": false
   },
   "outputs": [
    {
     "name": "stdout",
     "output_type": "stream",
     "text": [
      "[[-1.59 ]\n",
      " [ 1.508]\n",
      " [-5.453]]\n"
     ]
    }
   ],
   "source": [
    "print(R.dot(np.array([0, 0, 1]).reshape(3, 1)))"
   ]
  },
  {
   "cell_type": "markdown",
   "metadata": {},
   "source": [
    "... and therefore we can map in the reverse direction, from basis `B` to basis `Bx`, by multiplying by the inverse of $\\mathbf{R}$:"
   ]
  },
  {
   "cell_type": "code",
   "execution_count": 117,
   "metadata": {
    "collapsed": false
   },
   "outputs": [
    {
     "name": "stdout",
     "output_type": "stream",
     "text": [
      "[[ 0.]\n",
      " [ 1.]\n",
      " [ 0.]]\n"
     ]
    }
   ],
   "source": [
    "Rinv = np.linalg.inv(R)\n",
    "print(Rinv.dot(np.array([-0.693, 7.118, 0]).reshape(3, 1)))"
   ]
  },
  {
   "cell_type": "code",
   "execution_count": 118,
   "metadata": {
    "collapsed": false
   },
   "outputs": [
    {
     "name": "stdout",
     "output_type": "stream",
     "text": [
      "[[-0.]\n",
      " [-0.]\n",
      " [ 1.]]\n"
     ]
    }
   ],
   "source": [
    "print(Rinv.dot(np.array([-1.59, 1.508, -5.453]).reshape(3, 1)))"
   ]
  },
  {
   "cell_type": "markdown",
   "metadata": {},
   "source": [
    ".... and so we can transform the projection of $\\mathbf{y}$ into basis `Bx`, by multiplying by the inverse of $\\mathbf{R}$:"
   ]
  },
  {
   "cell_type": "code",
   "execution_count": 138,
   "metadata": {
    "collapsed": false
   },
   "outputs": [
    {
     "name": "stdout",
     "output_type": "stream",
     "text": [
      "y_proj_Bx [[-0.326]\n",
      " [-0.554]\n",
      " [-0.057]]\n",
      "beta [-0.297 -0.578  0.057]\n",
      "R.dot(y_proj_B) [ -5.681 -28.194  -1.69 ]\n",
      "B.T.dot(y.reshape(3, 1)) [[-1.393]\n",
      " [-4.026]\n",
      " [ 0.31 ]]\n",
      "Rinv.dot(B.T.dot(y.reshape(3, 1))) [[-0.326]\n",
      " [-0.554]\n",
      " [-0.057]]\n"
     ]
    }
   ],
   "source": [
    "y_proj_Bx = Rinv.dot(y_proj_B.reshape(3, 1))\n",
    "print('y_proj_Bx', y_proj_Bx)\n",
    "print('beta', beta)\n",
    "print('R.dot(y_proj_B)', R.dot(y_proj_B))\n",
    "# print('R.dot')\n",
    "print('B.T.dot(y.reshape(3, 1))', B.T.dot(y.reshape(N, 1)))\n",
    "print('Rinv.dot(B.T.dot(y.reshape(3, 1)))', Rinv.dot(B.T.dot(y.reshape(N, 1))))\n"
   ]
  },
  {
   "cell_type": "markdown",
   "metadata": {},
   "source": [
    "Not quite working, so we probably need to do some actual maths for a bit :-P"
   ]
  },
  {
   "cell_type": "markdown",
   "metadata": {},
   "source": [
    "We have:\n",
    "\n",
    "$$\n",
    "\\mathbf{X} = \\mathbf{Q}\\mathbf{R}\n",
    "$$\n",
    "\n",
    "... where:\n",
    "\n",
    "- $\\mathbf{Q}$ is an $N$ by $K$ matrix\n",
    "- $\\mathbf{R}$ is a $K$ by $K$ matrix\n",
    "\n",
    "Looking at $\\mathbf{Q}$:\n",
    "\n",
    "- $\\mathbf{Q}$ has unit vectors as its columns\n",
    "- And they are orthogonal\n",
    "- This means the dot product of any column with itself is 1 (since each column vector is unit length)\n",
    "- and the dot product of any column with another column is 0 (since each column vector is orthogonal to the others)\n",
    "- and thus $\\mathbf{Q}^T\\mathbf{Q} = \\mathbf{I}$\n",
    "\n",
    "Looking at $\\mathbf{R}$:\n",
    "\n",
    "- it's upper triangular\n",
    "- it's square\n",
    "\n",
    "All three matrices, $\\mathbf{X}$, $\\mathbf{Q}$ and $\\mathbf{R}$ are of rank $K$, I think.\n",
    "\n",
    "Looking at $\\mathbf{X} = \\mathbf{Q}\\mathbf{R}$, we can think of this as a mapping, or a projection, between two vector spaces, where $\\mathbf{Q}$ is the projection matrix.  $\\mathbf{Q}$ is projecting from a space of dimension $K$ to a codomain of dimension $N$.  However the range of $\\mathbf{Q}$ has dimension $K$ (I think).  And I guess the null-space of $\\mathbf{Q}$ has dimension $N - K$?\n",
    "\n",
    "#### Treating $\\mathbf{Q}$ as a projection matrix\n",
    "\n",
    "A projection matrix is a linear map, from the domain, into the codomain.  In the case of $\\mathbf{Q}$, the domain has dimensionality $K$, and the codomain has dimensionality $N$.  However, the image cannot have dimensionality more than the domain, and the image should have a dimensionality matching the rank of the projection matrix (I think), ie in this case: $K$.  Then, the nullspace has dimension $N - K$.\n",
    "\n",
    "Let's call the $N$-dimensional vector space, containing $\\mathbf{y}$ and the column vectors of $\\mathbf{X}$, $U$.  And the columnspace of $\\mathbf{X}$ $V$.  $V$ is a subspace of $U$.\n",
    "\n",
    "Actually... after re-reading a bit some of the chapters on linear maps and projection in Jim Hefferon's book, I'm thinking, maybe it is clear to leave everything in the same $N$-dimensional space, and just change bases?  So, when we calculate $Q$ and $R$, in numpy rather than using the default `mode` of `reduced`, we can use the `mode` of `complete`, which wont change the dimensionality.  In this case $\\mathbf{Q}$ will be $N$ by $N$, and $R$ will ~~be also N by N~~ apparently it is $N$ by $K$, in fact:\n"
   ]
  },
  {
   "cell_type": "code",
   "execution_count": 139,
   "metadata": {
    "collapsed": false,
    "scrolled": false
   },
   "outputs": [
    {
     "name": "stdout",
     "output_type": "stream",
     "text": [
      "Q [[-0.189  0.122  0.037 -0.129  0.271 -0.041  0.212  0.396 -0.133 -0.309\n",
      "  -0.026 -0.185 -0.093 -0.025 -0.076 -0.094 -0.022 -0.329  0.012  0.315\n",
      "  -0.158 -0.256 -0.061 -0.044  0.121  0.2    0.014 -0.153 -0.052 -0.312]\n",
      " [-0.263 -0.107 -0.256 -0.148  0.023  0.247  0.117 -0.023 -0.174 -0.114\n",
      "  -0.374  0.073  0.094 -0.077  0.046  0.309  0.365  0.158  0.137  0.312\n",
      "   0.048  0.088 -0.022  0.079 -0.052  0.02  -0.273  0.164 -0.16   0.186]\n",
      " [-0.424 -0.101 -0.137 -0.006  0.096 -0.348 -0.097 -0.168 -0.175  0.111\n",
      "   0.264  0.021  0.147  0.28  -0.059 -0.052  0.243  0.12  -0.137 -0.13\n",
      "  -0.061 -0.147  0.193  0.141  0.359  0.038 -0.23  -0.133  0.105 -0.037]\n",
      " [-0.151 -0.11   0.031  0.968  0.03   0.041  0.044  0.053 -0.028 -0.056\n",
      "  -0.06  -0.014 -0.007 -0.026 -0.001  0.028  0.028 -0.027  0.024  0.08\n",
      "  -0.01  -0.013 -0.019 -0.003 -0.01   0.024 -0.019  0.008 -0.03  -0.014]\n",
      " [ 0.26  -0.064 -0.012  0.024  0.939  0.019 -0.043 -0.089  0.025  0.065\n",
      "  -0.008  0.044  0.024  0.002  0.019  0.032  0.016  0.079  0.002 -0.06\n",
      "   0.037  0.061  0.012  0.012 -0.031 -0.044 -0.011  0.04   0.006  0.077]\n",
      " [-0.076  0.303 -0.295  0.041  0.029  0.811 -0.064 -0.042 -0.007  0.067\n",
      "   0.199 -0.018  0.019  0.115 -0.034 -0.111 -0.031 -0.013 -0.086 -0.132\n",
      "  -0.037 -0.078  0.069  0.022  0.135  0.009  0.007 -0.095  0.082 -0.073]\n",
      " [ 0.175  0.071 -0.167  0.037 -0.036 -0.074  0.934 -0.098  0.013  0.086\n",
      "   0.085  0.03   0.032  0.058 -0.    -0.022  0.007  0.064 -0.038 -0.11\n",
      "   0.014  0.014  0.045  0.023  0.041 -0.032 -0.013 -0.01   0.043  0.033]\n",
      " [ 0.26  -0.106 -0.321  0.035 -0.061 -0.07  -0.089  0.828 -0.01   0.124\n",
      "   0.064  0.067  0.072  0.079  0.011  0.028  0.084  0.143 -0.035 -0.124\n",
      "   0.036  0.047  0.07   0.054  0.054 -0.053 -0.075  0.02   0.039  0.097]\n",
      " [-0.219 -0.111 -0.133 -0.032  0.046 -0.013  0.029  0.031  0.948 -0.04\n",
      "  -0.017 -0.014  0.012  0.016 -0.011  0.016  0.059 -0.013  0.003  0.06\n",
      "  -0.021 -0.037  0.009  0.017  0.045  0.031 -0.049 -0.015 -0.013 -0.023]\n",
      " [-0.249 -0.044  0.219 -0.046  0.054  0.082  0.086  0.136 -0.015  0.886\n",
      "  -0.093 -0.046 -0.046 -0.07  -0.004  0.013 -0.023 -0.097  0.043  0.136\n",
      "  -0.025 -0.03  -0.057 -0.033 -0.046  0.047  0.026  0.001 -0.049 -0.058]\n",
      " [-0.045 -0.397  0.228 -0.063 -0.004  0.194  0.085  0.06  -0.025 -0.093\n",
      "   0.777  0.013 -0.01  -0.112  0.031  0.131  0.072  0.01   0.093  0.176\n",
      "   0.028  0.063 -0.067 -0.012 -0.117  0.008 -0.04   0.094 -0.096  0.067]\n",
      " [-0.122  0.118  0.1   -0.006  0.031 -0.005  0.027  0.07   0.007 -0.042\n",
      "   0.011  0.966 -0.031 -0.015 -0.011 -0.036 -0.05  -0.069 -0.001  0.027\n",
      "  -0.023 -0.035 -0.019 -0.022 -0.001  0.025  0.04  -0.028 -0.001 -0.059]\n",
      " [ 0.     0.097  0.188  0.002  0.002  0.032  0.021  0.053  0.029 -0.03\n",
      "  -0.016 -0.02   0.966 -0.038  0.001 -0.019 -0.062 -0.05   0.012  0.02\n",
      "  -0.005 -0.001 -0.031 -0.029 -0.042  0.006  0.053 -0.001 -0.009 -0.028]\n",
      " [ 0.05  -0.108  0.272 -0.02  -0.016  0.123  0.046  0.052  0.021 -0.052\n",
      "  -0.118 -0.001 -0.03   0.915  0.019  0.05  -0.02  -0.021  0.054  0.082\n",
      "   0.018  0.044 -0.056 -0.029 -0.099 -0.002  0.027  0.052 -0.05   0.025]\n",
      " [-0.068  0.074 -0.022  0.002  0.018 -0.03   0.002  0.019 -0.003 -0.007\n",
      "   0.032 -0.015 -0.006  0.013  0.991 -0.027 -0.016 -0.025 -0.013 -0.006\n",
      "  -0.015 -0.026  0.005 -0.003  0.023  0.012  0.01  -0.024  0.011 -0.032]\n",
      " [-0.002  0.336  0.018  0.038  0.012 -0.096 -0.03   0.018  0.037  0.025\n",
      "   0.126 -0.03  -0.025  0.037 -0.021  0.899 -0.099 -0.058 -0.048 -0.086\n",
      "  -0.026 -0.047  0.014 -0.018  0.041  0.006  0.071 -0.065  0.052 -0.074]\n",
      " [ 0.171  0.331  0.279  0.045 -0.028 -0.006 -0.019  0.031  0.084  0.017\n",
      "   0.059 -0.021 -0.052 -0.029 -0.001 -0.077  0.852 -0.062 -0.014 -0.07  -0.\n",
      "   0.006 -0.028 -0.047 -0.052 -0.016  0.119 -0.02   0.027 -0.041]\n",
      " [-0.181  0.227  0.262 -0.008  0.047  0.015  0.053  0.136  0.027 -0.081\n",
      "   0.004 -0.062 -0.066 -0.046 -0.016 -0.064 -0.109  0.869  0.007  0.054\n",
      "  -0.037 -0.052 -0.048 -0.05  -0.028  0.04   0.09  -0.04  -0.007 -0.102]\n",
      " [ 0.005  0.151 -0.123  0.024  0.004 -0.086 -0.036 -0.029  0.004  0.04\n",
      "   0.095 -0.004  0.009  0.052 -0.014 -0.052 -0.02   0.     0.96  -0.072\n",
      "  -0.013 -0.029  0.032  0.009  0.056 -0.002  0.009 -0.041  0.04  -0.027]\n",
      " [ 0.306  0.24  -0.219  0.075 -0.06  -0.14  -0.116 -0.147  0.042  0.146\n",
      "   0.173  0.038  0.037  0.096 -0.005 -0.069 -0.033  0.08  -0.074  0.794\n",
      "   0.017  0.013  0.07   0.026  0.067 -0.053  0.014 -0.034  0.084  0.03 ]\n",
      " [-0.135  0.099  0.009 -0.005  0.034 -0.029  0.016  0.049 -0.006 -0.029\n",
      "   0.029 -0.028 -0.017  0.006 -0.014 -0.036 -0.027 -0.052 -0.011  0.014\n",
      "   0.976 -0.041 -0.003 -0.01   0.024  0.024  0.02  -0.034  0.007 -0.054]\n",
      " [-0.231  0.177 -0.032 -0.005  0.058 -0.067  0.02   0.072 -0.014 -0.039\n",
      "   0.066 -0.046 -0.023  0.025 -0.026 -0.067 -0.041 -0.081 -0.026  0.01\n",
      "  -0.043  0.926  0.004 -0.011  0.056  0.04   0.027 -0.063  0.019 -0.092]\n",
      " [ 0.008 -0.032  0.209 -0.013 -0.004  0.078  0.036  0.051  0.018 -0.043\n",
      "  -0.072 -0.01  -0.028 -0.059  0.01   0.021 -0.029 -0.032  0.034  0.057\n",
      "   0.006  0.02   0.958 -0.025 -0.066  0.004  0.031  0.027 -0.031  0.001]\n",
      " [ 0.035  0.069  0.161  0.004 -0.006  0.033  0.013  0.034  0.027 -0.018\n",
      "  -0.017 -0.011 -0.026 -0.034  0.003 -0.011 -0.05  -0.032  0.012  0.011\n",
      "   0.001  0.008 -0.026  0.977 -0.041 -0.     0.043  0.005 -0.008 -0.013]\n",
      " [ 0.203 -0.134  0.293 -0.006 -0.051  0.139  0.024  0.007  0.04  -0.018\n",
      "  -0.126  0.022 -0.021 -0.09   0.031  0.067 -0.018  0.019  0.058  0.05\n",
      "   0.04   0.08  -0.053 -0.026  0.876 -0.028  0.028  0.076 -0.048  0.067]\n",
      " [ 0.181 -0.039 -0.041  0.019 -0.042  0.001 -0.036 -0.07   0.015  0.053\n",
      "   0.006  0.032  0.021  0.011  0.012  0.019  0.016  0.06  -0.004 -0.051\n",
      "   0.025  0.04   0.015  0.012 -0.011  0.968 -0.012  0.024  0.009  0.053]\n",
      " [-0.146 -0.24  -0.254 -0.033  0.026 -0.013  0.009 -0.029 -0.068 -0.008\n",
      "  -0.029  0.016  0.044  0.034 -0.002  0.052  0.117  0.049  0.003  0.044\n",
      "  -0.003 -0.012  0.029  0.04   0.055  0.014  0.904  0.007 -0.014  0.027]\n",
      " [-0.12   0.222 -0.052  0.014  0.035 -0.086 -0.008  0.033  0.003 -0.002\n",
      "   0.095 -0.033 -0.015  0.038 -0.023 -0.076 -0.052 -0.056 -0.038 -0.038\n",
      "  -0.033 -0.06   0.015 -0.007  0.057  0.022  0.034  0.938  0.035 -0.075]\n",
      " [-0.055 -0.158  0.107 -0.03   0.007  0.082  0.043  0.04  -0.013 -0.05\n",
      "  -0.095 -0.001 -0.009 -0.05   0.011  0.051  0.026 -0.009  0.04   0.084\n",
      "   0.007  0.019 -0.032 -0.008 -0.048  0.01  -0.014  0.035  0.958  0.017]\n",
      " [-0.212  0.273  0.107  0.001  0.056 -0.05   0.029  0.106  0.012 -0.054\n",
      "   0.065 -0.061 -0.048  0.    -0.026 -0.087 -0.094 -0.117 -0.022  0.013\n",
      "  -0.046 -0.075 -0.017 -0.033  0.027  0.042  0.071 -0.067  0.018  0.886]]\n",
      "R [[ 5.729 -0.693 -1.59 ]\n",
      " [ 0.     7.118  1.508]\n",
      " [ 0.     0.    -5.453]\n",
      " [ 0.     0.     0.   ]\n",
      " [ 0.     0.     0.   ]\n",
      " [ 0.     0.     0.   ]\n",
      " [ 0.     0.     0.   ]\n",
      " [ 0.     0.     0.   ]\n",
      " [ 0.     0.     0.   ]\n",
      " [ 0.     0.     0.   ]\n",
      " [ 0.     0.     0.   ]\n",
      " [ 0.     0.     0.   ]\n",
      " [ 0.     0.     0.   ]\n",
      " [ 0.     0.     0.   ]\n",
      " [ 0.     0.     0.   ]\n",
      " [ 0.     0.     0.   ]\n",
      " [ 0.     0.     0.   ]\n",
      " [ 0.     0.     0.   ]\n",
      " [ 0.     0.     0.   ]\n",
      " [ 0.     0.     0.   ]\n",
      " [ 0.     0.     0.   ]\n",
      " [ 0.     0.     0.   ]\n",
      " [ 0.     0.     0.   ]\n",
      " [ 0.     0.     0.   ]\n",
      " [ 0.     0.     0.   ]\n",
      " [ 0.     0.     0.   ]\n",
      " [ 0.     0.     0.   ]\n",
      " [ 0.     0.     0.   ]\n",
      " [ 0.     0.     0.   ]\n",
      " [ 0.     0.     0.   ]]\n",
      "B [[-0.189  0.122 -0.037]\n",
      " [-0.263 -0.107  0.256]\n",
      " [-0.424 -0.101  0.137]\n",
      " [-0.151 -0.11  -0.031]\n",
      " [ 0.26  -0.064  0.012]\n",
      " [-0.076  0.303  0.295]\n",
      " [ 0.175  0.071  0.167]\n",
      " [ 0.26  -0.106  0.321]\n",
      " [-0.219 -0.111  0.133]\n",
      " [-0.249 -0.044 -0.219]\n",
      " [-0.045 -0.397 -0.228]\n",
      " [-0.122  0.118 -0.1  ]\n",
      " [ 0.     0.097 -0.188]\n",
      " [ 0.05  -0.108 -0.272]\n",
      " [-0.068  0.074  0.022]\n",
      " [-0.002  0.336 -0.018]\n",
      " [ 0.171  0.331 -0.279]\n",
      " [-0.181  0.227 -0.262]\n",
      " [ 0.005  0.151  0.123]\n",
      " [ 0.306  0.24   0.219]\n",
      " [-0.135  0.099 -0.009]\n",
      " [-0.231  0.177  0.032]\n",
      " [ 0.008 -0.032 -0.209]\n",
      " [ 0.035  0.069 -0.161]\n",
      " [ 0.203 -0.134 -0.293]\n",
      " [ 0.181 -0.039  0.041]\n",
      " [-0.146 -0.24   0.254]\n",
      " [-0.12   0.222  0.052]\n",
      " [-0.055 -0.158 -0.107]\n",
      " [-0.212  0.273 -0.107]]\n"
     ]
    }
   ],
   "source": [
    "Q, R = np.linalg.qr(X, mode='complete')\n",
    "print('Q', Q)\n",
    "print('R', R)\n",
    "print('B', B)"
   ]
  },
  {
   "cell_type": "markdown",
   "metadata": {},
   "source": [
    "Presumably the columns of $\\mathbf{Q}$ are still unit length and orthogonal?"
   ]
  },
  {
   "cell_type": "code",
   "execution_count": 140,
   "metadata": {
    "collapsed": false
   },
   "outputs": [
    {
     "name": "stdout",
     "output_type": "stream",
     "text": [
      "[[ 1. -0. -0.  0. -0.  0. -0.  0.  0. -0. -0.  0.  0. -0.  0.  0. -0.  0.\n",
      "  -0. -0.  0. -0.  0.  0.  0. -0. -0.  0.  0.  0.]\n",
      " [-0.  1.  0.  0.  0. -0.  0.  0.  0.  0.  0. -0. -0.  0. -0. -0. -0. -0.\n",
      "  -0. -0. -0. -0. -0. -0.  0.  0.  0. -0.  0. -0.]\n",
      " [-0.  0.  1. -0.  0.  0.  0.  0.  0. -0. -0. -0. -0. -0.  0. -0. -0. -0.\n",
      "   0.  0. -0.  0. -0. -0. -0.  0.  0.  0. -0. -0.]\n",
      " [ 0.  0. -0.  1. -0. -0. -0. -0.  0.  0.  0.  0.  0.  0. -0. -0. -0.  0.\n",
      "  -0. -0. -0. -0.  0.  0.  0.  0.  0. -0.  0.  0.]\n",
      " [-0.  0.  0. -0.  1. -0.  0.  0. -0. -0.  0. -0. -0.  0. -0. -0.  0. -0.\n",
      "  -0.  0. -0. -0. -0. -0.  0.  0.  0. -0. -0. -0.]\n",
      " [ 0. -0.  0. -0. -0.  1. -0.  0.  0. -0.  0. -0. -0. -0.  0.  0. -0. -0.\n",
      "   0. -0.  0.  0. -0. -0. -0. -0. -0.  0. -0.  0.]\n",
      " [-0.  0.  0. -0.  0. -0.  1. -0. -0. -0.  0. -0. -0. -0.  0. -0. -0. -0.\n",
      "   0. -0.  0.  0.  0. -0. -0. -0. -0.  0. -0. -0.]\n",
      " [ 0.  0.  0. -0.  0.  0. -0.  1. -0. -0. -0.  0. -0. -0.  0. -0. -0. -0.\n",
      "   0.  0.  0.  0. -0. -0. -0. -0.  0.  0. -0. -0.]\n",
      " [ 0.  0.  0.  0. -0.  0. -0. -0.  1. -0. -0.  0. -0. -0.  0.  0. -0.  0.\n",
      "   0.  0.  0. -0.  0.  0.  0. -0.  0.  0. -0.  0.]\n",
      " [-0.  0. -0.  0. -0. -0. -0. -0. -0.  1.  0.  0.  0.  0. -0.  0.  0.  0.\n",
      "  -0. -0. -0. -0.  0.  0.  0.  0. -0. -0.  0.  0.]\n",
      " [-0.  0. -0.  0.  0.  0.  0. -0. -0.  0.  1. -0.  0.  0. -0. -0. -0.  0.\n",
      "  -0.  0. -0. -0.  0. -0.  0.  0.  0. -0.  0. -0.]\n",
      " [ 0. -0. -0.  0. -0. -0. -0.  0.  0.  0. -0.  1.  0.  0. -0.  0.  0.  0.\n",
      "  -0.  0. -0.  0.  0.  0.  0.  0. -0.  0.  0.  0.]\n",
      " [ 0. -0. -0.  0. -0. -0. -0. -0. -0.  0.  0.  0.  1.  0.  0.  0.  0.  0.\n",
      "  -0. -0.  0.  0.  0.  0.  0.  0. -0.  0.  0.  0.]\n",
      " [-0.  0. -0.  0.  0. -0. -0. -0. -0.  0.  0.  0.  0.  1. -0.  0.  0.  0.\n",
      "  -0.  0. -0. -0.  0.  0.  0.  0. -0. -0. -0.  0.]\n",
      " [ 0. -0.  0. -0. -0.  0.  0.  0.  0. -0. -0. -0.  0. -0.  1.  0. -0.  0.\n",
      "   0.  0. -0.  0. -0.  0.  0.  0.  0.  0. -0. -0.]\n",
      " [ 0. -0. -0. -0. -0.  0. -0. -0.  0.  0. -0.  0.  0.  0.  0.  1.  0.  0.\n",
      "   0.  0.  0.  0.  0.  0. -0. -0. -0.  0. -0.  0.]\n",
      " [-0. -0. -0. -0.  0. -0. -0. -0. -0.  0. -0.  0.  0.  0. -0.  0.  1.  0.\n",
      "  -0. -0.  0.  0.  0.  0.  0. -0. -0.  0.  0. -0.]\n",
      " [ 0. -0. -0.  0. -0. -0. -0. -0.  0.  0.  0.  0.  0.  0.  0.  0.  0.  1.\n",
      "  -0. -0.  0.  0.  0.  0.  0. -0. -0.  0.  0.  0.]\n",
      " [-0. -0.  0. -0. -0.  0.  0.  0.  0. -0. -0. -0. -0. -0.  0.  0. -0. -0.\n",
      "   1.  0.  0.  0. -0. -0. -0.  0.  0.  0. -0. -0.]\n",
      " [-0. -0.  0. -0.  0. -0. -0.  0.  0. -0.  0.  0. -0.  0.  0.  0. -0. -0.\n",
      "   0.  1.  0.  0. -0. -0. -0. -0. -0.  0. -0.  0.]\n",
      " [ 0. -0. -0. -0. -0.  0.  0.  0.  0. -0. -0. -0.  0. -0. -0.  0.  0.  0.\n",
      "   0.  0.  1.  0. -0.  0. -0.  0. -0.  0. -0.  0.]\n",
      " [-0. -0.  0. -0. -0.  0.  0.  0. -0. -0. -0.  0.  0. -0.  0.  0.  0.  0.\n",
      "   0.  0.  0.  1.  0.  0.  0.  0. -0.  0. -0. -0.]\n",
      " [ 0. -0. -0.  0. -0. -0.  0. -0.  0.  0.  0.  0.  0.  0. -0.  0.  0.  0.\n",
      "  -0. -0. -0.  0.  1.  0.  0.  0. -0. -0.  0.  0.]\n",
      " [ 0. -0. -0.  0. -0. -0. -0. -0.  0.  0. -0.  0.  0.  0.  0.  0.  0.  0.\n",
      "  -0. -0.  0.  0.  0.  1. -0. -0.  0.  0.  0.  0.]\n",
      " [ 0.  0. -0.  0.  0. -0. -0. -0.  0.  0.  0.  0.  0.  0.  0. -0.  0.  0.\n",
      "  -0. -0. -0.  0.  0. -0.  1. -0.  0. -0.  0. -0.]\n",
      " [-0.  0.  0.  0.  0. -0. -0. -0. -0.  0.  0.  0.  0.  0.  0. -0. -0. -0.\n",
      "   0. -0.  0.  0.  0. -0. -0.  1.  0.  0.  0.  0.]\n",
      " [-0.  0.  0.  0.  0. -0. -0.  0.  0. -0.  0. -0. -0. -0.  0. -0. -0. -0.\n",
      "   0. -0. -0. -0. -0.  0.  0.  0.  1. -0.  0. -0.]\n",
      " [ 0. -0.  0. -0. -0.  0.  0.  0.  0. -0. -0.  0.  0. -0.  0.  0.  0.  0.\n",
      "   0.  0.  0.  0. -0.  0. -0.  0. -0.  1. -0.  0.]\n",
      " [ 0.  0. -0.  0. -0. -0. -0. -0. -0.  0.  0.  0.  0. -0. -0. -0.  0.  0.\n",
      "  -0. -0. -0. -0.  0.  0.  0.  0.  0. -0.  1.  0.]\n",
      " [ 0. -0. -0.  0. -0.  0. -0. -0.  0.  0. -0.  0.  0.  0. -0.  0. -0.  0.\n",
      "  -0.  0.  0. -0.  0.  0. -0.  0. -0.  0.  0.  1.]]\n"
     ]
    }
   ],
   "source": [
    "print(Q.T.dot(Q))"
   ]
  },
  {
   "cell_type": "markdown",
   "metadata": {},
   "source": [
    "... Yes"
   ]
  },
  {
   "cell_type": "markdown",
   "metadata": {},
   "source": [
    "So, now $\\mathbf{Q}$ is a projection onto the original $N$-dimensional vector space.  The range space has dimension $K$, and the null space has dimension $N - K$.  The projection of $\\mathbf{R}$ by $\\mathbf{Q}$ gives $\\mathbf{X}$.  $\\mathbf{R}$ comprises three vectors, each of which are projected to one of the column vectors of $\\mathbf{X}$.  The standard basis for $N$-dimensions is $\\epsilon_N$.  Let's use $\\mathbf{Q}$ as a set of bases vectors, and denote each basis vector as $\\mathbf{q}_1, \\mathbf{q}_2,\\dots,\\mathbf{q}_N$.  Then we have the following:\n",
    "\n",
    "$$\n",
    "\\mathrm{Rep}_{\\mathbf{Q}}(\\mathbf{Q}) = \\mathbf{I}\n",
    "$$\n",
    "\n",
    "What is $\\mathrm{Rep}_{\\mathbf{Q}}(\\mathbf{X})$? I guess it should be $\\mathbf{R}$?  But how to show this mathematically?\n",
    "\n",
    "$\\mathbf{X}$ is $\\mathrm{Rep}_{\\mathbf{\\epsilon}_N}(\\mathbf{X})$.  Can we create a matrix that maps from basis $\\mathbf{\\epsilon}_N$ into basis $\\mathbf{Q}$? Following Hefferon's book ,chapter \"Changin representations of vectors\", we want perhaps:\n",
    "\n",
    "$$\n",
    "\\mathrm{Rep}_{\\mathbf{\\epsilon}_N, \\mathbf{Q}}(\\mathrm{id})\n",
    "$$\n",
    "\n",
    "ie, we want the change of basis matrix, from basis $\\mathrm{\\epsilon}_N$ to basis $\\mathbf{Q}$.  It should be calculated as:\n",
    "\n",
    "$$\n",
    "\\mathrm{Rep}_{\\mathbf{\\epsilon}_N, \\mathbf{Q}}(\\mathrm{id})\n",
    "=\n",
    "\\begin{bmatrix}\n",
    "\\mathrm{Rep}_{\\mathbf{Q}}(\\mathbf{e}_1) & \\mathrm{Rep}_{\\mathbf{Q}}(\\mathbf{e}_2) & \\dots & \\mathrm{Rep}_{\\mathbf{Q}}(\\mathbf{e}_N) \\\\\n",
    "\\end{bmatrix}\n",
    "$$\n",
    "\n",
    "I suspect that this matrix is going to end up being the inverse of $\\mathbf{Q}$, in order words $\\mathbf{Q}^T$, but I cant quite see how to prove that.  But perhaps going the other way, ie $\\mathrm{Rep}_{\\mathbf{Q},\\mathbf{\\epsilon}_N}$ will be $\\mathbf{Q}$, and not involve inversion/transpose?\n",
    "\n",
    "$$\n",
    "\\mathrm{Rep}_{\\mathbf{Q},\\mathbf{\\epsilon}_N}\n",
    "= \n",
    "$$"
   ]
  },
  {
   "cell_type": "markdown",
   "metadata": {},
   "source": [
    "Lets go from statement (5) of theorem 2.20 from the Hefferon book:\n",
    "\n",
    "\"(5) If $<\\mathbf{\\beta}_1,\\dots,\\mathbf{\\beta}_n>$ is a basis for $V$ then $<h(\\mathbf{\\beta}_1),\\dots,h(\\mathbf{\\beta}_n)>$ is a basis for $\\mathcal{R}(h)$\"\n",
    "\n",
    "So, let's look at the effect of $\\mathbf{Q}$ on $e_1, e_2, ...$:\n",
    "\n",
    "$$\n",
    "\\mathbf{Q}\\mathbf{e}_1 = \\mathbf{q}_1\n",
    "$$\n",
    "&nbsp;\n",
    "\n",
    "$$\n",
    "\\mathbf{Q}\\mathbf{e}_2 = \\mathbf{q}_2\n",
    "$$\n",
    "&nbsp;\n",
    "\n",
    "etc ...\n",
    "\n",
    "So, if $\\mathbf{Q}$ represnets a mapping $\\mathcal{R}^N \\rightarrow \\mathcal{R}^N$, then we can use $\\mathbf{q}_1, \\mathbf{q}_2, \\dots, \\mathbf{q}_N$ as a basis for the the range space of this mapping.\n",
    "\n",
    "If $\\mathbf{Q}$ represents a mapping from $\\mathbf{\\epsilon}_N$ to $\\mathbf{\\epsilon}_N$, then the mapping matrix is simply $\\mathbf{Q}$.\n"
   ]
  },
  {
   "cell_type": "markdown",
   "metadata": {},
   "source": [
    "At this point I reached out to http://math.stackexchange.com/questions/340978/change-of-basis-matrix-to-convert-standard-basis-to-another-basis/340991#340991 and  https://en.wikipedia.org/wiki/Change_of_basis ...\n",
    "\n",
    "Combining these somewhat, if we have some matrix $\\mathbf{M}$, whose columns are the new basis, let's call the basis $\\mathbf{F}$, then $\\mathbf{M}$ is the matrix of the linear map, and let's say $\\mathbf{M}$ is $N$ by $N$, so:\n",
    "\n",
    "$$\n",
    "Id: (\\mathbb{R}^N, \\mathbf{F}) \\rightarrow (\\mathbb{R}^N, \\mathbf{\\epsilon}_N)\n",
    "$$\n",
    "\n",
    "This makes sense: if we take standard vector $\\mathbf{x} = \\mathbf{e}_1$, and multiply it by $\\mathbf{M}$, we will obtain the first column of $\\mathbf{M}$.  So, if $\\mathbf{x}$ is in the $\\mathbf{M}$ basis, we get the coordinates of $\\mathbf{x}$ in standard basis, as required.  Ditto for $x = \\mathbf{e}_2$, $\\mathbf{x} = \\mathbf{e}_3$, etc.\n",
    "\n",
    "So:\n",
    "\n",
    "$$\\mathrm{Rep}_{\\mathbf{F}, \\mathbf{\\epsilon}_N}(\\mathbf{x}) = \\mathbf{M}\\mathbf{x}\n",
    "$$\n",
    "\n",
    "Conversely, if we want to map from standard basis to basis $\\mathbf{F}$, we should invert the transformation, ie multiply by the inverse of $\\mathbf{M}$:\n",
    "\n",
    "$$\\mathrm{Rep}_{\\mathbf{\\epsilon}_N, \\mathbf{F}}(\\mathbf{x}) = \\mathbf{M}^{-1}\\mathbf{x}\n",
    "$$\n",
    "\n"
   ]
  },
  {
   "cell_type": "markdown",
   "metadata": {},
   "source": [
    "Let's go back to the \"reduced\" Q,R matrix, where $\\mathbf{Q}$ is $N$ by $K$, and $\\mathbf{R}$ is $K$ by $K$.  Let's say that $\\mathbf{Q}$ represents a mapping $q$ from basis $F$ in vector space $V$ to basis $E$ in vectors space $U$.  $\\mathbf{Q}$ has $K$ columns, and $N$ rows, so it's a mapping from a $K$-dimensional domain to an $N$-dimensional codomain.  Let's say the codomain, $U$ is the $N$-dimensional space containing $\\mathbf{X}$ vectors and $\\mathbf{y}$. Note that the vector space spanned by $\\mathbf{X}$ is a $K$-dimensional subspace of $U$.  Can we prove that the range of $q$ is the vector space spanned by $\\mathbf{X}$?  Let's call the vector space spanned by $\\mathbf{X}$ $W$.\n",
    "\n",
    "Can we prove that $\\mathcal{R}(q) = W$?\n",
    "\n",
    "Let's look at the image of the standard basis vectors $\\mathbf{e}_1, \\mathbf{e}_2, \\dots, \\mathbf{e}_K$ of the vector space $V$.  The mapping $q$, represented by $\\mathbf{Q}$, will map them to $\\mathbf{Q}$\n",
    "\n",
    "$$\n",
    "\\mathrm{Rep}_{\\mathbf{E}_K}(\\mathbf{I}) \\mapsto_q \\mathrm{Rep}_{\\mathbf{E}_N}(\\mathbf{Q})\n",
    "$$\n",
    "&nbsp;\n",
    "\n",
    "$$\n",
    "q: \\mathrm{Rep}_{\\mathbf{E}_K}(\\mathbf{I}) \\rightarrow \\mathrm{Rep}_{\\mathbf{E}_N}(\\mathbf{Q})\n",
    "$$\n",
    "\n",
    "Since $\\mathbf{X} = \\mathbf{Q}\\mathbf{R}$, and rank $\\mathbf{Q}$ is $K$, equals the rank of $\\mathbf{X}$, so the columnspace spanned by $\\mathbf{Q}$ must match that spanned by $\\mathbf{X}$. So the range of mapping $q$ is $W$, the vector space spanned by the columnspace of $\\mathbf{X}$.\n",
    "\n",
    "$\\mathbf{Q}^T\\mathbf{Q} = \\mathbf{I}$, so we can reverse the mapping using $\\mathbf{Q}^T$. Note that the inverse mapping is a projection, from $N$-dimensions to $K$-dimensions, where $N > K$, so the inverse mapping does not itself have an inverse.  ie, it is not true to say that $\\mathbf{Q}\\mathbf{Q}^T = \\mathbf{I}$.\n",
    "\n",
    "The inverse mapping is:\n",
    "\n",
    "$$\n",
    "q^{-1}: \\mathrm{Rep}_{\\mathbf{E}_N}(\\mathbf{Q}) \\rightarrow \\mathrm{Rep}_{\\mathbf{E}_K}(\\mathbf{I})\n",
    "$$\n",
    "\n",
    "ie, $\\mathbf{Q}^T$ maps from vector space $U$ to vector space $V$, using the standard basis in each vector space.\n",
    "\n",
    "What is $\\mathbf{Q}^T\\mathbf{X}$?  It wont map to $\\mathbf{I}$ in general, since in general $\\mathbf{X}$ is not orthonormal, therefore $\\mathbf{Q} \\ne \\mathbf{X}$, and $\\mathrm{Rep}_{\\mathbf{E}_N}(\\mathbf{Q}^T\\mathbf{Q}) \\rightarrow_{q^{-1}} (\\mathrm{Rep}_{\\mathbf{E}_K}\\mathbf{I})$, so $\\mathbf{Q}^T\\mathbf{X}$ cannot itself map to $\\mathbf{X}$.  We have:\n",
    "\n",
    "$$\n",
    "\\mathbf{X} = \\mathbf{Q}\\mathbf{R}\n",
    "$$\n",
    "\n",
    "Therefore:\n",
    "\n",
    "$$\n",
    "\\mathbf{Q}^T\\mathbf{X} = \\mathbf{Q}^T\\mathbf{Q}\\mathbf{R}\n",
    "$$\n",
    "\n",
    "But $\\mathbf{Q}$ is orthonormal, so $\\mathbf{Q}^T\\mathbf{Q} = \\mathbf{I}$, so:\n",
    "\n",
    "$$\n",
    "\\mathbf{Q}^T\\mathbf{X} = \\mathbf{R}\n",
    "$$\n",
    "\n",
    "Therefore:\n",
    "\n",
    "$$\n",
    "q^{-1}: \\mathrm{Rep}_{\\mathbf{E}_N}(\\mathbf{X}) \\rightarrow \\mathrm{Rep}_{\\mathbf{E}_K}(\\mathbf{R})\n",
    "$$\n",
    "\n",
    "Lets recheck some of this numerically:"
   ]
  },
  {
   "cell_type": "code",
   "execution_count": 145,
   "metadata": {
    "collapsed": false
   },
   "outputs": [
    {
     "name": "stdout",
     "output_type": "stream",
     "text": [
      "R\n",
      " [[ 5.729 -0.693 -1.59 ]\n",
      " [ 0.     7.118  1.508]\n",
      " [ 0.     0.    -5.453]]\n",
      "Q.T.dot(X)\n",
      " [[ 5.729 -0.693 -1.59 ]\n",
      " [ 0.     7.118  1.508]\n",
      " [-0.     0.    -5.453]]\n"
     ]
    }
   ],
   "source": [
    "Q, R = np.linalg.qr(X, mode='reduced')\n",
    "\n",
    "print('R\\n', R)\n",
    "print('Q.T.dot(X)\\n', Q.T.dot(X))"
   ]
  },
  {
   "cell_type": "markdown",
   "metadata": {},
   "source": [
    "$\\mathbf{Q}^T\\mathbf{X}$ matches $\\mathbf{R}$.  A good start :-)"
   ]
  },
  {
   "cell_type": "markdown",
   "metadata": {},
   "source": [
    "Next, to calculate $\\beta$, we're going to project $\\mathbf{y}$ into vector space $V$, using $\\mathbf{Q}^T$.  Let's denote this projection of $\\mathbf{y}$ by $\\mathbf{\\hat{y}}$.  We want to minimize the residuals:\n",
    "\n",
    "$$\n",
    "\\mathbf{r} = \\mathbf{y} - \\mathbf{X}\\mathbf{\\beta}\n",
    "$$\n",
    "\n",
    "We're going to project $\\mathbf{y}$ orthogonally into the subspace spanned by the columns of $\\mathbf{X}$, giving $\\mathbf{\\hat{y}}$, and set the difference to $\\mathbf{0}$:\n",
    "\n",
    "$$\n",
    "\\mathbf{X}\\mathbf{\\beta} = \\mathbf{\\hat{y}}\n",
    "$$\n",
    "\n",
    "The projection from $U$ to $V$ for $\\mathbf{y}$ is:\n",
    "\n",
    "$$\n",
    "q^{-1}: \\mathrm{Rep}_{\\mathbf{E}_N}(\\mathbf{y}) \\rightarrow \\mathrm{Rep}_{\\mathbf{E}_K}(\\mathbf{Q}^T\\mathbf{y})\n",
    "$$\n",
    "\n",
    "Let's try applying $\\mathbf{Q}^T$ to the expression for the residual:\n",
    "\n",
    "$$\n",
    "\\mathrm{Q}^T\\mathbf{r} = \\mathrm{Q}^T\\mathbf{y} - \\mathrm{Q}^T\\mathbf{X}\\mathbf{\\beta}\n",
    "$$\n"
   ]
  },
  {
   "cell_type": "markdown",
   "metadata": {},
   "source": [
    "Since the residual vector $\\mathbf{r}$ is orthogonal to the columnspace of $\\mathbf{X}$, and therefore in the null space of the projectoin $\\mathbf{Q}^T$, so:\n",
    "\n",
    "$$\\mathbf{Q}^T\\mathbf{r} = \\mathbf{0}$$\n",
    "\n",
    "In addition:\n",
    "\n",
    "$$\\mathbf{Q}^T\\mathbf{y} = \\mathbf{\\hat{y}}$$\n",
    "\n",
    "So, we have:\n",
    "\n",
    "$$\n",
    "\\mathbf{Q}^T\\mathbf{X}\\mathbf{\\beta} = \\mathbf{Q}^T\\mathbf{y}\n",
    "$$\n",
    "\n",
    "Therefore:\n",
    "\n",
    "$$\n",
    "\\mathbf{\\beta} = (\\mathbf{Q}^T\\mathbf{X})^{-1} \\mathbf{Q}^T\\mathbf{y}\n",
    "$$\n",
    "\n",
    "Lets try this:"
   ]
  },
  {
   "cell_type": "code",
   "execution_count": 146,
   "metadata": {
    "collapsed": false
   },
   "outputs": [
    {
     "name": "stdout",
     "output_type": "stream",
     "text": [
      "beta_attempt\n",
      " [-0.297 -0.578  0.057]\n",
      "beta\n",
      " [-0.297 -0.578  0.057]\n"
     ]
    }
   ],
   "source": [
    "beta_attempt = np.linalg.inv(Q.T.dot(X)).dot(Q.T.dot(y))\n",
    "print('beta_attempt\\n', beta_attempt)\n",
    "print('beta\\n', beta)"
   ]
  },
  {
   "cell_type": "markdown",
   "metadata": {},
   "source": [
    "Matches.  Yay :-)"
   ]
  },
  {
   "cell_type": "markdown",
   "metadata": {},
   "source": [
    "Can we relate $(\\mathbf{Q}^T\\mathbf{X})^{-1}$ to $\\mathbf{R}$ somehow?  We have:\n",
    "\n",
    "$$\n",
    "\\mathbf{X} = \\mathbf{Q}\\mathbf{R}\n",
    "$$\n"
   ]
  },
  {
   "cell_type": "markdown",
   "metadata": {},
   "source": [
    "So:\n",
    "\n",
    "$$\n",
    "\\mathbf{Q}^T\\mathbf{X} = \\mathbf{R}\n",
    "$$\n",
    "\n",
    "So:\n",
    "\n",
    "$$\n",
    "(\\mathbf{Q}^T\\mathbf{X})^{-1} = \\mathbf{R}^{-1}\n",
    "$$\n",
    "\n",
    "So, that might hopefully mean that:\n",
    "\n",
    "$$\n",
    "\\beta = \\mathbf{R}^{-1}\\mathbf{Q}^T\\mathbf{y}\n",
    "$$\n",
    "\n",
    "Let's try that:"
   ]
  },
  {
   "cell_type": "code",
   "execution_count": 147,
   "metadata": {
    "collapsed": false
   },
   "outputs": [
    {
     "name": "stdout",
     "output_type": "stream",
     "text": [
      "beta_attempt\n",
      " [-0.297 -0.578  0.057]\n",
      "beta\n",
      " [-0.297 -0.578  0.057]\n"
     ]
    }
   ],
   "source": [
    "beta_attempt = np.linalg.inv(R).dot(Q.T.dot(y))\n",
    "print('beta_attempt\\n', beta_attempt)\n",
    "print('beta\\n', beta)"
   ]
  },
  {
   "cell_type": "markdown",
   "metadata": {},
   "source": [
    "Matches. Yay :-)"
   ]
  },
  {
   "cell_type": "markdown",
   "metadata": {},
   "source": [
    "## Graphical projection of the data\n",
    "\n",
    "Let's do the graphical projection, for K=2"
   ]
  },
  {
   "cell_type": "code",
   "execution_count": 176,
   "metadata": {
    "collapsed": false
   },
   "outputs": [
    {
     "name": "stdout",
     "output_type": "stream",
     "text": [
      "beta_gt [ 0.288 -0.463]\n",
      "X.shape (30, 2)\n",
      "y.shape (30,)\n",
      "y_proj [ 2.782 -2.117]\n",
      "X_proj [[ 5.368 -2.179]\n",
      " [-0.     5.065]]\n",
      "beta_inv [ 0.349 -0.418]\n",
      "beta_qr_ish [ 0.349 -0.418]\n",
      "scaled_max_range 9.0\n"
     ]
    },
    {
     "data": {
      "image/png": "[encoded data removed]",
      "text/plain": [
       "<matplotlib.figure.Figure at 0x7f9cf8fac390>"
      ]
     },
     "metadata": {},
     "output_type": "display_data"
    }
   ],
   "source": [
    "import mylib\n",
    "import importlib\n",
    "importlib.reload(mylib)\n",
    "import matplotlib.pyplot as plt\n",
    "\n",
    "\n",
    "N = 30\n",
    "K = 2\n",
    "\n",
    "e = 0.2  # noise term\n",
    "\n",
    "\n",
    "np.random.seed(124)\n",
    "np.set_printoptions(suppress=True, precision=3)\n",
    "\n",
    "# _gt => 'ground truth'\n",
    "beta_gt = np.random.randn(K)\n",
    "print('beta_gt', beta_gt)\n",
    "\n",
    "X = np.random.randn(N, K)\n",
    "print('X.shape', X.shape)\n",
    "y = X.dot(beta_gt) + np.random.randn(N) * e\n",
    "print('y.shape', y.shape)\n",
    "\n",
    "Q, R = np.linalg.qr(X)\n",
    "y_proj = Q.T.dot(y)\n",
    "print('y_proj', y_proj)\n",
    "X_proj = Q.T.dot(X)\n",
    "print('X_proj', X_proj)\n",
    "# mylib.plot_vector()\n",
    "\n",
    "beta_inv = np.linalg.inv(X.T.dot(X)).dot(X.T.dot(y))\n",
    "print('beta_inv', beta_inv)\n",
    "beta_qr_ish = np.linalg.inv(R).dot(Q.T.dot(y))  # 'ish', since this isnt the 'official' way to use QR to get beta\n",
    "print('beta_qr_ish', beta_qr_ish)\n",
    "\n",
    "mylib.proportional_axes(xlim=[-2.5, 6], ylim=[-3, 6])\n",
    "mylib.plot_vector(y_proj, '-x', label='y')\n",
    "for k in range(K):\n",
    "    mylib.plot_vector(X_proj[:, k], '-x', label='x%s' % k)\n",
    "    mylib.plot_vector(X_proj[:, k] * beta_qr_ish[k], '-o', label='x[%s] beta[%s]' % (k, k))\n",
    "plt.legend()\n",
    "plt.xlabel('b0')\n",
    "plt.ylabel('b1')\n",
    "plt.show()"
   ]
  },
  {
   "cell_type": "markdown",
   "metadata": {},
   "source": [
    "Seems plausible looking :-)  We can see:\n",
    "\n",
    "- $\\mathbf{x}_0$ and $\\mathbf{x}_1$ are not colinear\n",
    "- nor are $\\mathbf{x}_0$, $\\mathbf{x}_1$, $\\mathbf{y}$ colinear\n",
    "- $\\mathbf{x}_0\\beta_0 + \\mathbf{x}_1\\beta_1$ looks plausibly like it equals $\\mathbf{y}$"
   ]
  },
  {
   "cell_type": "markdown",
   "metadata": {},
   "source": [
    "Lets retry the beta solving, using QR, without doing an explicit inversion of R, which is upper-triangular after all:"
   ]
  },
  {
   "cell_type": "code",
   "execution_count": 184,
   "metadata": {
    "collapsed": false
   },
   "outputs": [
    {
     "name": "stdout",
     "output_type": "stream",
     "text": [
      "beta_qr [ 0.349 -0.418]\n",
      "beta_inv [ 0.349 -0.418]\n"
     ]
    }
   ],
   "source": [
    "# what we had before:\n",
    "# beta_qr_ish = np.linalg.inv(R).dot(Q.T.dot(y))\n",
    "\n",
    "# so:\n",
    "# - transposing Q is harmless enough\n",
    "# - matrix multiplication with y seems reasonable\n",
    "# - we can use a triangular solver instead of inverting R:\n",
    "\n",
    "import scipy.linalg\n",
    "\n",
    "beta_qr = scipy.linalg.solve_triangular(R, Q.T.dot(y))\n",
    "print('beta_qr', beta_qr)\n",
    "print('beta_inv', beta_inv)\n"
   ]
  },
  {
   "cell_type": "markdown",
   "metadata": {},
   "source": [
    "Matches, and avoids forming the inverse of $\\mathbf{R}$, so seems ok-ish?\n",
    "\n",
    "... and... checking wikipedia https://en.wikipedia.org/wiki/Linear_least_squares_%28mathematics%29  seems it is in fact the official way :-)  wikipedia states:\n",
    "\n",
    "\n",
    "![](img/wiki_qr.png)\n",
    "\n",
    "... which matches the formula above."
   ]
  }
 ],
 "metadata": {
  "kernelspec": {
   "display_name": "Python 3",
   "language": "python",
   "name": "python3"
  },
  "language_info": {
   "codemirror_mode": {
    "name": "ipython",
    "version": 3
   },
   "file_extension": ".py",
   "mimetype": "text/x-python",
   "name": "python",
   "nbconvert_exporter": "python",
   "pygments_lexer": "ipython3",
   "version": "3.5.2"
  }
 },
 "nbformat": 4,
 "nbformat_minor": 2
}
